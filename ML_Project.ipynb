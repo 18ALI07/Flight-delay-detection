{
  "nbformat": 4,
  "nbformat_minor": 0,
  "metadata": {
    "colab": {
      "provenance": [],
      "include_colab_link": true
    },
    "kernelspec": {
      "name": "python3",
      "display_name": "Python 3"
    },
    "language_info": {
      "name": "python"
    }
  },
  "cells": [
    {
      "cell_type": "markdown",
      "metadata": {
        "id": "view-in-github",
        "colab_type": "text"
      },
      "source": [
        "<a href=\"https://colab.research.google.com/github/18ALI07/Flight-delay-detection/blob/main/ML_Project.ipynb\" target=\"_parent\"><img src=\"https://colab.research.google.com/assets/colab-badge.svg\" alt=\"Open In Colab\"/></a>"
      ]
    },
    {
      "cell_type": "code",
      "source": [
        "!pip install category_encoders"
      ],
      "metadata": {
        "colab": {
          "base_uri": "https://localhost:8080/"
        },
        "id": "NiE4qFv4koQ3",
        "outputId": "1121e06c-0e24-41fc-9017-d7086fe97400"
      },
      "execution_count": null,
      "outputs": [
        {
          "output_type": "stream",
          "name": "stdout",
          "text": [
            "Looking in indexes: https://pypi.org/simple, https://us-python.pkg.dev/colab-wheels/public/simple/\n",
            "Collecting category_encoders\n",
            "  Downloading category_encoders-2.6.1-py2.py3-none-any.whl (81 kB)\n",
            "\u001b[2K     \u001b[90m━━━━━━━━━━━━━━━━━━━━━━━━━━━━━━━━━━━━━━━━\u001b[0m \u001b[32m81.9/81.9 kB\u001b[0m \u001b[31m2.7 MB/s\u001b[0m eta \u001b[36m0:00:00\u001b[0m\n",
            "\u001b[?25hRequirement already satisfied: numpy>=1.14.0 in /usr/local/lib/python3.10/dist-packages (from category_encoders) (1.22.4)\n",
            "Requirement already satisfied: scikit-learn>=0.20.0 in /usr/local/lib/python3.10/dist-packages (from category_encoders) (1.2.2)\n",
            "Requirement already satisfied: scipy>=1.0.0 in /usr/local/lib/python3.10/dist-packages (from category_encoders) (1.10.1)\n",
            "Requirement already satisfied: statsmodels>=0.9.0 in /usr/local/lib/python3.10/dist-packages (from category_encoders) (0.13.5)\n",
            "Requirement already satisfied: pandas>=1.0.5 in /usr/local/lib/python3.10/dist-packages (from category_encoders) (1.5.3)\n",
            "Requirement already satisfied: patsy>=0.5.1 in /usr/local/lib/python3.10/dist-packages (from category_encoders) (0.5.3)\n",
            "Requirement already satisfied: python-dateutil>=2.8.1 in /usr/local/lib/python3.10/dist-packages (from pandas>=1.0.5->category_encoders) (2.8.2)\n",
            "Requirement already satisfied: pytz>=2020.1 in /usr/local/lib/python3.10/dist-packages (from pandas>=1.0.5->category_encoders) (2022.7.1)\n",
            "Requirement already satisfied: six in /usr/local/lib/python3.10/dist-packages (from patsy>=0.5.1->category_encoders) (1.16.0)\n",
            "Requirement already satisfied: joblib>=1.1.1 in /usr/local/lib/python3.10/dist-packages (from scikit-learn>=0.20.0->category_encoders) (1.2.0)\n",
            "Requirement already satisfied: threadpoolctl>=2.0.0 in /usr/local/lib/python3.10/dist-packages (from scikit-learn>=0.20.0->category_encoders) (3.1.0)\n",
            "Requirement already satisfied: packaging>=21.3 in /usr/local/lib/python3.10/dist-packages (from statsmodels>=0.9.0->category_encoders) (23.1)\n",
            "Installing collected packages: category_encoders\n",
            "Successfully installed category_encoders-2.6.1\n"
          ]
        }
      ]
    },
    {
      "cell_type": "code",
      "execution_count": null,
      "metadata": {
        "id": "1Cn5ypyEgMIO"
      },
      "outputs": [],
      "source": [
        "import re\n",
        "import math\n",
        "import numpy as np\n",
        "import pandas as pd\n",
        "import seaborn as sns\n",
        "import matplotlib as mpl\n",
        "import category_encoders as ce\n",
        "import matplotlib.pyplot as plt\n",
        "from collections import OrderedDict\n",
        "import matplotlib.patches as patches\n",
        "from matplotlib.gridspec import GridSpec\n",
        "from matplotlib.patches import ConnectionPatch\n",
        "%matplotlib inline"
      ]
    },
    {
      "cell_type": "markdown",
      "source": [
        "# Data Reading"
      ],
      "metadata": {
        "id": "okQGRynsi39_"
      }
    },
    {
      "cell_type": "code",
      "source": [
        "url = \"https://raw.githubusercontent.com/maneshwarS/Flight-Delay-Prediction/master/Dataset.csv\"\n",
        "data = pd.read_csv(url)\n",
        "data.drop('Category', axis=1, inplace=True)"
      ],
      "metadata": {
        "id": "Y7fxcldli83V"
      },
      "execution_count": null,
      "outputs": []
    },
    {
      "cell_type": "code",
      "source": [
        "data.head()"
      ],
      "metadata": {
        "colab": {
          "base_uri": "https://localhost:8080/",
          "height": 490
        },
        "id": "_FRmUhFwi_va",
        "outputId": "97522da4-8506-4ff4-bf43-a6eed215ef29"
      },
      "execution_count": null,
      "outputs": [
        {
          "output_type": "execute_result",
          "data": {
            "text/plain": [
              "    Used Date From   To   Airline Scheduled Departure  SDEP Departure   DEP  \\\n",
              "0  31-01-2020  DEL  HYD  Air Asia               06:05   605     06:04   604   \n",
              "1  31-01-2020  DEL  HYD    Indigo               04:50   450     04:36   436   \n",
              "2  30-01-2020  DEL  HYD  Air Asia               06:05   605     05:54   554   \n",
              "3  30-01-2020  DEL  HYD  Air Asia               17:40  1740     17:40  1740   \n",
              "4  30-01-2020  DEL  HYD  Air Asia               19:50  1950     19:54  1954   \n",
              "\n",
              "  Scheduled Arrival  SARR  ... Airport Rating  Market Share  OTP Index  \\\n",
              "0             08:15   815  ...           0.88           5.3       85.6   \n",
              "1             07:00   700  ...           0.88          47.5       81.1   \n",
              "2             08:15   815  ...           0.88           5.3       85.6   \n",
              "3             19:55  1955  ...           0.88           5.3       85.6   \n",
              "4             22:10  2210  ...           0.88           5.3       85.6   \n",
              "\n",
              "   weather__hourly__windspeedKmph  weather__hourly__weatherDesc__value  \\\n",
              "0                              11                        Partly cloudy   \n",
              "1                              11                        Partly cloudy   \n",
              "2                              11                        Partly cloudy   \n",
              "3                              11                        Partly cloudy   \n",
              "4                              11                        Partly cloudy   \n",
              "\n",
              "   weather__hourly__precipMM  weather__hourly__humidity  \\\n",
              "0                          0                         90   \n",
              "1                          0                         90   \n",
              "2                          0                         90   \n",
              "3                          0                         90   \n",
              "4                          0                         90   \n",
              "\n",
              "   weather__hourly__visibility  weather__hourly__pressure  \\\n",
              "0                            9                       1012   \n",
              "1                            9                       1012   \n",
              "2                            9                       1012   \n",
              "3                            9                       1012   \n",
              "4                            9                       1012   \n",
              "\n",
              "   weather__hourly__cloudcover  \n",
              "0                           57  \n",
              "1                           57  \n",
              "2                           57  \n",
              "3                           57  \n",
              "4                           57  \n",
              "\n",
              "[5 rows x 28 columns]"
            ],
            "text/html": [
              "\n",
              "  <div id=\"df-8dcbc8ef-e78b-4a49-8ed0-e63c2b418438\">\n",
              "    <div class=\"colab-df-container\">\n",
              "      <div>\n",
              "<style scoped>\n",
              "    .dataframe tbody tr th:only-of-type {\n",
              "        vertical-align: middle;\n",
              "    }\n",
              "\n",
              "    .dataframe tbody tr th {\n",
              "        vertical-align: top;\n",
              "    }\n",
              "\n",
              "    .dataframe thead th {\n",
              "        text-align: right;\n",
              "    }\n",
              "</style>\n",
              "<table border=\"1\" class=\"dataframe\">\n",
              "  <thead>\n",
              "    <tr style=\"text-align: right;\">\n",
              "      <th></th>\n",
              "      <th>Used Date</th>\n",
              "      <th>From</th>\n",
              "      <th>To</th>\n",
              "      <th>Airline</th>\n",
              "      <th>Scheduled Departure</th>\n",
              "      <th>SDEP</th>\n",
              "      <th>Departure</th>\n",
              "      <th>DEP</th>\n",
              "      <th>Scheduled Arrival</th>\n",
              "      <th>SARR</th>\n",
              "      <th>...</th>\n",
              "      <th>Airport Rating</th>\n",
              "      <th>Market Share</th>\n",
              "      <th>OTP Index</th>\n",
              "      <th>weather__hourly__windspeedKmph</th>\n",
              "      <th>weather__hourly__weatherDesc__value</th>\n",
              "      <th>weather__hourly__precipMM</th>\n",
              "      <th>weather__hourly__humidity</th>\n",
              "      <th>weather__hourly__visibility</th>\n",
              "      <th>weather__hourly__pressure</th>\n",
              "      <th>weather__hourly__cloudcover</th>\n",
              "    </tr>\n",
              "  </thead>\n",
              "  <tbody>\n",
              "    <tr>\n",
              "      <th>0</th>\n",
              "      <td>31-01-2020</td>\n",
              "      <td>DEL</td>\n",
              "      <td>HYD</td>\n",
              "      <td>Air Asia</td>\n",
              "      <td>06:05</td>\n",
              "      <td>605</td>\n",
              "      <td>06:04</td>\n",
              "      <td>604</td>\n",
              "      <td>08:15</td>\n",
              "      <td>815</td>\n",
              "      <td>...</td>\n",
              "      <td>0.88</td>\n",
              "      <td>5.3</td>\n",
              "      <td>85.6</td>\n",
              "      <td>11</td>\n",
              "      <td>Partly cloudy</td>\n",
              "      <td>0</td>\n",
              "      <td>90</td>\n",
              "      <td>9</td>\n",
              "      <td>1012</td>\n",
              "      <td>57</td>\n",
              "    </tr>\n",
              "    <tr>\n",
              "      <th>1</th>\n",
              "      <td>31-01-2020</td>\n",
              "      <td>DEL</td>\n",
              "      <td>HYD</td>\n",
              "      <td>Indigo</td>\n",
              "      <td>04:50</td>\n",
              "      <td>450</td>\n",
              "      <td>04:36</td>\n",
              "      <td>436</td>\n",
              "      <td>07:00</td>\n",
              "      <td>700</td>\n",
              "      <td>...</td>\n",
              "      <td>0.88</td>\n",
              "      <td>47.5</td>\n",
              "      <td>81.1</td>\n",
              "      <td>11</td>\n",
              "      <td>Partly cloudy</td>\n",
              "      <td>0</td>\n",
              "      <td>90</td>\n",
              "      <td>9</td>\n",
              "      <td>1012</td>\n",
              "      <td>57</td>\n",
              "    </tr>\n",
              "    <tr>\n",
              "      <th>2</th>\n",
              "      <td>30-01-2020</td>\n",
              "      <td>DEL</td>\n",
              "      <td>HYD</td>\n",
              "      <td>Air Asia</td>\n",
              "      <td>06:05</td>\n",
              "      <td>605</td>\n",
              "      <td>05:54</td>\n",
              "      <td>554</td>\n",
              "      <td>08:15</td>\n",
              "      <td>815</td>\n",
              "      <td>...</td>\n",
              "      <td>0.88</td>\n",
              "      <td>5.3</td>\n",
              "      <td>85.6</td>\n",
              "      <td>11</td>\n",
              "      <td>Partly cloudy</td>\n",
              "      <td>0</td>\n",
              "      <td>90</td>\n",
              "      <td>9</td>\n",
              "      <td>1012</td>\n",
              "      <td>57</td>\n",
              "    </tr>\n",
              "    <tr>\n",
              "      <th>3</th>\n",
              "      <td>30-01-2020</td>\n",
              "      <td>DEL</td>\n",
              "      <td>HYD</td>\n",
              "      <td>Air Asia</td>\n",
              "      <td>17:40</td>\n",
              "      <td>1740</td>\n",
              "      <td>17:40</td>\n",
              "      <td>1740</td>\n",
              "      <td>19:55</td>\n",
              "      <td>1955</td>\n",
              "      <td>...</td>\n",
              "      <td>0.88</td>\n",
              "      <td>5.3</td>\n",
              "      <td>85.6</td>\n",
              "      <td>11</td>\n",
              "      <td>Partly cloudy</td>\n",
              "      <td>0</td>\n",
              "      <td>90</td>\n",
              "      <td>9</td>\n",
              "      <td>1012</td>\n",
              "      <td>57</td>\n",
              "    </tr>\n",
              "    <tr>\n",
              "      <th>4</th>\n",
              "      <td>30-01-2020</td>\n",
              "      <td>DEL</td>\n",
              "      <td>HYD</td>\n",
              "      <td>Air Asia</td>\n",
              "      <td>19:50</td>\n",
              "      <td>1950</td>\n",
              "      <td>19:54</td>\n",
              "      <td>1954</td>\n",
              "      <td>22:10</td>\n",
              "      <td>2210</td>\n",
              "      <td>...</td>\n",
              "      <td>0.88</td>\n",
              "      <td>5.3</td>\n",
              "      <td>85.6</td>\n",
              "      <td>11</td>\n",
              "      <td>Partly cloudy</td>\n",
              "      <td>0</td>\n",
              "      <td>90</td>\n",
              "      <td>9</td>\n",
              "      <td>1012</td>\n",
              "      <td>57</td>\n",
              "    </tr>\n",
              "  </tbody>\n",
              "</table>\n",
              "<p>5 rows × 28 columns</p>\n",
              "</div>\n",
              "      <button class=\"colab-df-convert\" onclick=\"convertToInteractive('df-8dcbc8ef-e78b-4a49-8ed0-e63c2b418438')\"\n",
              "              title=\"Convert this dataframe to an interactive table.\"\n",
              "              style=\"display:none;\">\n",
              "        \n",
              "  <svg xmlns=\"http://www.w3.org/2000/svg\" height=\"24px\"viewBox=\"0 0 24 24\"\n",
              "       width=\"24px\">\n",
              "    <path d=\"M0 0h24v24H0V0z\" fill=\"none\"/>\n",
              "    <path d=\"M18.56 5.44l.94 2.06.94-2.06 2.06-.94-2.06-.94-.94-2.06-.94 2.06-2.06.94zm-11 1L8.5 8.5l.94-2.06 2.06-.94-2.06-.94L8.5 2.5l-.94 2.06-2.06.94zm10 10l.94 2.06.94-2.06 2.06-.94-2.06-.94-.94-2.06-.94 2.06-2.06.94z\"/><path d=\"M17.41 7.96l-1.37-1.37c-.4-.4-.92-.59-1.43-.59-.52 0-1.04.2-1.43.59L10.3 9.45l-7.72 7.72c-.78.78-.78 2.05 0 2.83L4 21.41c.39.39.9.59 1.41.59.51 0 1.02-.2 1.41-.59l7.78-7.78 2.81-2.81c.8-.78.8-2.07 0-2.86zM5.41 20L4 18.59l7.72-7.72 1.47 1.35L5.41 20z\"/>\n",
              "  </svg>\n",
              "      </button>\n",
              "      \n",
              "  <style>\n",
              "    .colab-df-container {\n",
              "      display:flex;\n",
              "      flex-wrap:wrap;\n",
              "      gap: 12px;\n",
              "    }\n",
              "\n",
              "    .colab-df-convert {\n",
              "      background-color: #E8F0FE;\n",
              "      border: none;\n",
              "      border-radius: 50%;\n",
              "      cursor: pointer;\n",
              "      display: none;\n",
              "      fill: #1967D2;\n",
              "      height: 32px;\n",
              "      padding: 0 0 0 0;\n",
              "      width: 32px;\n",
              "    }\n",
              "\n",
              "    .colab-df-convert:hover {\n",
              "      background-color: #E2EBFA;\n",
              "      box-shadow: 0px 1px 2px rgba(60, 64, 67, 0.3), 0px 1px 3px 1px rgba(60, 64, 67, 0.15);\n",
              "      fill: #174EA6;\n",
              "    }\n",
              "\n",
              "    [theme=dark] .colab-df-convert {\n",
              "      background-color: #3B4455;\n",
              "      fill: #D2E3FC;\n",
              "    }\n",
              "\n",
              "    [theme=dark] .colab-df-convert:hover {\n",
              "      background-color: #434B5C;\n",
              "      box-shadow: 0px 1px 3px 1px rgba(0, 0, 0, 0.15);\n",
              "      filter: drop-shadow(0px 1px 2px rgba(0, 0, 0, 0.3));\n",
              "      fill: #FFFFFF;\n",
              "    }\n",
              "  </style>\n",
              "\n",
              "      <script>\n",
              "        const buttonEl =\n",
              "          document.querySelector('#df-8dcbc8ef-e78b-4a49-8ed0-e63c2b418438 button.colab-df-convert');\n",
              "        buttonEl.style.display =\n",
              "          google.colab.kernel.accessAllowed ? 'block' : 'none';\n",
              "\n",
              "        async function convertToInteractive(key) {\n",
              "          const element = document.querySelector('#df-8dcbc8ef-e78b-4a49-8ed0-e63c2b418438');\n",
              "          const dataTable =\n",
              "            await google.colab.kernel.invokeFunction('convertToInteractive',\n",
              "                                                     [key], {});\n",
              "          if (!dataTable) return;\n",
              "\n",
              "          const docLinkHtml = 'Like what you see? Visit the ' +\n",
              "            '<a target=\"_blank\" href=https://colab.research.google.com/notebooks/data_table.ipynb>data table notebook</a>'\n",
              "            + ' to learn more about interactive tables.';\n",
              "          element.innerHTML = '';\n",
              "          dataTable['output_type'] = 'display_data';\n",
              "          await google.colab.output.renderOutput(dataTable, element);\n",
              "          const docLink = document.createElement('div');\n",
              "          docLink.innerHTML = docLinkHtml;\n",
              "          element.appendChild(docLink);\n",
              "        }\n",
              "      </script>\n",
              "    </div>\n",
              "  </div>\n",
              "  "
            ]
          },
          "metadata": {},
          "execution_count": 4
        }
      ]
    },
    {
      "cell_type": "code",
      "source": [
        "data['Used Date'] = pd.to_datetime(data['Used Date'], format='%d-%m-%Y')\n",
        "data['Date'] = data['Used Date'].dt.day\n",
        "data['Month'] = data['Used Date'].dt.month\n",
        "data['Year'] = data['Used Date'].dt.year\n",
        "data.drop('Used Date', axis=1, inplace=True)"
      ],
      "metadata": {
        "id": "PULwpnrQjBnI"
      },
      "execution_count": null,
      "outputs": []
    },
    {
      "cell_type": "code",
      "source": [
        "data.head()"
      ],
      "metadata": {
        "colab": {
          "base_uri": "https://localhost:8080/",
          "height": 317
        },
        "id": "OXMH3n2LjIxX",
        "outputId": "64dd0d53-95b4-4761-95ba-160b30be7c53"
      },
      "execution_count": null,
      "outputs": [
        {
          "output_type": "execute_result",
          "data": {
            "text/plain": [
              "  From   To   Airline Scheduled Departure  SDEP Departure   DEP  \\\n",
              "0  DEL  HYD  Air Asia               06:05   605     06:04   604   \n",
              "1  DEL  HYD    Indigo               04:50   450     04:36   436   \n",
              "2  DEL  HYD  Air Asia               06:05   605     05:54   554   \n",
              "3  DEL  HYD  Air Asia               17:40  1740     17:40  1740   \n",
              "4  DEL  HYD  Air Asia               19:50  1950     19:54  1954   \n",
              "\n",
              "  Scheduled Arrival  SARR Arrival  ...  weather__hourly__windspeedKmph  \\\n",
              "0             08:15   815   08:16  ...                              11   \n",
              "1             07:00   700   06:55  ...                              11   \n",
              "2             08:15   815   08:02  ...                              11   \n",
              "3             19:55  1955   19:42  ...                              11   \n",
              "4             22:10  2210   22:14  ...                              11   \n",
              "\n",
              "   weather__hourly__weatherDesc__value  weather__hourly__precipMM  \\\n",
              "0                        Partly cloudy                          0   \n",
              "1                        Partly cloudy                          0   \n",
              "2                        Partly cloudy                          0   \n",
              "3                        Partly cloudy                          0   \n",
              "4                        Partly cloudy                          0   \n",
              "\n",
              "   weather__hourly__humidity  weather__hourly__visibility  \\\n",
              "0                         90                            9   \n",
              "1                         90                            9   \n",
              "2                         90                            9   \n",
              "3                         90                            9   \n",
              "4                         90                            9   \n",
              "\n",
              "   weather__hourly__pressure  weather__hourly__cloudcover  Date  Month  Year  \n",
              "0                       1012                           57    31      1  2020  \n",
              "1                       1012                           57    31      1  2020  \n",
              "2                       1012                           57    30      1  2020  \n",
              "3                       1012                           57    30      1  2020  \n",
              "4                       1012                           57    30      1  2020  \n",
              "\n",
              "[5 rows x 30 columns]"
            ],
            "text/html": [
              "\n",
              "  <div id=\"df-b4e6b9b3-9e0e-4225-a0d9-41957433ec14\">\n",
              "    <div class=\"colab-df-container\">\n",
              "      <div>\n",
              "<style scoped>\n",
              "    .dataframe tbody tr th:only-of-type {\n",
              "        vertical-align: middle;\n",
              "    }\n",
              "\n",
              "    .dataframe tbody tr th {\n",
              "        vertical-align: top;\n",
              "    }\n",
              "\n",
              "    .dataframe thead th {\n",
              "        text-align: right;\n",
              "    }\n",
              "</style>\n",
              "<table border=\"1\" class=\"dataframe\">\n",
              "  <thead>\n",
              "    <tr style=\"text-align: right;\">\n",
              "      <th></th>\n",
              "      <th>From</th>\n",
              "      <th>To</th>\n",
              "      <th>Airline</th>\n",
              "      <th>Scheduled Departure</th>\n",
              "      <th>SDEP</th>\n",
              "      <th>Departure</th>\n",
              "      <th>DEP</th>\n",
              "      <th>Scheduled Arrival</th>\n",
              "      <th>SARR</th>\n",
              "      <th>Arrival</th>\n",
              "      <th>...</th>\n",
              "      <th>weather__hourly__windspeedKmph</th>\n",
              "      <th>weather__hourly__weatherDesc__value</th>\n",
              "      <th>weather__hourly__precipMM</th>\n",
              "      <th>weather__hourly__humidity</th>\n",
              "      <th>weather__hourly__visibility</th>\n",
              "      <th>weather__hourly__pressure</th>\n",
              "      <th>weather__hourly__cloudcover</th>\n",
              "      <th>Date</th>\n",
              "      <th>Month</th>\n",
              "      <th>Year</th>\n",
              "    </tr>\n",
              "  </thead>\n",
              "  <tbody>\n",
              "    <tr>\n",
              "      <th>0</th>\n",
              "      <td>DEL</td>\n",
              "      <td>HYD</td>\n",
              "      <td>Air Asia</td>\n",
              "      <td>06:05</td>\n",
              "      <td>605</td>\n",
              "      <td>06:04</td>\n",
              "      <td>604</td>\n",
              "      <td>08:15</td>\n",
              "      <td>815</td>\n",
              "      <td>08:16</td>\n",
              "      <td>...</td>\n",
              "      <td>11</td>\n",
              "      <td>Partly cloudy</td>\n",
              "      <td>0</td>\n",
              "      <td>90</td>\n",
              "      <td>9</td>\n",
              "      <td>1012</td>\n",
              "      <td>57</td>\n",
              "      <td>31</td>\n",
              "      <td>1</td>\n",
              "      <td>2020</td>\n",
              "    </tr>\n",
              "    <tr>\n",
              "      <th>1</th>\n",
              "      <td>DEL</td>\n",
              "      <td>HYD</td>\n",
              "      <td>Indigo</td>\n",
              "      <td>04:50</td>\n",
              "      <td>450</td>\n",
              "      <td>04:36</td>\n",
              "      <td>436</td>\n",
              "      <td>07:00</td>\n",
              "      <td>700</td>\n",
              "      <td>06:55</td>\n",
              "      <td>...</td>\n",
              "      <td>11</td>\n",
              "      <td>Partly cloudy</td>\n",
              "      <td>0</td>\n",
              "      <td>90</td>\n",
              "      <td>9</td>\n",
              "      <td>1012</td>\n",
              "      <td>57</td>\n",
              "      <td>31</td>\n",
              "      <td>1</td>\n",
              "      <td>2020</td>\n",
              "    </tr>\n",
              "    <tr>\n",
              "      <th>2</th>\n",
              "      <td>DEL</td>\n",
              "      <td>HYD</td>\n",
              "      <td>Air Asia</td>\n",
              "      <td>06:05</td>\n",
              "      <td>605</td>\n",
              "      <td>05:54</td>\n",
              "      <td>554</td>\n",
              "      <td>08:15</td>\n",
              "      <td>815</td>\n",
              "      <td>08:02</td>\n",
              "      <td>...</td>\n",
              "      <td>11</td>\n",
              "      <td>Partly cloudy</td>\n",
              "      <td>0</td>\n",
              "      <td>90</td>\n",
              "      <td>9</td>\n",
              "      <td>1012</td>\n",
              "      <td>57</td>\n",
              "      <td>30</td>\n",
              "      <td>1</td>\n",
              "      <td>2020</td>\n",
              "    </tr>\n",
              "    <tr>\n",
              "      <th>3</th>\n",
              "      <td>DEL</td>\n",
              "      <td>HYD</td>\n",
              "      <td>Air Asia</td>\n",
              "      <td>17:40</td>\n",
              "      <td>1740</td>\n",
              "      <td>17:40</td>\n",
              "      <td>1740</td>\n",
              "      <td>19:55</td>\n",
              "      <td>1955</td>\n",
              "      <td>19:42</td>\n",
              "      <td>...</td>\n",
              "      <td>11</td>\n",
              "      <td>Partly cloudy</td>\n",
              "      <td>0</td>\n",
              "      <td>90</td>\n",
              "      <td>9</td>\n",
              "      <td>1012</td>\n",
              "      <td>57</td>\n",
              "      <td>30</td>\n",
              "      <td>1</td>\n",
              "      <td>2020</td>\n",
              "    </tr>\n",
              "    <tr>\n",
              "      <th>4</th>\n",
              "      <td>DEL</td>\n",
              "      <td>HYD</td>\n",
              "      <td>Air Asia</td>\n",
              "      <td>19:50</td>\n",
              "      <td>1950</td>\n",
              "      <td>19:54</td>\n",
              "      <td>1954</td>\n",
              "      <td>22:10</td>\n",
              "      <td>2210</td>\n",
              "      <td>22:14</td>\n",
              "      <td>...</td>\n",
              "      <td>11</td>\n",
              "      <td>Partly cloudy</td>\n",
              "      <td>0</td>\n",
              "      <td>90</td>\n",
              "      <td>9</td>\n",
              "      <td>1012</td>\n",
              "      <td>57</td>\n",
              "      <td>30</td>\n",
              "      <td>1</td>\n",
              "      <td>2020</td>\n",
              "    </tr>\n",
              "  </tbody>\n",
              "</table>\n",
              "<p>5 rows × 30 columns</p>\n",
              "</div>\n",
              "      <button class=\"colab-df-convert\" onclick=\"convertToInteractive('df-b4e6b9b3-9e0e-4225-a0d9-41957433ec14')\"\n",
              "              title=\"Convert this dataframe to an interactive table.\"\n",
              "              style=\"display:none;\">\n",
              "        \n",
              "  <svg xmlns=\"http://www.w3.org/2000/svg\" height=\"24px\"viewBox=\"0 0 24 24\"\n",
              "       width=\"24px\">\n",
              "    <path d=\"M0 0h24v24H0V0z\" fill=\"none\"/>\n",
              "    <path d=\"M18.56 5.44l.94 2.06.94-2.06 2.06-.94-2.06-.94-.94-2.06-.94 2.06-2.06.94zm-11 1L8.5 8.5l.94-2.06 2.06-.94-2.06-.94L8.5 2.5l-.94 2.06-2.06.94zm10 10l.94 2.06.94-2.06 2.06-.94-2.06-.94-.94-2.06-.94 2.06-2.06.94z\"/><path d=\"M17.41 7.96l-1.37-1.37c-.4-.4-.92-.59-1.43-.59-.52 0-1.04.2-1.43.59L10.3 9.45l-7.72 7.72c-.78.78-.78 2.05 0 2.83L4 21.41c.39.39.9.59 1.41.59.51 0 1.02-.2 1.41-.59l7.78-7.78 2.81-2.81c.8-.78.8-2.07 0-2.86zM5.41 20L4 18.59l7.72-7.72 1.47 1.35L5.41 20z\"/>\n",
              "  </svg>\n",
              "      </button>\n",
              "      \n",
              "  <style>\n",
              "    .colab-df-container {\n",
              "      display:flex;\n",
              "      flex-wrap:wrap;\n",
              "      gap: 12px;\n",
              "    }\n",
              "\n",
              "    .colab-df-convert {\n",
              "      background-color: #E8F0FE;\n",
              "      border: none;\n",
              "      border-radius: 50%;\n",
              "      cursor: pointer;\n",
              "      display: none;\n",
              "      fill: #1967D2;\n",
              "      height: 32px;\n",
              "      padding: 0 0 0 0;\n",
              "      width: 32px;\n",
              "    }\n",
              "\n",
              "    .colab-df-convert:hover {\n",
              "      background-color: #E2EBFA;\n",
              "      box-shadow: 0px 1px 2px rgba(60, 64, 67, 0.3), 0px 1px 3px 1px rgba(60, 64, 67, 0.15);\n",
              "      fill: #174EA6;\n",
              "    }\n",
              "\n",
              "    [theme=dark] .colab-df-convert {\n",
              "      background-color: #3B4455;\n",
              "      fill: #D2E3FC;\n",
              "    }\n",
              "\n",
              "    [theme=dark] .colab-df-convert:hover {\n",
              "      background-color: #434B5C;\n",
              "      box-shadow: 0px 1px 3px 1px rgba(0, 0, 0, 0.15);\n",
              "      filter: drop-shadow(0px 1px 2px rgba(0, 0, 0, 0.3));\n",
              "      fill: #FFFFFF;\n",
              "    }\n",
              "  </style>\n",
              "\n",
              "      <script>\n",
              "        const buttonEl =\n",
              "          document.querySelector('#df-b4e6b9b3-9e0e-4225-a0d9-41957433ec14 button.colab-df-convert');\n",
              "        buttonEl.style.display =\n",
              "          google.colab.kernel.accessAllowed ? 'block' : 'none';\n",
              "\n",
              "        async function convertToInteractive(key) {\n",
              "          const element = document.querySelector('#df-b4e6b9b3-9e0e-4225-a0d9-41957433ec14');\n",
              "          const dataTable =\n",
              "            await google.colab.kernel.invokeFunction('convertToInteractive',\n",
              "                                                     [key], {});\n",
              "          if (!dataTable) return;\n",
              "\n",
              "          const docLinkHtml = 'Like what you see? Visit the ' +\n",
              "            '<a target=\"_blank\" href=https://colab.research.google.com/notebooks/data_table.ipynb>data table notebook</a>'\n",
              "            + ' to learn more about interactive tables.';\n",
              "          element.innerHTML = '';\n",
              "          dataTable['output_type'] = 'display_data';\n",
              "          await google.colab.output.renderOutput(dataTable, element);\n",
              "          const docLink = document.createElement('div');\n",
              "          docLink.innerHTML = docLinkHtml;\n",
              "          element.appendChild(docLink);\n",
              "        }\n",
              "      </script>\n",
              "    </div>\n",
              "  </div>\n",
              "  "
            ]
          },
          "metadata": {},
          "execution_count": 6
        }
      ]
    },
    {
      "cell_type": "code",
      "source": [
        "data.info()"
      ],
      "metadata": {
        "colab": {
          "base_uri": "https://localhost:8080/"
        },
        "id": "qDvsDDyujKGF",
        "outputId": "20fbc177-4c00-49e6-a5b4-3114a26266f0"
      },
      "execution_count": null,
      "outputs": [
        {
          "output_type": "stream",
          "name": "stdout",
          "text": [
            "<class 'pandas.core.frame.DataFrame'>\n",
            "RangeIndex: 10718 entries, 0 to 10717\n",
            "Data columns (total 30 columns):\n",
            " #   Column                               Non-Null Count  Dtype  \n",
            "---  ------                               --------------  -----  \n",
            " 0   From                                 10718 non-null  object \n",
            " 1   To                                   10718 non-null  object \n",
            " 2   Airline                              10718 non-null  object \n",
            " 3   Scheduled Departure                  10718 non-null  object \n",
            " 4   SDEP                                 10718 non-null  int64  \n",
            " 5   Departure                            10718 non-null  object \n",
            " 6   DEP                                  10718 non-null  int64  \n",
            " 7   Scheduled Arrival                    10718 non-null  object \n",
            " 8   SARR                                 10718 non-null  int64  \n",
            " 9   Arrival                              10718 non-null  object \n",
            " 10  ARR                                  10718 non-null  int64  \n",
            " 11  Departure Delay                      10718 non-null  int64  \n",
            " 12  Arrival Delay                        10718 non-null  int64  \n",
            " 13  Status                               10718 non-null  int64  \n",
            " 14  Distance                             10718 non-null  int64  \n",
            " 15  Passenger Load Factor                10718 non-null  float64\n",
            " 16  Airline Rating                       10718 non-null  float64\n",
            " 17  Airport Rating                       10718 non-null  float64\n",
            " 18  Market Share                         10718 non-null  float64\n",
            " 19  OTP Index                            10718 non-null  float64\n",
            " 20  weather__hourly__windspeedKmph       10718 non-null  int64  \n",
            " 21  weather__hourly__weatherDesc__value  10718 non-null  object \n",
            " 22  weather__hourly__precipMM            10718 non-null  int64  \n",
            " 23  weather__hourly__humidity            10718 non-null  int64  \n",
            " 24  weather__hourly__visibility          10718 non-null  int64  \n",
            " 25  weather__hourly__pressure            10718 non-null  int64  \n",
            " 26  weather__hourly__cloudcover          10718 non-null  int64  \n",
            " 27  Date                                 10718 non-null  int64  \n",
            " 28  Month                                10718 non-null  int64  \n",
            " 29  Year                                 10718 non-null  int64  \n",
            "dtypes: float64(5), int64(17), object(8)\n",
            "memory usage: 2.5+ MB\n"
          ]
        }
      ]
    },
    {
      "cell_type": "code",
      "source": [
        "data.describe()"
      ],
      "metadata": {
        "colab": {
          "base_uri": "https://localhost:8080/",
          "height": 411
        },
        "id": "xXERtj7PjNU0",
        "outputId": "98ce9ffb-c16a-4cc9-e0cd-da1bc0b29eda"
      },
      "execution_count": null,
      "outputs": [
        {
          "output_type": "execute_result",
          "data": {
            "text/plain": [
              "               SDEP           DEP          SARR           ARR  \\\n",
              "count  10718.000000  10718.000000  10718.000000  10718.000000   \n",
              "mean    1347.070349   1331.483486   1320.709461   1260.562605   \n",
              "std      642.298422    666.186884    704.680126    723.536840   \n",
              "min        5.000000     -1.000000      5.000000     -1.000000   \n",
              "25%      730.000000    726.000000    835.000000    754.250000   \n",
              "50%     1320.000000   1259.000000   1245.000000   1220.000000   \n",
              "75%     2000.000000   2000.000000   2010.000000   1955.000000   \n",
              "max     2350.000000   2359.000000   2355.000000   2359.000000   \n",
              "\n",
              "       Departure Delay  Arrival Delay        Status      Distance  \\\n",
              "count     10718.000000   10718.000000  10718.000000  10718.000000   \n",
              "mean         26.080892      27.628009      0.992909   1287.418175   \n",
              "std         126.088783     133.545628      0.083912    319.679362   \n",
              "min         -60.000000     -61.000000      0.000000    848.000000   \n",
              "25%           0.000000      -4.000000      1.000000   1138.000000   \n",
              "50%           0.000000       3.000000      1.000000   1244.000000   \n",
              "75%          19.000000      25.000000      1.000000   1736.000000   \n",
              "max        1440.000000    1440.000000      1.000000   1736.000000   \n",
              "\n",
              "       Passenger Load Factor  Airline Rating  ...     OTP Index  \\\n",
              "count           10718.000000    10718.000000  ...  10718.000000   \n",
              "mean               86.294365        0.588813  ...     79.493180   \n",
              "std                 3.779119        0.157973  ...      7.158847   \n",
              "min                76.000000        0.300000  ...     53.100000   \n",
              "25%                84.300000        0.500000  ...     76.800000   \n",
              "50%                85.000000        0.700000  ...     81.100000   \n",
              "75%                90.100000        0.700000  ...     82.900000   \n",
              "max                94.000000        0.800000  ...     95.200000   \n",
              "\n",
              "       weather__hourly__windspeedKmph  weather__hourly__precipMM  \\\n",
              "count                    10718.000000               10718.000000   \n",
              "mean                        12.323195                   0.241090   \n",
              "std                          5.428185                   1.078129   \n",
              "min                          1.000000                   0.000000   \n",
              "25%                          9.000000                   0.000000   \n",
              "50%                         12.000000                   0.000000   \n",
              "75%                         15.000000                   0.000000   \n",
              "max                         36.000000                  21.000000   \n",
              "\n",
              "       weather__hourly__humidity  weather__hourly__visibility  \\\n",
              "count               10718.000000                 10718.000000   \n",
              "mean                   62.952323                     9.953443   \n",
              "std                    21.806752                     1.715943   \n",
              "min                     5.000000                     2.000000   \n",
              "25%                    46.000000                    10.000000   \n",
              "50%                    65.000000                    10.000000   \n",
              "75%                    83.000000                    10.000000   \n",
              "max                    96.000000                    20.000000   \n",
              "\n",
              "       weather__hourly__pressure  weather__hourly__cloudcover          Date  \\\n",
              "count               10718.000000                 10718.000000  10718.000000   \n",
              "mean                 1012.578000                    32.011569     17.283635   \n",
              "std                     4.404972                    28.207542      8.782664   \n",
              "min                   991.000000                     0.000000      1.000000   \n",
              "25%                  1012.000000                     4.000000     10.000000   \n",
              "50%                  1013.000000                    25.000000     19.000000   \n",
              "75%                  1015.000000                    57.000000     25.000000   \n",
              "max                  1022.000000                   100.000000     31.000000   \n",
              "\n",
              "              Month          Year  \n",
              "count  10718.000000  10718.000000  \n",
              "mean       9.088169   2019.204702  \n",
              "std        4.310386      0.403503  \n",
              "min        1.000000   2019.000000  \n",
              "25%       10.000000   2019.000000  \n",
              "50%       11.000000   2019.000000  \n",
              "75%       12.000000   2019.000000  \n",
              "max       12.000000   2020.000000  \n",
              "\n",
              "[8 rows x 22 columns]"
            ],
            "text/html": [
              "\n",
              "  <div id=\"df-0d0ffedf-7616-40ca-95fc-529755d13738\">\n",
              "    <div class=\"colab-df-container\">\n",
              "      <div>\n",
              "<style scoped>\n",
              "    .dataframe tbody tr th:only-of-type {\n",
              "        vertical-align: middle;\n",
              "    }\n",
              "\n",
              "    .dataframe tbody tr th {\n",
              "        vertical-align: top;\n",
              "    }\n",
              "\n",
              "    .dataframe thead th {\n",
              "        text-align: right;\n",
              "    }\n",
              "</style>\n",
              "<table border=\"1\" class=\"dataframe\">\n",
              "  <thead>\n",
              "    <tr style=\"text-align: right;\">\n",
              "      <th></th>\n",
              "      <th>SDEP</th>\n",
              "      <th>DEP</th>\n",
              "      <th>SARR</th>\n",
              "      <th>ARR</th>\n",
              "      <th>Departure Delay</th>\n",
              "      <th>Arrival Delay</th>\n",
              "      <th>Status</th>\n",
              "      <th>Distance</th>\n",
              "      <th>Passenger Load Factor</th>\n",
              "      <th>Airline Rating</th>\n",
              "      <th>...</th>\n",
              "      <th>OTP Index</th>\n",
              "      <th>weather__hourly__windspeedKmph</th>\n",
              "      <th>weather__hourly__precipMM</th>\n",
              "      <th>weather__hourly__humidity</th>\n",
              "      <th>weather__hourly__visibility</th>\n",
              "      <th>weather__hourly__pressure</th>\n",
              "      <th>weather__hourly__cloudcover</th>\n",
              "      <th>Date</th>\n",
              "      <th>Month</th>\n",
              "      <th>Year</th>\n",
              "    </tr>\n",
              "  </thead>\n",
              "  <tbody>\n",
              "    <tr>\n",
              "      <th>count</th>\n",
              "      <td>10718.000000</td>\n",
              "      <td>10718.000000</td>\n",
              "      <td>10718.000000</td>\n",
              "      <td>10718.000000</td>\n",
              "      <td>10718.000000</td>\n",
              "      <td>10718.000000</td>\n",
              "      <td>10718.000000</td>\n",
              "      <td>10718.000000</td>\n",
              "      <td>10718.000000</td>\n",
              "      <td>10718.000000</td>\n",
              "      <td>...</td>\n",
              "      <td>10718.000000</td>\n",
              "      <td>10718.000000</td>\n",
              "      <td>10718.000000</td>\n",
              "      <td>10718.000000</td>\n",
              "      <td>10718.000000</td>\n",
              "      <td>10718.000000</td>\n",
              "      <td>10718.000000</td>\n",
              "      <td>10718.000000</td>\n",
              "      <td>10718.000000</td>\n",
              "      <td>10718.000000</td>\n",
              "    </tr>\n",
              "    <tr>\n",
              "      <th>mean</th>\n",
              "      <td>1347.070349</td>\n",
              "      <td>1331.483486</td>\n",
              "      <td>1320.709461</td>\n",
              "      <td>1260.562605</td>\n",
              "      <td>26.080892</td>\n",
              "      <td>27.628009</td>\n",
              "      <td>0.992909</td>\n",
              "      <td>1287.418175</td>\n",
              "      <td>86.294365</td>\n",
              "      <td>0.588813</td>\n",
              "      <td>...</td>\n",
              "      <td>79.493180</td>\n",
              "      <td>12.323195</td>\n",
              "      <td>0.241090</td>\n",
              "      <td>62.952323</td>\n",
              "      <td>9.953443</td>\n",
              "      <td>1012.578000</td>\n",
              "      <td>32.011569</td>\n",
              "      <td>17.283635</td>\n",
              "      <td>9.088169</td>\n",
              "      <td>2019.204702</td>\n",
              "    </tr>\n",
              "    <tr>\n",
              "      <th>std</th>\n",
              "      <td>642.298422</td>\n",
              "      <td>666.186884</td>\n",
              "      <td>704.680126</td>\n",
              "      <td>723.536840</td>\n",
              "      <td>126.088783</td>\n",
              "      <td>133.545628</td>\n",
              "      <td>0.083912</td>\n",
              "      <td>319.679362</td>\n",
              "      <td>3.779119</td>\n",
              "      <td>0.157973</td>\n",
              "      <td>...</td>\n",
              "      <td>7.158847</td>\n",
              "      <td>5.428185</td>\n",
              "      <td>1.078129</td>\n",
              "      <td>21.806752</td>\n",
              "      <td>1.715943</td>\n",
              "      <td>4.404972</td>\n",
              "      <td>28.207542</td>\n",
              "      <td>8.782664</td>\n",
              "      <td>4.310386</td>\n",
              "      <td>0.403503</td>\n",
              "    </tr>\n",
              "    <tr>\n",
              "      <th>min</th>\n",
              "      <td>5.000000</td>\n",
              "      <td>-1.000000</td>\n",
              "      <td>5.000000</td>\n",
              "      <td>-1.000000</td>\n",
              "      <td>-60.000000</td>\n",
              "      <td>-61.000000</td>\n",
              "      <td>0.000000</td>\n",
              "      <td>848.000000</td>\n",
              "      <td>76.000000</td>\n",
              "      <td>0.300000</td>\n",
              "      <td>...</td>\n",
              "      <td>53.100000</td>\n",
              "      <td>1.000000</td>\n",
              "      <td>0.000000</td>\n",
              "      <td>5.000000</td>\n",
              "      <td>2.000000</td>\n",
              "      <td>991.000000</td>\n",
              "      <td>0.000000</td>\n",
              "      <td>1.000000</td>\n",
              "      <td>1.000000</td>\n",
              "      <td>2019.000000</td>\n",
              "    </tr>\n",
              "    <tr>\n",
              "      <th>25%</th>\n",
              "      <td>730.000000</td>\n",
              "      <td>726.000000</td>\n",
              "      <td>835.000000</td>\n",
              "      <td>754.250000</td>\n",
              "      <td>0.000000</td>\n",
              "      <td>-4.000000</td>\n",
              "      <td>1.000000</td>\n",
              "      <td>1138.000000</td>\n",
              "      <td>84.300000</td>\n",
              "      <td>0.500000</td>\n",
              "      <td>...</td>\n",
              "      <td>76.800000</td>\n",
              "      <td>9.000000</td>\n",
              "      <td>0.000000</td>\n",
              "      <td>46.000000</td>\n",
              "      <td>10.000000</td>\n",
              "      <td>1012.000000</td>\n",
              "      <td>4.000000</td>\n",
              "      <td>10.000000</td>\n",
              "      <td>10.000000</td>\n",
              "      <td>2019.000000</td>\n",
              "    </tr>\n",
              "    <tr>\n",
              "      <th>50%</th>\n",
              "      <td>1320.000000</td>\n",
              "      <td>1259.000000</td>\n",
              "      <td>1245.000000</td>\n",
              "      <td>1220.000000</td>\n",
              "      <td>0.000000</td>\n",
              "      <td>3.000000</td>\n",
              "      <td>1.000000</td>\n",
              "      <td>1244.000000</td>\n",
              "      <td>85.000000</td>\n",
              "      <td>0.700000</td>\n",
              "      <td>...</td>\n",
              "      <td>81.100000</td>\n",
              "      <td>12.000000</td>\n",
              "      <td>0.000000</td>\n",
              "      <td>65.000000</td>\n",
              "      <td>10.000000</td>\n",
              "      <td>1013.000000</td>\n",
              "      <td>25.000000</td>\n",
              "      <td>19.000000</td>\n",
              "      <td>11.000000</td>\n",
              "      <td>2019.000000</td>\n",
              "    </tr>\n",
              "    <tr>\n",
              "      <th>75%</th>\n",
              "      <td>2000.000000</td>\n",
              "      <td>2000.000000</td>\n",
              "      <td>2010.000000</td>\n",
              "      <td>1955.000000</td>\n",
              "      <td>19.000000</td>\n",
              "      <td>25.000000</td>\n",
              "      <td>1.000000</td>\n",
              "      <td>1736.000000</td>\n",
              "      <td>90.100000</td>\n",
              "      <td>0.700000</td>\n",
              "      <td>...</td>\n",
              "      <td>82.900000</td>\n",
              "      <td>15.000000</td>\n",
              "      <td>0.000000</td>\n",
              "      <td>83.000000</td>\n",
              "      <td>10.000000</td>\n",
              "      <td>1015.000000</td>\n",
              "      <td>57.000000</td>\n",
              "      <td>25.000000</td>\n",
              "      <td>12.000000</td>\n",
              "      <td>2019.000000</td>\n",
              "    </tr>\n",
              "    <tr>\n",
              "      <th>max</th>\n",
              "      <td>2350.000000</td>\n",
              "      <td>2359.000000</td>\n",
              "      <td>2355.000000</td>\n",
              "      <td>2359.000000</td>\n",
              "      <td>1440.000000</td>\n",
              "      <td>1440.000000</td>\n",
              "      <td>1.000000</td>\n",
              "      <td>1736.000000</td>\n",
              "      <td>94.000000</td>\n",
              "      <td>0.800000</td>\n",
              "      <td>...</td>\n",
              "      <td>95.200000</td>\n",
              "      <td>36.000000</td>\n",
              "      <td>21.000000</td>\n",
              "      <td>96.000000</td>\n",
              "      <td>20.000000</td>\n",
              "      <td>1022.000000</td>\n",
              "      <td>100.000000</td>\n",
              "      <td>31.000000</td>\n",
              "      <td>12.000000</td>\n",
              "      <td>2020.000000</td>\n",
              "    </tr>\n",
              "  </tbody>\n",
              "</table>\n",
              "<p>8 rows × 22 columns</p>\n",
              "</div>\n",
              "      <button class=\"colab-df-convert\" onclick=\"convertToInteractive('df-0d0ffedf-7616-40ca-95fc-529755d13738')\"\n",
              "              title=\"Convert this dataframe to an interactive table.\"\n",
              "              style=\"display:none;\">\n",
              "        \n",
              "  <svg xmlns=\"http://www.w3.org/2000/svg\" height=\"24px\"viewBox=\"0 0 24 24\"\n",
              "       width=\"24px\">\n",
              "    <path d=\"M0 0h24v24H0V0z\" fill=\"none\"/>\n",
              "    <path d=\"M18.56 5.44l.94 2.06.94-2.06 2.06-.94-2.06-.94-.94-2.06-.94 2.06-2.06.94zm-11 1L8.5 8.5l.94-2.06 2.06-.94-2.06-.94L8.5 2.5l-.94 2.06-2.06.94zm10 10l.94 2.06.94-2.06 2.06-.94-2.06-.94-.94-2.06-.94 2.06-2.06.94z\"/><path d=\"M17.41 7.96l-1.37-1.37c-.4-.4-.92-.59-1.43-.59-.52 0-1.04.2-1.43.59L10.3 9.45l-7.72 7.72c-.78.78-.78 2.05 0 2.83L4 21.41c.39.39.9.59 1.41.59.51 0 1.02-.2 1.41-.59l7.78-7.78 2.81-2.81c.8-.78.8-2.07 0-2.86zM5.41 20L4 18.59l7.72-7.72 1.47 1.35L5.41 20z\"/>\n",
              "  </svg>\n",
              "      </button>\n",
              "      \n",
              "  <style>\n",
              "    .colab-df-container {\n",
              "      display:flex;\n",
              "      flex-wrap:wrap;\n",
              "      gap: 12px;\n",
              "    }\n",
              "\n",
              "    .colab-df-convert {\n",
              "      background-color: #E8F0FE;\n",
              "      border: none;\n",
              "      border-radius: 50%;\n",
              "      cursor: pointer;\n",
              "      display: none;\n",
              "      fill: #1967D2;\n",
              "      height: 32px;\n",
              "      padding: 0 0 0 0;\n",
              "      width: 32px;\n",
              "    }\n",
              "\n",
              "    .colab-df-convert:hover {\n",
              "      background-color: #E2EBFA;\n",
              "      box-shadow: 0px 1px 2px rgba(60, 64, 67, 0.3), 0px 1px 3px 1px rgba(60, 64, 67, 0.15);\n",
              "      fill: #174EA6;\n",
              "    }\n",
              "\n",
              "    [theme=dark] .colab-df-convert {\n",
              "      background-color: #3B4455;\n",
              "      fill: #D2E3FC;\n",
              "    }\n",
              "\n",
              "    [theme=dark] .colab-df-convert:hover {\n",
              "      background-color: #434B5C;\n",
              "      box-shadow: 0px 1px 3px 1px rgba(0, 0, 0, 0.15);\n",
              "      filter: drop-shadow(0px 1px 2px rgba(0, 0, 0, 0.3));\n",
              "      fill: #FFFFFF;\n",
              "    }\n",
              "  </style>\n",
              "\n",
              "      <script>\n",
              "        const buttonEl =\n",
              "          document.querySelector('#df-0d0ffedf-7616-40ca-95fc-529755d13738 button.colab-df-convert');\n",
              "        buttonEl.style.display =\n",
              "          google.colab.kernel.accessAllowed ? 'block' : 'none';\n",
              "\n",
              "        async function convertToInteractive(key) {\n",
              "          const element = document.querySelector('#df-0d0ffedf-7616-40ca-95fc-529755d13738');\n",
              "          const dataTable =\n",
              "            await google.colab.kernel.invokeFunction('convertToInteractive',\n",
              "                                                     [key], {});\n",
              "          if (!dataTable) return;\n",
              "\n",
              "          const docLinkHtml = 'Like what you see? Visit the ' +\n",
              "            '<a target=\"_blank\" href=https://colab.research.google.com/notebooks/data_table.ipynb>data table notebook</a>'\n",
              "            + ' to learn more about interactive tables.';\n",
              "          element.innerHTML = '';\n",
              "          dataTable['output_type'] = 'display_data';\n",
              "          await google.colab.output.renderOutput(dataTable, element);\n",
              "          const docLink = document.createElement('div');\n",
              "          docLink.innerHTML = docLinkHtml;\n",
              "          element.appendChild(docLink);\n",
              "        }\n",
              "      </script>\n",
              "    </div>\n",
              "  </div>\n",
              "  "
            ]
          },
          "metadata": {},
          "execution_count": 8
        }
      ]
    },
    {
      "cell_type": "code",
      "source": [
        "# 'Status', 'OTP Index', 'Airline Rating', 'Airport Rating'"
      ],
      "metadata": {
        "id": "mPiyr0qbjJx4"
      },
      "execution_count": null,
      "outputs": []
    },
    {
      "cell_type": "markdown",
      "source": [
        "## Graphs"
      ],
      "metadata": {
        "id": "VxkuI1Vunt1Y"
      }
    },
    {
      "cell_type": "code",
      "source": [
        "plt.figure(figsize=(10,5))\n",
        "#sns.distplot(data['Distance'], hist=False, color=\"b\", kde_kws={\"fill\": True})\n",
        "sns.displot(data[\"Distance\"], kde=True)\n",
        "plt.xlabel(\"Distance\")\n",
        "plt.ylabel(\"Frequency\")\n",
        "plt.title(\"Distribution of distance\")\n",
        "plt.show()"
      ],
      "metadata": {
        "colab": {
          "base_uri": "https://localhost:8080/",
          "height": 545
        },
        "id": "q0fXKr3Wlur0",
        "outputId": "6bb4bb8f-60e1-46c3-ca32-d20877d57a50"
      },
      "execution_count": null,
      "outputs": [
        {
          "output_type": "display_data",
          "data": {
            "text/plain": [
              "<Figure size 1000x500 with 0 Axes>"
            ]
          },
          "metadata": {}
        },
        {
          "output_type": "display_data",
          "data": {
            "text/plain": [
              "<Figure size 500x500 with 1 Axes>"
            ],
            "image/png": "[encoded data removed]"
          },
          "metadata": {}
        }
      ]
    },
    {
      "cell_type": "code",
      "source": [
        "plt.figure(figsize=(15,5))\n",
        "sns.countplot(x=data['Airline'], data=data)\n",
        "plt.xlabel(\"Carriers\")\n",
        "plt.ylabel(\"Count\")\n",
        "plt.title(\"Count of unique carrier\")\n",
        "plt.show()"
      ],
      "metadata": {
        "colab": {
          "base_uri": "https://localhost:8080/",
          "height": 454
        },
        "id": "J9WiN8ICoFhx",
        "outputId": "fb541acd-1337-489c-9a89-5eb24066411b"
      },
      "execution_count": null,
      "outputs": [
        {
          "output_type": "display_data",
          "data": {
            "text/plain": [
              "<Figure size 1500x500 with 1 Axes>"
            ],
            "image/png": "[encoded data removed]"
          },
          "metadata": {}
        }
      ]
    },
    {
      "cell_type": "code",
      "source": [
        "plt.figure(figsize=(10,5))\n",
        "sns.countplot(y=data['From'], data=data, orient=\"h\")\n",
        "plt.xlabel(\"Count\")\n",
        "plt.ylabel(\"Airport\")\n",
        "plt.title(\"Count of Unique Origin Airports\")\n",
        "plt.show()"
      ],
      "metadata": {
        "colab": {
          "base_uri": "https://localhost:8080/",
          "height": 487
        },
        "id": "dMVNAjUroHT4",
        "outputId": "e56120c6-3c46-4a6d-db75-6b5603d466fe"
      },
      "execution_count": null,
      "outputs": [
        {
          "output_type": "display_data",
          "data": {
            "text/plain": [
              "<Figure size 1000x500 with 1 Axes>"
            ],
            "image/png": "[encoded data removed]"
          },
          "metadata": {}
        }
      ]
    },
    {
      "cell_type": "code",
      "source": [
        "plt.figure(figsize=(10,5))\n",
        "sns.countplot(y = 'weather__hourly__weatherDesc__value', data = data)\n",
        "plt.xlabel(\"Count\")\n",
        "plt.ylabel(\"Weather Conditions\")"
      ],
      "metadata": {
        "colab": {
          "base_uri": "https://localhost:8080/",
          "height": 482
        },
        "id": "xujK7nGcnzo7",
        "outputId": "7f66723a-6315-4e54-fc0b-4005ba7cc9ba"
      },
      "execution_count": null,
      "outputs": [
        {
          "output_type": "execute_result",
          "data": {
            "text/plain": [
              "Text(0, 0.5, 'Weather Conditions')"
            ]
          },
          "metadata": {},
          "execution_count": 12
        },
        {
          "output_type": "display_data",
          "data": {
            "text/plain": [
              "<Figure size 1000x500 with 1 Axes>"
            ],
            "image/png": "[encoded data removed]"
          },
          "metadata": {}
        }
      ]
    },
    {
      "cell_type": "code",
      "source": [
        "data[data['Arrival Delay'] >= 400]['Arrival Delay']"
      ],
      "metadata": {
        "colab": {
          "base_uri": "https://localhost:8080/"
        },
        "id": "hQ9eWJZboa4Y",
        "outputId": "6752d04a-127a-4bfe-d47e-1987540c7b9f"
      },
      "execution_count": null,
      "outputs": [
        {
          "output_type": "execute_result",
          "data": {
            "text/plain": [
              "5        1440\n",
              "41       1440\n",
              "47       1440\n",
              "55       1440\n",
              "65       1440\n",
              "         ... \n",
              "10627    1422\n",
              "10652    1422\n",
              "10662    1412\n",
              "10674    1422\n",
              "10677    1440\n",
              "Name: Arrival Delay, Length: 94, dtype: int64"
            ]
          },
          "metadata": {},
          "execution_count": 14
        }
      ]
    },
    {
      "cell_type": "markdown",
      "source": [
        "## Data Pre Processing"
      ],
      "metadata": {
        "id": "EUANRzIXnvrX"
      }
    },
    {
      "cell_type": "code",
      "source": [
        "data.drop(['Scheduled Departure', 'Departure', 'Scheduled Arrival', 'Arrival', 'Status'], axis = 1, inplace = True)"
      ],
      "metadata": {
        "id": "-bjsiTp3r4K9"
      },
      "execution_count": null,
      "outputs": []
    },
    {
      "cell_type": "code",
      "source": [
        "data.head()"
      ],
      "metadata": {
        "colab": {
          "base_uri": "https://localhost:8080/",
          "height": 317
        },
        "id": "Jjf2N8nDynGy",
        "outputId": "e7c122f2-0a27-48a1-cd69-976c93426143"
      },
      "execution_count": null,
      "outputs": [
        {
          "output_type": "execute_result",
          "data": {
            "text/plain": [
              "  From   To   Airline  SDEP   DEP  SARR   ARR  Departure Delay  Arrival Delay  \\\n",
              "0  DEL  HYD  Air Asia   605   604   815   816               -1              1   \n",
              "1  DEL  HYD    Indigo   450   436   700   655              -14             -5   \n",
              "2  DEL  HYD  Air Asia   605   554   815   802              -11            -13   \n",
              "3  DEL  HYD  Air Asia  1740  1740  1955  1942                0            -13   \n",
              "4  DEL  HYD  Air Asia  1950  1954  2210  2214                4              4   \n",
              "\n",
              "   Distance  ...  weather__hourly__windspeedKmph  \\\n",
              "0      1244  ...                              11   \n",
              "1      1244  ...                              11   \n",
              "2      1244  ...                              11   \n",
              "3      1244  ...                              11   \n",
              "4      1244  ...                              11   \n",
              "\n",
              "   weather__hourly__weatherDesc__value  weather__hourly__precipMM  \\\n",
              "0                        Partly cloudy                          0   \n",
              "1                        Partly cloudy                          0   \n",
              "2                        Partly cloudy                          0   \n",
              "3                        Partly cloudy                          0   \n",
              "4                        Partly cloudy                          0   \n",
              "\n",
              "   weather__hourly__humidity  weather__hourly__visibility  \\\n",
              "0                         90                            9   \n",
              "1                         90                            9   \n",
              "2                         90                            9   \n",
              "3                         90                            9   \n",
              "4                         90                            9   \n",
              "\n",
              "   weather__hourly__pressure weather__hourly__cloudcover  Date  Month  Year  \n",
              "0                       1012                          57    31      1  2020  \n",
              "1                       1012                          57    31      1  2020  \n",
              "2                       1012                          57    30      1  2020  \n",
              "3                       1012                          57    30      1  2020  \n",
              "4                       1012                          57    30      1  2020  \n",
              "\n",
              "[5 rows x 25 columns]"
            ],
            "text/html": [
              "\n",
              "  <div id=\"df-53a59182-cdd1-4192-9cf2-d6d8d0b28bcb\">\n",
              "    <div class=\"colab-df-container\">\n",
              "      <div>\n",
              "<style scoped>\n",
              "    .dataframe tbody tr th:only-of-type {\n",
              "        vertical-align: middle;\n",
              "    }\n",
              "\n",
              "    .dataframe tbody tr th {\n",
              "        vertical-align: top;\n",
              "    }\n",
              "\n",
              "    .dataframe thead th {\n",
              "        text-align: right;\n",
              "    }\n",
              "</style>\n",
              "<table border=\"1\" class=\"dataframe\">\n",
              "  <thead>\n",
              "    <tr style=\"text-align: right;\">\n",
              "      <th></th>\n",
              "      <th>From</th>\n",
              "      <th>To</th>\n",
              "      <th>Airline</th>\n",
              "      <th>SDEP</th>\n",
              "      <th>DEP</th>\n",
              "      <th>SARR</th>\n",
              "      <th>ARR</th>\n",
              "      <th>Departure Delay</th>\n",
              "      <th>Arrival Delay</th>\n",
              "      <th>Distance</th>\n",
              "      <th>...</th>\n",
              "      <th>weather__hourly__windspeedKmph</th>\n",
              "      <th>weather__hourly__weatherDesc__value</th>\n",
              "      <th>weather__hourly__precipMM</th>\n",
              "      <th>weather__hourly__humidity</th>\n",
              "      <th>weather__hourly__visibility</th>\n",
              "      <th>weather__hourly__pressure</th>\n",
              "      <th>weather__hourly__cloudcover</th>\n",
              "      <th>Date</th>\n",
              "      <th>Month</th>\n",
              "      <th>Year</th>\n",
              "    </tr>\n",
              "  </thead>\n",
              "  <tbody>\n",
              "    <tr>\n",
              "      <th>0</th>\n",
              "      <td>DEL</td>\n",
              "      <td>HYD</td>\n",
              "      <td>Air Asia</td>\n",
              "      <td>605</td>\n",
              "      <td>604</td>\n",
              "      <td>815</td>\n",
              "      <td>816</td>\n",
              "      <td>-1</td>\n",
              "      <td>1</td>\n",
              "      <td>1244</td>\n",
              "      <td>...</td>\n",
              "      <td>11</td>\n",
              "      <td>Partly cloudy</td>\n",
              "      <td>0</td>\n",
              "      <td>90</td>\n",
              "      <td>9</td>\n",
              "      <td>1012</td>\n",
              "      <td>57</td>\n",
              "      <td>31</td>\n",
              "      <td>1</td>\n",
              "      <td>2020</td>\n",
              "    </tr>\n",
              "    <tr>\n",
              "      <th>1</th>\n",
              "      <td>DEL</td>\n",
              "      <td>HYD</td>\n",
              "      <td>Indigo</td>\n",
              "      <td>450</td>\n",
              "      <td>436</td>\n",
              "      <td>700</td>\n",
              "      <td>655</td>\n",
              "      <td>-14</td>\n",
              "      <td>-5</td>\n",
              "      <td>1244</td>\n",
              "      <td>...</td>\n",
              "      <td>11</td>\n",
              "      <td>Partly cloudy</td>\n",
              "      <td>0</td>\n",
              "      <td>90</td>\n",
              "      <td>9</td>\n",
              "      <td>1012</td>\n",
              "      <td>57</td>\n",
              "      <td>31</td>\n",
              "      <td>1</td>\n",
              "      <td>2020</td>\n",
              "    </tr>\n",
              "    <tr>\n",
              "      <th>2</th>\n",
              "      <td>DEL</td>\n",
              "      <td>HYD</td>\n",
              "      <td>Air Asia</td>\n",
              "      <td>605</td>\n",
              "      <td>554</td>\n",
              "      <td>815</td>\n",
              "      <td>802</td>\n",
              "      <td>-11</td>\n",
              "      <td>-13</td>\n",
              "      <td>1244</td>\n",
              "      <td>...</td>\n",
              "      <td>11</td>\n",
              "      <td>Partly cloudy</td>\n",
              "      <td>0</td>\n",
              "      <td>90</td>\n",
              "      <td>9</td>\n",
              "      <td>1012</td>\n",
              "      <td>57</td>\n",
              "      <td>30</td>\n",
              "      <td>1</td>\n",
              "      <td>2020</td>\n",
              "    </tr>\n",
              "    <tr>\n",
              "      <th>3</th>\n",
              "      <td>DEL</td>\n",
              "      <td>HYD</td>\n",
              "      <td>Air Asia</td>\n",
              "      <td>1740</td>\n",
              "      <td>1740</td>\n",
              "      <td>1955</td>\n",
              "      <td>1942</td>\n",
              "      <td>0</td>\n",
              "      <td>-13</td>\n",
              "      <td>1244</td>\n",
              "      <td>...</td>\n",
              "      <td>11</td>\n",
              "      <td>Partly cloudy</td>\n",
              "      <td>0</td>\n",
              "      <td>90</td>\n",
              "      <td>9</td>\n",
              "      <td>1012</td>\n",
              "      <td>57</td>\n",
              "      <td>30</td>\n",
              "      <td>1</td>\n",
              "      <td>2020</td>\n",
              "    </tr>\n",
              "    <tr>\n",
              "      <th>4</th>\n",
              "      <td>DEL</td>\n",
              "      <td>HYD</td>\n",
              "      <td>Air Asia</td>\n",
              "      <td>1950</td>\n",
              "      <td>1954</td>\n",
              "      <td>2210</td>\n",
              "      <td>2214</td>\n",
              "      <td>4</td>\n",
              "      <td>4</td>\n",
              "      <td>1244</td>\n",
              "      <td>...</td>\n",
              "      <td>11</td>\n",
              "      <td>Partly cloudy</td>\n",
              "      <td>0</td>\n",
              "      <td>90</td>\n",
              "      <td>9</td>\n",
              "      <td>1012</td>\n",
              "      <td>57</td>\n",
              "      <td>30</td>\n",
              "      <td>1</td>\n",
              "      <td>2020</td>\n",
              "    </tr>\n",
              "  </tbody>\n",
              "</table>\n",
              "<p>5 rows × 25 columns</p>\n",
              "</div>\n",
              "      <button class=\"colab-df-convert\" onclick=\"convertToInteractive('df-53a59182-cdd1-4192-9cf2-d6d8d0b28bcb')\"\n",
              "              title=\"Convert this dataframe to an interactive table.\"\n",
              "              style=\"display:none;\">\n",
              "        \n",
              "  <svg xmlns=\"http://www.w3.org/2000/svg\" height=\"24px\"viewBox=\"0 0 24 24\"\n",
              "       width=\"24px\">\n",
              "    <path d=\"M0 0h24v24H0V0z\" fill=\"none\"/>\n",
              "    <path d=\"M18.56 5.44l.94 2.06.94-2.06 2.06-.94-2.06-.94-.94-2.06-.94 2.06-2.06.94zm-11 1L8.5 8.5l.94-2.06 2.06-.94-2.06-.94L8.5 2.5l-.94 2.06-2.06.94zm10 10l.94 2.06.94-2.06 2.06-.94-2.06-.94-.94-2.06-.94 2.06-2.06.94z\"/><path d=\"M17.41 7.96l-1.37-1.37c-.4-.4-.92-.59-1.43-.59-.52 0-1.04.2-1.43.59L10.3 9.45l-7.72 7.72c-.78.78-.78 2.05 0 2.83L4 21.41c.39.39.9.59 1.41.59.51 0 1.02-.2 1.41-.59l7.78-7.78 2.81-2.81c.8-.78.8-2.07 0-2.86zM5.41 20L4 18.59l7.72-7.72 1.47 1.35L5.41 20z\"/>\n",
              "  </svg>\n",
              "      </button>\n",
              "      \n",
              "  <style>\n",
              "    .colab-df-container {\n",
              "      display:flex;\n",
              "      flex-wrap:wrap;\n",
              "      gap: 12px;\n",
              "    }\n",
              "\n",
              "    .colab-df-convert {\n",
              "      background-color: #E8F0FE;\n",
              "      border: none;\n",
              "      border-radius: 50%;\n",
              "      cursor: pointer;\n",
              "      display: none;\n",
              "      fill: #1967D2;\n",
              "      height: 32px;\n",
              "      padding: 0 0 0 0;\n",
              "      width: 32px;\n",
              "    }\n",
              "\n",
              "    .colab-df-convert:hover {\n",
              "      background-color: #E2EBFA;\n",
              "      box-shadow: 0px 1px 2px rgba(60, 64, 67, 0.3), 0px 1px 3px 1px rgba(60, 64, 67, 0.15);\n",
              "      fill: #174EA6;\n",
              "    }\n",
              "\n",
              "    [theme=dark] .colab-df-convert {\n",
              "      background-color: #3B4455;\n",
              "      fill: #D2E3FC;\n",
              "    }\n",
              "\n",
              "    [theme=dark] .colab-df-convert:hover {\n",
              "      background-color: #434B5C;\n",
              "      box-shadow: 0px 1px 3px 1px rgba(0, 0, 0, 0.15);\n",
              "      filter: drop-shadow(0px 1px 2px rgba(0, 0, 0, 0.3));\n",
              "      fill: #FFFFFF;\n",
              "    }\n",
              "  </style>\n",
              "\n",
              "      <script>\n",
              "        const buttonEl =\n",
              "          document.querySelector('#df-53a59182-cdd1-4192-9cf2-d6d8d0b28bcb button.colab-df-convert');\n",
              "        buttonEl.style.display =\n",
              "          google.colab.kernel.accessAllowed ? 'block' : 'none';\n",
              "\n",
              "        async function convertToInteractive(key) {\n",
              "          const element = document.querySelector('#df-53a59182-cdd1-4192-9cf2-d6d8d0b28bcb');\n",
              "          const dataTable =\n",
              "            await google.colab.kernel.invokeFunction('convertToInteractive',\n",
              "                                                     [key], {});\n",
              "          if (!dataTable) return;\n",
              "\n",
              "          const docLinkHtml = 'Like what you see? Visit the ' +\n",
              "            '<a target=\"_blank\" href=https://colab.research.google.com/notebooks/data_table.ipynb>data table notebook</a>'\n",
              "            + ' to learn more about interactive tables.';\n",
              "          element.innerHTML = '';\n",
              "          dataTable['output_type'] = 'display_data';\n",
              "          await google.colab.output.renderOutput(dataTable, element);\n",
              "          const docLink = document.createElement('div');\n",
              "          docLink.innerHTML = docLinkHtml;\n",
              "          element.appendChild(docLink);\n",
              "        }\n",
              "      </script>\n",
              "    </div>\n",
              "  </div>\n",
              "  "
            ]
          },
          "metadata": {},
          "execution_count": 14
        }
      ]
    },
    {
      "cell_type": "code",
      "source": [
        "# Create a new column called dep_delay_category\n",
        "data['dep_delay_category'] = data['Departure Delay'].apply(lambda x: 1 if x > 0 else 0)\n",
        "# Create a new column called arr_delay_category\n",
        "data['arr_delay_category'] = data['Arrival Delay'].apply(lambda x: 1 if x > 0 else 0)"
      ],
      "metadata": {
        "id": "YBzVxcRC4xRg"
      },
      "execution_count": null,
      "outputs": []
    },
    {
      "cell_type": "code",
      "source": [
        "x = data[data['dep_delay_category'] == 1]"
      ],
      "metadata": {
        "id": "0sI3uj_cFXVs"
      },
      "execution_count": null,
      "outputs": []
    },
    {
      "cell_type": "code",
      "source": [
        "x.shape"
      ],
      "metadata": {
        "colab": {
          "base_uri": "https://localhost:8080/"
        },
        "id": "AJS6N5Q9FuX6",
        "outputId": "cde800a0-ea26-4225-b773-c81150a0e504"
      },
      "execution_count": null,
      "outputs": [
        {
          "output_type": "execute_result",
          "data": {
            "text/plain": [
              "(5247, 27)"
            ]
          },
          "metadata": {},
          "execution_count": 17
        }
      ]
    },
    {
      "cell_type": "code",
      "source": [
        "x[x['arr_delay_category'] == 1].shape"
      ],
      "metadata": {
        "colab": {
          "base_uri": "https://localhost:8080/"
        },
        "id": "KAwKXbjBFmTA",
        "outputId": "e583437b-59dc-4387-f5d6-b0036e3e127b"
      },
      "execution_count": null,
      "outputs": [
        {
          "output_type": "execute_result",
          "data": {
            "text/plain": [
              "(4264, 27)"
            ]
          },
          "metadata": {},
          "execution_count": 18
        }
      ]
    },
    {
      "cell_type": "code",
      "source": [
        "y = data[data['dep_delay_category'] == 0]"
      ],
      "metadata": {
        "id": "kDIxglSYFx8e"
      },
      "execution_count": null,
      "outputs": []
    },
    {
      "cell_type": "code",
      "source": [
        "y.shape"
      ],
      "metadata": {
        "id": "i-w4Tqz1F2mF",
        "outputId": "3fe59584-f10b-45e8-a2ed-9e98b4db6c59",
        "colab": {
          "base_uri": "https://localhost:8080/"
        }
      },
      "execution_count": null,
      "outputs": [
        {
          "output_type": "execute_result",
          "data": {
            "text/plain": [
              "(5471, 27)"
            ]
          },
          "metadata": {},
          "execution_count": 22
        }
      ]
    },
    {
      "cell_type": "code",
      "source": [
        "y[y['arr_delay_category'] == 1].shape"
      ],
      "metadata": {
        "id": "J696uSnRF6Av",
        "outputId": "06dc6e80-def6-4c03-d174-2df6d5df2dff",
        "colab": {
          "base_uri": "https://localhost:8080/"
        }
      },
      "execution_count": null,
      "outputs": [
        {
          "output_type": "execute_result",
          "data": {
            "text/plain": [
              "(1525, 27)"
            ]
          },
          "metadata": {},
          "execution_count": 23
        }
      ]
    },
    {
      "cell_type": "code",
      "source": [
        "data.info()"
      ],
      "metadata": {
        "colab": {
          "base_uri": "https://localhost:8080/"
        },
        "id": "8NUUluZ8Bnbn",
        "outputId": "be1b981b-27f1-4fea-c203-f3d6fb287610"
      },
      "execution_count": null,
      "outputs": [
        {
          "output_type": "stream",
          "name": "stdout",
          "text": [
            "<class 'pandas.core.frame.DataFrame'>\n",
            "RangeIndex: 10718 entries, 0 to 10717\n",
            "Data columns (total 27 columns):\n",
            " #   Column                               Non-Null Count  Dtype  \n",
            "---  ------                               --------------  -----  \n",
            " 0   From                                 10718 non-null  object \n",
            " 1   To                                   10718 non-null  object \n",
            " 2   Airline                              10718 non-null  object \n",
            " 3   SDEP                                 10718 non-null  int64  \n",
            " 4   DEP                                  10718 non-null  int64  \n",
            " 5   SARR                                 10718 non-null  int64  \n",
            " 6   ARR                                  10718 non-null  int64  \n",
            " 7   Departure Delay                      10718 non-null  int64  \n",
            " 8   Arrival Delay                        10718 non-null  int64  \n",
            " 9   Distance                             10718 non-null  int64  \n",
            " 10  Passenger Load Factor                10718 non-null  float64\n",
            " 11  Airline Rating                       10718 non-null  float64\n",
            " 12  Airport Rating                       10718 non-null  float64\n",
            " 13  Market Share                         10718 non-null  float64\n",
            " 14  OTP Index                            10718 non-null  float64\n",
            " 15  weather__hourly__windspeedKmph       10718 non-null  int64  \n",
            " 16  weather__hourly__weatherDesc__value  10718 non-null  object \n",
            " 17  weather__hourly__precipMM            10718 non-null  int64  \n",
            " 18  weather__hourly__humidity            10718 non-null  int64  \n",
            " 19  weather__hourly__visibility          10718 non-null  int64  \n",
            " 20  weather__hourly__pressure            10718 non-null  int64  \n",
            " 21  weather__hourly__cloudcover          10718 non-null  int64  \n",
            " 22  Date                                 10718 non-null  int64  \n",
            " 23  Month                                10718 non-null  int64  \n",
            " 24  Year                                 10718 non-null  int64  \n",
            " 25  dep_delay_category                   10718 non-null  int64  \n",
            " 26  arr_delay_category                   10718 non-null  int64  \n",
            "dtypes: float64(5), int64(18), object(4)\n",
            "memory usage: 2.2+ MB\n"
          ]
        }
      ]
    },
    {
      "cell_type": "code",
      "source": [
        "data.head()"
      ],
      "metadata": {
        "colab": {
          "base_uri": "https://localhost:8080/",
          "height": 317
        },
        "id": "3sVH52-mBpXL",
        "outputId": "4ab48936-cc71-453f-a4d7-b8551ec57034"
      },
      "execution_count": null,
      "outputs": [
        {
          "output_type": "execute_result",
          "data": {
            "text/plain": [
              "  From   To   Airline  SDEP   DEP  SARR   ARR  Departure Delay  Arrival Delay  \\\n",
              "0  DEL  HYD  Air Asia   605   604   815   816               -1              1   \n",
              "1  DEL  HYD    Indigo   450   436   700   655              -14             -5   \n",
              "2  DEL  HYD  Air Asia   605   554   815   802              -11            -13   \n",
              "3  DEL  HYD  Air Asia  1740  1740  1955  1942                0            -13   \n",
              "4  DEL  HYD  Air Asia  1950  1954  2210  2214                4              4   \n",
              "\n",
              "   Distance  ...  weather__hourly__precipMM  weather__hourly__humidity  \\\n",
              "0      1244  ...                          0                         90   \n",
              "1      1244  ...                          0                         90   \n",
              "2      1244  ...                          0                         90   \n",
              "3      1244  ...                          0                         90   \n",
              "4      1244  ...                          0                         90   \n",
              "\n",
              "   weather__hourly__visibility  weather__hourly__pressure  \\\n",
              "0                            9                       1012   \n",
              "1                            9                       1012   \n",
              "2                            9                       1012   \n",
              "3                            9                       1012   \n",
              "4                            9                       1012   \n",
              "\n",
              "   weather__hourly__cloudcover  Date Month  Year  dep_delay_category  \\\n",
              "0                           57    31     1  2020                   0   \n",
              "1                           57    31     1  2020                   0   \n",
              "2                           57    30     1  2020                   0   \n",
              "3                           57    30     1  2020                   0   \n",
              "4                           57    30     1  2020                   1   \n",
              "\n",
              "   arr_delay_category  \n",
              "0                   1  \n",
              "1                   0  \n",
              "2                   0  \n",
              "3                   0  \n",
              "4                   1  \n",
              "\n",
              "[5 rows x 27 columns]"
            ],
            "text/html": [
              "\n",
              "  <div id=\"df-021ae63a-893b-4cdd-8c27-52969e8d70da\">\n",
              "    <div class=\"colab-df-container\">\n",
              "      <div>\n",
              "<style scoped>\n",
              "    .dataframe tbody tr th:only-of-type {\n",
              "        vertical-align: middle;\n",
              "    }\n",
              "\n",
              "    .dataframe tbody tr th {\n",
              "        vertical-align: top;\n",
              "    }\n",
              "\n",
              "    .dataframe thead th {\n",
              "        text-align: right;\n",
              "    }\n",
              "</style>\n",
              "<table border=\"1\" class=\"dataframe\">\n",
              "  <thead>\n",
              "    <tr style=\"text-align: right;\">\n",
              "      <th></th>\n",
              "      <th>From</th>\n",
              "      <th>To</th>\n",
              "      <th>Airline</th>\n",
              "      <th>SDEP</th>\n",
              "      <th>DEP</th>\n",
              "      <th>SARR</th>\n",
              "      <th>ARR</th>\n",
              "      <th>Departure Delay</th>\n",
              "      <th>Arrival Delay</th>\n",
              "      <th>Distance</th>\n",
              "      <th>...</th>\n",
              "      <th>weather__hourly__precipMM</th>\n",
              "      <th>weather__hourly__humidity</th>\n",
              "      <th>weather__hourly__visibility</th>\n",
              "      <th>weather__hourly__pressure</th>\n",
              "      <th>weather__hourly__cloudcover</th>\n",
              "      <th>Date</th>\n",
              "      <th>Month</th>\n",
              "      <th>Year</th>\n",
              "      <th>dep_delay_category</th>\n",
              "      <th>arr_delay_category</th>\n",
              "    </tr>\n",
              "  </thead>\n",
              "  <tbody>\n",
              "    <tr>\n",
              "      <th>0</th>\n",
              "      <td>DEL</td>\n",
              "      <td>HYD</td>\n",
              "      <td>Air Asia</td>\n",
              "      <td>605</td>\n",
              "      <td>604</td>\n",
              "      <td>815</td>\n",
              "      <td>816</td>\n",
              "      <td>-1</td>\n",
              "      <td>1</td>\n",
              "      <td>1244</td>\n",
              "      <td>...</td>\n",
              "      <td>0</td>\n",
              "      <td>90</td>\n",
              "      <td>9</td>\n",
              "      <td>1012</td>\n",
              "      <td>57</td>\n",
              "      <td>31</td>\n",
              "      <td>1</td>\n",
              "      <td>2020</td>\n",
              "      <td>0</td>\n",
              "      <td>1</td>\n",
              "    </tr>\n",
              "    <tr>\n",
              "      <th>1</th>\n",
              "      <td>DEL</td>\n",
              "      <td>HYD</td>\n",
              "      <td>Indigo</td>\n",
              "      <td>450</td>\n",
              "      <td>436</td>\n",
              "      <td>700</td>\n",
              "      <td>655</td>\n",
              "      <td>-14</td>\n",
              "      <td>-5</td>\n",
              "      <td>1244</td>\n",
              "      <td>...</td>\n",
              "      <td>0</td>\n",
              "      <td>90</td>\n",
              "      <td>9</td>\n",
              "      <td>1012</td>\n",
              "      <td>57</td>\n",
              "      <td>31</td>\n",
              "      <td>1</td>\n",
              "      <td>2020</td>\n",
              "      <td>0</td>\n",
              "      <td>0</td>\n",
              "    </tr>\n",
              "    <tr>\n",
              "      <th>2</th>\n",
              "      <td>DEL</td>\n",
              "      <td>HYD</td>\n",
              "      <td>Air Asia</td>\n",
              "      <td>605</td>\n",
              "      <td>554</td>\n",
              "      <td>815</td>\n",
              "      <td>802</td>\n",
              "      <td>-11</td>\n",
              "      <td>-13</td>\n",
              "      <td>1244</td>\n",
              "      <td>...</td>\n",
              "      <td>0</td>\n",
              "      <td>90</td>\n",
              "      <td>9</td>\n",
              "      <td>1012</td>\n",
              "      <td>57</td>\n",
              "      <td>30</td>\n",
              "      <td>1</td>\n",
              "      <td>2020</td>\n",
              "      <td>0</td>\n",
              "      <td>0</td>\n",
              "    </tr>\n",
              "    <tr>\n",
              "      <th>3</th>\n",
              "      <td>DEL</td>\n",
              "      <td>HYD</td>\n",
              "      <td>Air Asia</td>\n",
              "      <td>1740</td>\n",
              "      <td>1740</td>\n",
              "      <td>1955</td>\n",
              "      <td>1942</td>\n",
              "      <td>0</td>\n",
              "      <td>-13</td>\n",
              "      <td>1244</td>\n",
              "      <td>...</td>\n",
              "      <td>0</td>\n",
              "      <td>90</td>\n",
              "      <td>9</td>\n",
              "      <td>1012</td>\n",
              "      <td>57</td>\n",
              "      <td>30</td>\n",
              "      <td>1</td>\n",
              "      <td>2020</td>\n",
              "      <td>0</td>\n",
              "      <td>0</td>\n",
              "    </tr>\n",
              "    <tr>\n",
              "      <th>4</th>\n",
              "      <td>DEL</td>\n",
              "      <td>HYD</td>\n",
              "      <td>Air Asia</td>\n",
              "      <td>1950</td>\n",
              "      <td>1954</td>\n",
              "      <td>2210</td>\n",
              "      <td>2214</td>\n",
              "      <td>4</td>\n",
              "      <td>4</td>\n",
              "      <td>1244</td>\n",
              "      <td>...</td>\n",
              "      <td>0</td>\n",
              "      <td>90</td>\n",
              "      <td>9</td>\n",
              "      <td>1012</td>\n",
              "      <td>57</td>\n",
              "      <td>30</td>\n",
              "      <td>1</td>\n",
              "      <td>2020</td>\n",
              "      <td>1</td>\n",
              "      <td>1</td>\n",
              "    </tr>\n",
              "  </tbody>\n",
              "</table>\n",
              "<p>5 rows × 27 columns</p>\n",
              "</div>\n",
              "      <button class=\"colab-df-convert\" onclick=\"convertToInteractive('df-021ae63a-893b-4cdd-8c27-52969e8d70da')\"\n",
              "              title=\"Convert this dataframe to an interactive table.\"\n",
              "              style=\"display:none;\">\n",
              "        \n",
              "  <svg xmlns=\"http://www.w3.org/2000/svg\" height=\"24px\"viewBox=\"0 0 24 24\"\n",
              "       width=\"24px\">\n",
              "    <path d=\"M0 0h24v24H0V0z\" fill=\"none\"/>\n",
              "    <path d=\"M18.56 5.44l.94 2.06.94-2.06 2.06-.94-2.06-.94-.94-2.06-.94 2.06-2.06.94zm-11 1L8.5 8.5l.94-2.06 2.06-.94-2.06-.94L8.5 2.5l-.94 2.06-2.06.94zm10 10l.94 2.06.94-2.06 2.06-.94-2.06-.94-.94-2.06-.94 2.06-2.06.94z\"/><path d=\"M17.41 7.96l-1.37-1.37c-.4-.4-.92-.59-1.43-.59-.52 0-1.04.2-1.43.59L10.3 9.45l-7.72 7.72c-.78.78-.78 2.05 0 2.83L4 21.41c.39.39.9.59 1.41.59.51 0 1.02-.2 1.41-.59l7.78-7.78 2.81-2.81c.8-.78.8-2.07 0-2.86zM5.41 20L4 18.59l7.72-7.72 1.47 1.35L5.41 20z\"/>\n",
              "  </svg>\n",
              "      </button>\n",
              "      \n",
              "  <style>\n",
              "    .colab-df-container {\n",
              "      display:flex;\n",
              "      flex-wrap:wrap;\n",
              "      gap: 12px;\n",
              "    }\n",
              "\n",
              "    .colab-df-convert {\n",
              "      background-color: #E8F0FE;\n",
              "      border: none;\n",
              "      border-radius: 50%;\n",
              "      cursor: pointer;\n",
              "      display: none;\n",
              "      fill: #1967D2;\n",
              "      height: 32px;\n",
              "      padding: 0 0 0 0;\n",
              "      width: 32px;\n",
              "    }\n",
              "\n",
              "    .colab-df-convert:hover {\n",
              "      background-color: #E2EBFA;\n",
              "      box-shadow: 0px 1px 2px rgba(60, 64, 67, 0.3), 0px 1px 3px 1px rgba(60, 64, 67, 0.15);\n",
              "      fill: #174EA6;\n",
              "    }\n",
              "\n",
              "    [theme=dark] .colab-df-convert {\n",
              "      background-color: #3B4455;\n",
              "      fill: #D2E3FC;\n",
              "    }\n",
              "\n",
              "    [theme=dark] .colab-df-convert:hover {\n",
              "      background-color: #434B5C;\n",
              "      box-shadow: 0px 1px 3px 1px rgba(0, 0, 0, 0.15);\n",
              "      filter: drop-shadow(0px 1px 2px rgba(0, 0, 0, 0.3));\n",
              "      fill: #FFFFFF;\n",
              "    }\n",
              "  </style>\n",
              "\n",
              "      <script>\n",
              "        const buttonEl =\n",
              "          document.querySelector('#df-021ae63a-893b-4cdd-8c27-52969e8d70da button.colab-df-convert');\n",
              "        buttonEl.style.display =\n",
              "          google.colab.kernel.accessAllowed ? 'block' : 'none';\n",
              "\n",
              "        async function convertToInteractive(key) {\n",
              "          const element = document.querySelector('#df-021ae63a-893b-4cdd-8c27-52969e8d70da');\n",
              "          const dataTable =\n",
              "            await google.colab.kernel.invokeFunction('convertToInteractive',\n",
              "                                                     [key], {});\n",
              "          if (!dataTable) return;\n",
              "\n",
              "          const docLinkHtml = 'Like what you see? Visit the ' +\n",
              "            '<a target=\"_blank\" href=https://colab.research.google.com/notebooks/data_table.ipynb>data table notebook</a>'\n",
              "            + ' to learn more about interactive tables.';\n",
              "          element.innerHTML = '';\n",
              "          dataTable['output_type'] = 'display_data';\n",
              "          await google.colab.output.renderOutput(dataTable, element);\n",
              "          const docLink = document.createElement('div');\n",
              "          docLink.innerHTML = docLinkHtml;\n",
              "          element.appendChild(docLink);\n",
              "        }\n",
              "      </script>\n",
              "    </div>\n",
              "  </div>\n",
              "  "
            ]
          },
          "metadata": {},
          "execution_count": 20
        }
      ]
    },
    {
      "cell_type": "code",
      "source": [
        "from sklearn.preprocessing import LabelEncoder\n",
        "\n",
        "# encode categorical data into numeric values\n",
        "labelEncoder = LabelEncoder()\n",
        "data[\"From\"] = labelEncoder.fit_transform(data[\"From\"])\n",
        "data[\"To\"] = labelEncoder.fit_transform(data[\"To\"])"
      ],
      "metadata": {
        "id": "LmqikBKXBswL"
      },
      "execution_count": null,
      "outputs": []
    },
    {
      "cell_type": "code",
      "source": [
        "data['Airline'] = data['Airline'].replace('Spicejet', 'SpiceJet')"
      ],
      "metadata": {
        "id": "giWRW55lCKR3"
      },
      "execution_count": null,
      "outputs": []
    },
    {
      "cell_type": "code",
      "source": [
        "data['Airline'].unique()"
      ],
      "metadata": {
        "colab": {
          "base_uri": "https://localhost:8080/"
        },
        "id": "lj6QW0QHCLPv",
        "outputId": "23e11bec-eb72-4003-f4bd-12685407c5d7"
      },
      "execution_count": null,
      "outputs": [
        {
          "output_type": "execute_result",
          "data": {
            "text/plain": [
              "array(['Air Asia', 'Indigo', 'Air India', 'SpiceJet', 'Vistara', 'Go Air'],\n",
              "      dtype=object)"
            ]
          },
          "metadata": {},
          "execution_count": 23
        }
      ]
    },
    {
      "cell_type": "code",
      "source": [
        "# Encoding Airline\n",
        "data[\"Airline\"] = labelEncoder.fit_transform(data[\"Airline\"])\n",
        "\n",
        "# Encoding weather__hourly__weatherDesc__value\n",
        "data[\"weather__hourly__weatherDesc__value\"] = labelEncoder.fit_transform(data[\"weather__hourly__weatherDesc__value\"])"
      ],
      "metadata": {
        "id": "SMnfTCN-CYcz"
      },
      "execution_count": null,
      "outputs": []
    },
    {
      "cell_type": "code",
      "source": [
        "data.info()"
      ],
      "metadata": {
        "colab": {
          "base_uri": "https://localhost:8080/"
        },
        "id": "AuEVAsX8DEAX",
        "outputId": "7acbb651-f689-4558-bc5e-ad20397417c0"
      },
      "execution_count": null,
      "outputs": [
        {
          "output_type": "stream",
          "name": "stdout",
          "text": [
            "<class 'pandas.core.frame.DataFrame'>\n",
            "RangeIndex: 10718 entries, 0 to 10717\n",
            "Data columns (total 27 columns):\n",
            " #   Column                               Non-Null Count  Dtype  \n",
            "---  ------                               --------------  -----  \n",
            " 0   From                                 10718 non-null  int64  \n",
            " 1   To                                   10718 non-null  int64  \n",
            " 2   Airline                              10718 non-null  int64  \n",
            " 3   SDEP                                 10718 non-null  int64  \n",
            " 4   DEP                                  10718 non-null  int64  \n",
            " 5   SARR                                 10718 non-null  int64  \n",
            " 6   ARR                                  10718 non-null  int64  \n",
            " 7   Departure Delay                      10718 non-null  int64  \n",
            " 8   Arrival Delay                        10718 non-null  int64  \n",
            " 9   Distance                             10718 non-null  int64  \n",
            " 10  Passenger Load Factor                10718 non-null  float64\n",
            " 11  Airline Rating                       10718 non-null  float64\n",
            " 12  Airport Rating                       10718 non-null  float64\n",
            " 13  Market Share                         10718 non-null  float64\n",
            " 14  OTP Index                            10718 non-null  float64\n",
            " 15  weather__hourly__windspeedKmph       10718 non-null  int64  \n",
            " 16  weather__hourly__weatherDesc__value  10718 non-null  int64  \n",
            " 17  weather__hourly__precipMM            10718 non-null  int64  \n",
            " 18  weather__hourly__humidity            10718 non-null  int64  \n",
            " 19  weather__hourly__visibility          10718 non-null  int64  \n",
            " 20  weather__hourly__pressure            10718 non-null  int64  \n",
            " 21  weather__hourly__cloudcover          10718 non-null  int64  \n",
            " 22  Date                                 10718 non-null  int64  \n",
            " 23  Month                                10718 non-null  int64  \n",
            " 24  Year                                 10718 non-null  int64  \n",
            " 25  dep_delay_category                   10718 non-null  int64  \n",
            " 26  arr_delay_category                   10718 non-null  int64  \n",
            "dtypes: float64(5), int64(22)\n",
            "memory usage: 2.2 MB\n"
          ]
        }
      ]
    },
    {
      "cell_type": "code",
      "source": [
        "data['Passenger Load Factor'].unique()"
      ],
      "metadata": {
        "colab": {
          "base_uri": "https://localhost:8080/"
        },
        "id": "Ge_kIBPNgQ_m",
        "outputId": "92ad5fc2-38af-48ce-8fa1-1a051d351880"
      },
      "execution_count": null,
      "outputs": [
        {
          "output_type": "execute_result",
          "data": {
            "text/plain": [
              "array([85. , 89. , 80. , 92. , 82. , 90. , 84.3, 89.7, 90.1, 92.7, 81.1,\n",
              "       86.5, 83. , 87.6, 84.9, 91.1, 83.1, 85.1, 76. , 77.9, 86.7, 84.7,\n",
              "       79. , 93. , 92.4, 82.4, 89.5, 82.5, 88.5, 93.7, 90.9, 94. , 93.3,\n",
              "       87.8, 84.6, 91.4, 86.8, 87.5, 91.8, 88.4, 84.2])"
            ]
          },
          "metadata": {},
          "execution_count": 26
        }
      ]
    },
    {
      "cell_type": "markdown",
      "source": [
        "## Environment Setup"
      ],
      "metadata": {
        "id": "s3PZ8ySGPWxx"
      }
    },
    {
      "cell_type": "code",
      "source": [
        "# Store the classifier models to save time\n",
        "import joblib\n",
        "\n",
        "# Preprocessing\n",
        "from sklearn.preprocessing import LabelEncoder\n",
        "from sklearn.model_selection import train_test_split\n",
        "\n",
        "# Classifiers from scikit-learn\n",
        "from sklearn import svm\n",
        "from sklearn.linear_model import LogisticRegression\n",
        "from sklearn.tree import DecisionTreeClassifier\n",
        "from sklearn.ensemble import GradientBoostingClassifier\n",
        "from sklearn.ensemble import RandomForestClassifier\n",
        "\n",
        "\n",
        "# Performance metrics\n",
        "from sklearn.metrics import accuracy_score\n",
        "from sklearn.metrics import f1_score\n",
        "from sklearn.metrics import precision_score\n",
        "from sklearn.metrics import recall_score\n",
        "from sklearn.metrics import classification_report\n",
        "from sklearn.metrics import confusion_matrix\n",
        "\n",
        "\n",
        "from sklearn.metrics import roc_curve\n",
        "from sklearn.metrics import roc_auc_score"
      ],
      "metadata": {
        "id": "jxxndk6WDF7J"
      },
      "execution_count": null,
      "outputs": []
    },
    {
      "cell_type": "code",
      "source": [
        "features = data.drop(columns=[\"arr_delay_category\", \"Arrival Delay\", \"SARR\", \"ARR\", \"Year\"\n",
        "                            ])\n",
        "# data.loc[:, data.columns != [\"arr_delay_category\", \"dep_delay_category\"]]\n",
        "labels = np.asarray(data[\"arr_delay_category\"])\n",
        "print(features.columns)\n",
        "data[[\"From\", \"To\"]]"
      ],
      "metadata": {
        "colab": {
          "base_uri": "https://localhost:8080/",
          "height": 562
        },
        "id": "e5tJ5RgDPZvi",
        "outputId": "5805d5e2-8776-4242-d27b-2cccff4b6f60"
      },
      "execution_count": null,
      "outputs": [
        {
          "output_type": "stream",
          "name": "stdout",
          "text": [
            "Index(['From', 'To', 'Airline', 'SDEP', 'DEP', 'Departure Delay', 'Distance',\n",
            "       'Passenger Load Factor', 'Airline Rating', 'Airport Rating',\n",
            "       'Market Share', 'OTP Index', 'weather__hourly__windspeedKmph',\n",
            "       'weather__hourly__weatherDesc__value', 'weather__hourly__precipMM',\n",
            "       'weather__hourly__humidity', 'weather__hourly__visibility',\n",
            "       'weather__hourly__pressure', 'weather__hourly__cloudcover', 'Date',\n",
            "       'Month', 'dep_delay_category'],\n",
            "      dtype='object')\n"
          ]
        },
        {
          "output_type": "execute_result",
          "data": {
            "text/plain": [
              "       From  To\n",
              "0         3   2\n",
              "1         3   2\n",
              "2         3   2\n",
              "3         3   2\n",
              "4         3   2\n",
              "...     ...  ..\n",
              "10713     2   1\n",
              "10714     2   1\n",
              "10715     2   1\n",
              "10716     3   2\n",
              "10717     1   1\n",
              "\n",
              "[10718 rows x 2 columns]"
            ],
            "text/html": [
              "\n",
              "  <div id=\"df-3435313b-45f1-4129-8938-933dee2d5462\">\n",
              "    <div class=\"colab-df-container\">\n",
              "      <div>\n",
              "<style scoped>\n",
              "    .dataframe tbody tr th:only-of-type {\n",
              "        vertical-align: middle;\n",
              "    }\n",
              "\n",
              "    .dataframe tbody tr th {\n",
              "        vertical-align: top;\n",
              "    }\n",
              "\n",
              "    .dataframe thead th {\n",
              "        text-align: right;\n",
              "    }\n",
              "</style>\n",
              "<table border=\"1\" class=\"dataframe\">\n",
              "  <thead>\n",
              "    <tr style=\"text-align: right;\">\n",
              "      <th></th>\n",
              "      <th>From</th>\n",
              "      <th>To</th>\n",
              "    </tr>\n",
              "  </thead>\n",
              "  <tbody>\n",
              "    <tr>\n",
              "      <th>0</th>\n",
              "      <td>3</td>\n",
              "      <td>2</td>\n",
              "    </tr>\n",
              "    <tr>\n",
              "      <th>1</th>\n",
              "      <td>3</td>\n",
              "      <td>2</td>\n",
              "    </tr>\n",
              "    <tr>\n",
              "      <th>2</th>\n",
              "      <td>3</td>\n",
              "      <td>2</td>\n",
              "    </tr>\n",
              "    <tr>\n",
              "      <th>3</th>\n",
              "      <td>3</td>\n",
              "      <td>2</td>\n",
              "    </tr>\n",
              "    <tr>\n",
              "      <th>4</th>\n",
              "      <td>3</td>\n",
              "      <td>2</td>\n",
              "    </tr>\n",
              "    <tr>\n",
              "      <th>...</th>\n",
              "      <td>...</td>\n",
              "      <td>...</td>\n",
              "    </tr>\n",
              "    <tr>\n",
              "      <th>10713</th>\n",
              "      <td>2</td>\n",
              "      <td>1</td>\n",
              "    </tr>\n",
              "    <tr>\n",
              "      <th>10714</th>\n",
              "      <td>2</td>\n",
              "      <td>1</td>\n",
              "    </tr>\n",
              "    <tr>\n",
              "      <th>10715</th>\n",
              "      <td>2</td>\n",
              "      <td>1</td>\n",
              "    </tr>\n",
              "    <tr>\n",
              "      <th>10716</th>\n",
              "      <td>3</td>\n",
              "      <td>2</td>\n",
              "    </tr>\n",
              "    <tr>\n",
              "      <th>10717</th>\n",
              "      <td>1</td>\n",
              "      <td>1</td>\n",
              "    </tr>\n",
              "  </tbody>\n",
              "</table>\n",
              "<p>10718 rows × 2 columns</p>\n",
              "</div>\n",
              "      <button class=\"colab-df-convert\" onclick=\"convertToInteractive('df-3435313b-45f1-4129-8938-933dee2d5462')\"\n",
              "              title=\"Convert this dataframe to an interactive table.\"\n",
              "              style=\"display:none;\">\n",
              "        \n",
              "  <svg xmlns=\"http://www.w3.org/2000/svg\" height=\"24px\"viewBox=\"0 0 24 24\"\n",
              "       width=\"24px\">\n",
              "    <path d=\"M0 0h24v24H0V0z\" fill=\"none\"/>\n",
              "    <path d=\"M18.56 5.44l.94 2.06.94-2.06 2.06-.94-2.06-.94-.94-2.06-.94 2.06-2.06.94zm-11 1L8.5 8.5l.94-2.06 2.06-.94-2.06-.94L8.5 2.5l-.94 2.06-2.06.94zm10 10l.94 2.06.94-2.06 2.06-.94-2.06-.94-.94-2.06-.94 2.06-2.06.94z\"/><path d=\"M17.41 7.96l-1.37-1.37c-.4-.4-.92-.59-1.43-.59-.52 0-1.04.2-1.43.59L10.3 9.45l-7.72 7.72c-.78.78-.78 2.05 0 2.83L4 21.41c.39.39.9.59 1.41.59.51 0 1.02-.2 1.41-.59l7.78-7.78 2.81-2.81c.8-.78.8-2.07 0-2.86zM5.41 20L4 18.59l7.72-7.72 1.47 1.35L5.41 20z\"/>\n",
              "  </svg>\n",
              "      </button>\n",
              "      \n",
              "  <style>\n",
              "    .colab-df-container {\n",
              "      display:flex;\n",
              "      flex-wrap:wrap;\n",
              "      gap: 12px;\n",
              "    }\n",
              "\n",
              "    .colab-df-convert {\n",
              "      background-color: #E8F0FE;\n",
              "      border: none;\n",
              "      border-radius: 50%;\n",
              "      cursor: pointer;\n",
              "      display: none;\n",
              "      fill: #1967D2;\n",
              "      height: 32px;\n",
              "      padding: 0 0 0 0;\n",
              "      width: 32px;\n",
              "    }\n",
              "\n",
              "    .colab-df-convert:hover {\n",
              "      background-color: #E2EBFA;\n",
              "      box-shadow: 0px 1px 2px rgba(60, 64, 67, 0.3), 0px 1px 3px 1px rgba(60, 64, 67, 0.15);\n",
              "      fill: #174EA6;\n",
              "    }\n",
              "\n",
              "    [theme=dark] .colab-df-convert {\n",
              "      background-color: #3B4455;\n",
              "      fill: #D2E3FC;\n",
              "    }\n",
              "\n",
              "    [theme=dark] .colab-df-convert:hover {\n",
              "      background-color: #434B5C;\n",
              "      box-shadow: 0px 1px 3px 1px rgba(0, 0, 0, 0.15);\n",
              "      filter: drop-shadow(0px 1px 2px rgba(0, 0, 0, 0.3));\n",
              "      fill: #FFFFFF;\n",
              "    }\n",
              "  </style>\n",
              "\n",
              "      <script>\n",
              "        const buttonEl =\n",
              "          document.querySelector('#df-3435313b-45f1-4129-8938-933dee2d5462 button.colab-df-convert');\n",
              "        buttonEl.style.display =\n",
              "          google.colab.kernel.accessAllowed ? 'block' : 'none';\n",
              "\n",
              "        async function convertToInteractive(key) {\n",
              "          const element = document.querySelector('#df-3435313b-45f1-4129-8938-933dee2d5462');\n",
              "          const dataTable =\n",
              "            await google.colab.kernel.invokeFunction('convertToInteractive',\n",
              "                                                     [key], {});\n",
              "          if (!dataTable) return;\n",
              "\n",
              "          const docLinkHtml = 'Like what you see? Visit the ' +\n",
              "            '<a target=\"_blank\" href=https://colab.research.google.com/notebooks/data_table.ipynb>data table notebook</a>'\n",
              "            + ' to learn more about interactive tables.';\n",
              "          element.innerHTML = '';\n",
              "          dataTable['output_type'] = 'display_data';\n",
              "          await google.colab.output.renderOutput(dataTable, element);\n",
              "          const docLink = document.createElement('div');\n",
              "          docLink.innerHTML = docLinkHtml;\n",
              "          element.appendChild(docLink);\n",
              "        }\n",
              "      </script>\n",
              "    </div>\n",
              "  </div>\n",
              "  "
            ]
          },
          "metadata": {},
          "execution_count": 28
        }
      ]
    },
    {
      "cell_type": "code",
      "source": [
        "print(f\"\\nDataset shape: {data.shape}\")\n",
        "X_train, X_test, y_train, y_test = train_test_split(features, labels, test_size=0.20, random_state=42)\n",
        "print(f\"features_train shape: {X_train.shape} | features_test shape: {X_test.shape}\")\n",
        "print(f\"labels_train shape: {y_train.shape} | labels_test shape: {y_test.shape}\")"
      ],
      "metadata": {
        "colab": {
          "base_uri": "https://localhost:8080/"
        },
        "id": "gFZhKSLeP0nq",
        "outputId": "6d60ebba-fab6-4a93-d80d-31c5d980f58d"
      },
      "execution_count": null,
      "outputs": [
        {
          "output_type": "stream",
          "name": "stdout",
          "text": [
            "\n",
            "Dataset shape: (10718, 27)\n",
            "features_train shape: (8574, 22) | features_test shape: (2144, 22)\n",
            "labels_train shape: (8574,) | labels_test shape: (2144,)\n"
          ]
        }
      ]
    },
    {
      "cell_type": "code",
      "source": [
        "from sklearn.preprocessing import StandardScaler\n",
        "\n",
        "scaler = StandardScaler()\n",
        "\n",
        "scaler.fit(X_train)\n",
        "X_train_scaled = scaler.transform(X_train)\n",
        "X_test_scaled = scaler.transform(X_test)"
      ],
      "metadata": {
        "id": "usjqRFy6U0SA"
      },
      "execution_count": null,
      "outputs": []
    },
    {
      "cell_type": "markdown",
      "source": [
        "# Logistic Regression"
      ],
      "metadata": {
        "id": "bHzYumCDQSOu"
      }
    },
    {
      "cell_type": "code",
      "source": [
        "logisticRegr = LogisticRegression()\n",
        "logisticRegr.fit(X_train_scaled, y_train)"
      ],
      "metadata": {
        "colab": {
          "base_uri": "https://localhost:8080/",
          "height": 74
        },
        "id": "tlpWHzbnQVuK",
        "outputId": "376b0ac9-d45f-412a-ece5-e9d0728d20e4"
      },
      "execution_count": null,
      "outputs": [
        {
          "output_type": "execute_result",
          "data": {
            "text/plain": [
              "LogisticRegression()"
            ],
            "text/html": [
              "<style>#sk-container-id-1 {color: black;background-color: white;}#sk-container-id-1 pre{padding: 0;}#sk-container-id-1 div.sk-toggleable {background-color: white;}#sk-container-id-1 label.sk-toggleable__label {cursor: pointer;display: block;width: 100%;margin-bottom: 0;padding: 0.3em;box-sizing: border-box;text-align: center;}#sk-container-id-1 label.sk-toggleable__label-arrow:before {content: \"▸\";float: left;margin-right: 0.25em;color: #696969;}#sk-container-id-1 label.sk-toggleable__label-arrow:hover:before {color: black;}#sk-container-id-1 div.sk-estimator:hover label.sk-toggleable__label-arrow:before {color: black;}#sk-container-id-1 div.sk-toggleable__content {max-height: 0;max-width: 0;overflow: hidden;text-align: left;background-color: #f0f8ff;}#sk-container-id-1 div.sk-toggleable__content pre {margin: 0.2em;color: black;border-radius: 0.25em;background-color: #f0f8ff;}#sk-container-id-1 input.sk-toggleable__control:checked~div.sk-toggleable__content {max-height: 200px;max-width: 100%;overflow: auto;}#sk-container-id-1 input.sk-toggleable__control:checked~label.sk-toggleable__label-arrow:before {content: \"▾\";}#sk-container-id-1 div.sk-estimator input.sk-toggleable__control:checked~label.sk-toggleable__label {background-color: #d4ebff;}#sk-container-id-1 div.sk-label input.sk-toggleable__control:checked~label.sk-toggleable__label {background-color: #d4ebff;}#sk-container-id-1 input.sk-hidden--visually {border: 0;clip: rect(1px 1px 1px 1px);clip: rect(1px, 1px, 1px, 1px);height: 1px;margin: -1px;overflow: hidden;padding: 0;position: absolute;width: 1px;}#sk-container-id-1 div.sk-estimator {font-family: monospace;background-color: #f0f8ff;border: 1px dotted black;border-radius: 0.25em;box-sizing: border-box;margin-bottom: 0.5em;}#sk-container-id-1 div.sk-estimator:hover {background-color: #d4ebff;}#sk-container-id-1 div.sk-parallel-item::after {content: \"\";width: 100%;border-bottom: 1px solid gray;flex-grow: 1;}#sk-container-id-1 div.sk-label:hover label.sk-toggleable__label {background-color: #d4ebff;}#sk-container-id-1 div.sk-serial::before {content: \"\";position: absolute;border-left: 1px solid gray;box-sizing: border-box;top: 0;bottom: 0;left: 50%;z-index: 0;}#sk-container-id-1 div.sk-serial {display: flex;flex-direction: column;align-items: center;background-color: white;padding-right: 0.2em;padding-left: 0.2em;position: relative;}#sk-container-id-1 div.sk-item {position: relative;z-index: 1;}#sk-container-id-1 div.sk-parallel {display: flex;align-items: stretch;justify-content: center;background-color: white;position: relative;}#sk-container-id-1 div.sk-item::before, #sk-container-id-1 div.sk-parallel-item::before {content: \"\";position: absolute;border-left: 1px solid gray;box-sizing: border-box;top: 0;bottom: 0;left: 50%;z-index: -1;}#sk-container-id-1 div.sk-parallel-item {display: flex;flex-direction: column;z-index: 1;position: relative;background-color: white;}#sk-container-id-1 div.sk-parallel-item:first-child::after {align-self: flex-end;width: 50%;}#sk-container-id-1 div.sk-parallel-item:last-child::after {align-self: flex-start;width: 50%;}#sk-container-id-1 div.sk-parallel-item:only-child::after {width: 0;}#sk-container-id-1 div.sk-dashed-wrapped {border: 1px dashed gray;margin: 0 0.4em 0.5em 0.4em;box-sizing: border-box;padding-bottom: 0.4em;background-color: white;}#sk-container-id-1 div.sk-label label {font-family: monospace;font-weight: bold;display: inline-block;line-height: 1.2em;}#sk-container-id-1 div.sk-label-container {text-align: center;}#sk-container-id-1 div.sk-container {/* jupyter's `normalize.less` sets `[hidden] { display: none; }` but bootstrap.min.css set `[hidden] { display: none !important; }` so we also need the `!important` here to be able to override the default hidden behavior on the sphinx rendered scikit-learn.org. See: https://github.com/scikit-learn/scikit-learn/issues/21755 */display: inline-block !important;position: relative;}#sk-container-id-1 div.sk-text-repr-fallback {display: none;}</style><div id=\"sk-container-id-1\" class=\"sk-top-container\"><div class=\"sk-text-repr-fallback\"><pre>LogisticRegression()</pre><b>In a Jupyter environment, please rerun this cell to show the HTML representation or trust the notebook. <br />On GitHub, the HTML representation is unable to render, please try loading this page with nbviewer.org.</b></div><div class=\"sk-container\" hidden><div class=\"sk-item\"><div class=\"sk-estimator sk-toggleable\"><input class=\"sk-toggleable__control sk-hidden--visually\" id=\"sk-estimator-id-1\" type=\"checkbox\" checked><label for=\"sk-estimator-id-1\" class=\"sk-toggleable__label sk-toggleable__label-arrow\">LogisticRegression</label><div class=\"sk-toggleable__content\"><pre>LogisticRegression()</pre></div></div></div></div></div>"
            ]
          },
          "metadata": {},
          "execution_count": 31
        }
      ]
    },
    {
      "cell_type": "code",
      "source": [
        "logisticRegr.score(X_test_scaled, y_test)"
      ],
      "metadata": {
        "colab": {
          "base_uri": "https://localhost:8080/"
        },
        "id": "8EPsl7osRgmW",
        "outputId": "5fed2a93-7eaa-4cbc-c2bc-a3eccdd7720b"
      },
      "execution_count": null,
      "outputs": [
        {
          "output_type": "execute_result",
          "data": {
            "text/plain": [
              "0.7826492537313433"
            ]
          },
          "metadata": {},
          "execution_count": 32
        }
      ]
    },
    {
      "cell_type": "code",
      "source": [
        "y_pred_log = logisticRegr.predict(X_test_scaled)\n",
        "print(classification_report(y_test, y_pred_log))"
      ],
      "metadata": {
        "id": "nEs4RgpYSFzj",
        "colab": {
          "base_uri": "https://localhost:8080/"
        },
        "outputId": "044c7a17-60ec-4ed1-c53a-0b52481fdbcd"
      },
      "execution_count": null,
      "outputs": [
        {
          "output_type": "stream",
          "name": "stdout",
          "text": [
            "              precision    recall  f1-score   support\n",
            "\n",
            "           0       0.76      0.79      0.78      1014\n",
            "           1       0.81      0.77      0.79      1130\n",
            "\n",
            "    accuracy                           0.78      2144\n",
            "   macro avg       0.78      0.78      0.78      2144\n",
            "weighted avg       0.78      0.78      0.78      2144\n",
            "\n"
          ]
        }
      ]
    },
    {
      "cell_type": "code",
      "source": [
        "cm = confusion_matrix(y_test, y_pred_log)\n",
        "sns.heatmap(cm, annot=True, cmap='Blues', fmt='g')\n",
        "plt.xlabel('Predicted')\n",
        "plt.ylabel('True')\n",
        "plt.title('Confusion Matrix')\n",
        "plt.show()"
      ],
      "metadata": {
        "colab": {
          "base_uri": "https://localhost:8080/",
          "height": 472
        },
        "id": "E2104HAbVZcD",
        "outputId": "4ef11d8a-e0a4-4a5e-c656-1cbbd2f9a7b6"
      },
      "execution_count": null,
      "outputs": [
        {
          "output_type": "display_data",
          "data": {
            "text/plain": [
              "<Figure size 640x480 with 2 Axes>"
            ],
            "image/png": "[encoded data removed]"
          },
          "metadata": {}
        }
      ]
    },
    {
      "cell_type": "markdown",
      "source": [
        "## SVM"
      ],
      "metadata": {
        "id": "8yECmZGmYnwx"
      }
    },
    {
      "cell_type": "code",
      "source": [
        "clf = svm.SVC()\n",
        "clf.fit(X_train_scaled, y_train)"
      ],
      "metadata": {
        "colab": {
          "base_uri": "https://localhost:8080/",
          "height": 74
        },
        "id": "KmoAd7JcYpYP",
        "outputId": "225c8d7a-cca6-49fe-d31a-17b03247be34"
      },
      "execution_count": null,
      "outputs": [
        {
          "output_type": "execute_result",
          "data": {
            "text/plain": [
              "SVC()"
            ],
            "text/html": [
              "<style>#sk-container-id-2 {color: black;background-color: white;}#sk-container-id-2 pre{padding: 0;}#sk-container-id-2 div.sk-toggleable {background-color: white;}#sk-container-id-2 label.sk-toggleable__label {cursor: pointer;display: block;width: 100%;margin-bottom: 0;padding: 0.3em;box-sizing: border-box;text-align: center;}#sk-container-id-2 label.sk-toggleable__label-arrow:before {content: \"▸\";float: left;margin-right: 0.25em;color: #696969;}#sk-container-id-2 label.sk-toggleable__label-arrow:hover:before {color: black;}#sk-container-id-2 div.sk-estimator:hover label.sk-toggleable__label-arrow:before {color: black;}#sk-container-id-2 div.sk-toggleable__content {max-height: 0;max-width: 0;overflow: hidden;text-align: left;background-color: #f0f8ff;}#sk-container-id-2 div.sk-toggleable__content pre {margin: 0.2em;color: black;border-radius: 0.25em;background-color: #f0f8ff;}#sk-container-id-2 input.sk-toggleable__control:checked~div.sk-toggleable__content {max-height: 200px;max-width: 100%;overflow: auto;}#sk-container-id-2 input.sk-toggleable__control:checked~label.sk-toggleable__label-arrow:before {content: \"▾\";}#sk-container-id-2 div.sk-estimator input.sk-toggleable__control:checked~label.sk-toggleable__label {background-color: #d4ebff;}#sk-container-id-2 div.sk-label input.sk-toggleable__control:checked~label.sk-toggleable__label {background-color: #d4ebff;}#sk-container-id-2 input.sk-hidden--visually {border: 0;clip: rect(1px 1px 1px 1px);clip: rect(1px, 1px, 1px, 1px);height: 1px;margin: -1px;overflow: hidden;padding: 0;position: absolute;width: 1px;}#sk-container-id-2 div.sk-estimator {font-family: monospace;background-color: #f0f8ff;border: 1px dotted black;border-radius: 0.25em;box-sizing: border-box;margin-bottom: 0.5em;}#sk-container-id-2 div.sk-estimator:hover {background-color: #d4ebff;}#sk-container-id-2 div.sk-parallel-item::after {content: \"\";width: 100%;border-bottom: 1px solid gray;flex-grow: 1;}#sk-container-id-2 div.sk-label:hover label.sk-toggleable__label {background-color: #d4ebff;}#sk-container-id-2 div.sk-serial::before {content: \"\";position: absolute;border-left: 1px solid gray;box-sizing: border-box;top: 0;bottom: 0;left: 50%;z-index: 0;}#sk-container-id-2 div.sk-serial {display: flex;flex-direction: column;align-items: center;background-color: white;padding-right: 0.2em;padding-left: 0.2em;position: relative;}#sk-container-id-2 div.sk-item {position: relative;z-index: 1;}#sk-container-id-2 div.sk-parallel {display: flex;align-items: stretch;justify-content: center;background-color: white;position: relative;}#sk-container-id-2 div.sk-item::before, #sk-container-id-2 div.sk-parallel-item::before {content: \"\";position: absolute;border-left: 1px solid gray;box-sizing: border-box;top: 0;bottom: 0;left: 50%;z-index: -1;}#sk-container-id-2 div.sk-parallel-item {display: flex;flex-direction: column;z-index: 1;position: relative;background-color: white;}#sk-container-id-2 div.sk-parallel-item:first-child::after {align-self: flex-end;width: 50%;}#sk-container-id-2 div.sk-parallel-item:last-child::after {align-self: flex-start;width: 50%;}#sk-container-id-2 div.sk-parallel-item:only-child::after {width: 0;}#sk-container-id-2 div.sk-dashed-wrapped {border: 1px dashed gray;margin: 0 0.4em 0.5em 0.4em;box-sizing: border-box;padding-bottom: 0.4em;background-color: white;}#sk-container-id-2 div.sk-label label {font-family: monospace;font-weight: bold;display: inline-block;line-height: 1.2em;}#sk-container-id-2 div.sk-label-container {text-align: center;}#sk-container-id-2 div.sk-container {/* jupyter's `normalize.less` sets `[hidden] { display: none; }` but bootstrap.min.css set `[hidden] { display: none !important; }` so we also need the `!important` here to be able to override the default hidden behavior on the sphinx rendered scikit-learn.org. See: https://github.com/scikit-learn/scikit-learn/issues/21755 */display: inline-block !important;position: relative;}#sk-container-id-2 div.sk-text-repr-fallback {display: none;}</style><div id=\"sk-container-id-2\" class=\"sk-top-container\"><div class=\"sk-text-repr-fallback\"><pre>SVC()</pre><b>In a Jupyter environment, please rerun this cell to show the HTML representation or trust the notebook. <br />On GitHub, the HTML representation is unable to render, please try loading this page with nbviewer.org.</b></div><div class=\"sk-container\" hidden><div class=\"sk-item\"><div class=\"sk-estimator sk-toggleable\"><input class=\"sk-toggleable__control sk-hidden--visually\" id=\"sk-estimator-id-2\" type=\"checkbox\" checked><label for=\"sk-estimator-id-2\" class=\"sk-toggleable__label sk-toggleable__label-arrow\">SVC</label><div class=\"sk-toggleable__content\"><pre>SVC()</pre></div></div></div></div></div>"
            ]
          },
          "metadata": {},
          "execution_count": 35
        }
      ]
    },
    {
      "cell_type": "code",
      "source": [
        "clf.score(X_test_scaled, y_test)"
      ],
      "metadata": {
        "id": "wS3itsLsY40L",
        "colab": {
          "base_uri": "https://localhost:8080/"
        },
        "outputId": "74824462-ac83-424e-b133-211176231b1d"
      },
      "execution_count": null,
      "outputs": [
        {
          "output_type": "execute_result",
          "data": {
            "text/plain": [
              "0.8022388059701493"
            ]
          },
          "metadata": {},
          "execution_count": 36
        }
      ]
    },
    {
      "cell_type": "code",
      "source": [],
      "metadata": {
        "id": "Rc_YERJ-sJ48"
      },
      "execution_count": null,
      "outputs": []
    },
    {
      "cell_type": "code",
      "source": [
        "y_pred_svm = clf.predict(X_test_scaled)\n",
        "print(classification_report(y_test, y_pred_svm))"
      ],
      "metadata": {
        "colab": {
          "base_uri": "https://localhost:8080/"
        },
        "id": "ZnH1hJ1kZaCJ",
        "outputId": "69ad349e-b9e3-4af8-b5bb-b4c6c48c05c4"
      },
      "execution_count": null,
      "outputs": [
        {
          "output_type": "stream",
          "name": "stdout",
          "text": [
            "              precision    recall  f1-score   support\n",
            "\n",
            "           0       0.79      0.79      0.79      1014\n",
            "           1       0.81      0.81      0.81      1130\n",
            "\n",
            "    accuracy                           0.80      2144\n",
            "   macro avg       0.80      0.80      0.80      2144\n",
            "weighted avg       0.80      0.80      0.80      2144\n",
            "\n"
          ]
        }
      ]
    },
    {
      "cell_type": "code",
      "source": [
        "cm = confusion_matrix(y_test, y_pred_svm)\n",
        "sns.heatmap(cm, annot=True, cmap='Blues', fmt='g')\n",
        "plt.xlabel('Predicted')\n",
        "plt.ylabel('True')\n",
        "plt.title('Confusion Matrix')\n",
        "plt.show()"
      ],
      "metadata": {
        "colab": {
          "base_uri": "https://localhost:8080/",
          "height": 472
        },
        "id": "kIcXtorHak60",
        "outputId": "99789c16-92e7-45a8-db91-aa9baa88c322"
      },
      "execution_count": null,
      "outputs": [
        {
          "output_type": "display_data",
          "data": {
            "text/plain": [
              "<Figure size 640x480 with 2 Axes>"
            ],
            "image/png": "[encoded data removed]"
          },
          "metadata": {}
        }
      ]
    },
    {
      "cell_type": "markdown",
      "source": [
        "## Decision Tree"
      ],
      "metadata": {
        "id": "ZKiLjUE2X8wd"
      }
    },
    {
      "cell_type": "code",
      "source": [
        "decTree = DecisionTreeClassifier()\n",
        "decTree.fit(X_train_scaled, y_train)"
      ],
      "metadata": {
        "colab": {
          "base_uri": "https://localhost:8080/",
          "height": 74
        },
        "id": "m7csTS9XX0hx",
        "outputId": "51552e3e-54b1-44dd-a60e-fca3eb8df298"
      },
      "execution_count": null,
      "outputs": [
        {
          "output_type": "execute_result",
          "data": {
            "text/plain": [
              "DecisionTreeClassifier()"
            ],
            "text/html": [
              "<style>#sk-container-id-3 {color: black;background-color: white;}#sk-container-id-3 pre{padding: 0;}#sk-container-id-3 div.sk-toggleable {background-color: white;}#sk-container-id-3 label.sk-toggleable__label {cursor: pointer;display: block;width: 100%;margin-bottom: 0;padding: 0.3em;box-sizing: border-box;text-align: center;}#sk-container-id-3 label.sk-toggleable__label-arrow:before {content: \"▸\";float: left;margin-right: 0.25em;color: #696969;}#sk-container-id-3 label.sk-toggleable__label-arrow:hover:before {color: black;}#sk-container-id-3 div.sk-estimator:hover label.sk-toggleable__label-arrow:before {color: black;}#sk-container-id-3 div.sk-toggleable__content {max-height: 0;max-width: 0;overflow: hidden;text-align: left;background-color: #f0f8ff;}#sk-container-id-3 div.sk-toggleable__content pre {margin: 0.2em;color: black;border-radius: 0.25em;background-color: #f0f8ff;}#sk-container-id-3 input.sk-toggleable__control:checked~div.sk-toggleable__content {max-height: 200px;max-width: 100%;overflow: auto;}#sk-container-id-3 input.sk-toggleable__control:checked~label.sk-toggleable__label-arrow:before {content: \"▾\";}#sk-container-id-3 div.sk-estimator input.sk-toggleable__control:checked~label.sk-toggleable__label {background-color: #d4ebff;}#sk-container-id-3 div.sk-label input.sk-toggleable__control:checked~label.sk-toggleable__label {background-color: #d4ebff;}#sk-container-id-3 input.sk-hidden--visually {border: 0;clip: rect(1px 1px 1px 1px);clip: rect(1px, 1px, 1px, 1px);height: 1px;margin: -1px;overflow: hidden;padding: 0;position: absolute;width: 1px;}#sk-container-id-3 div.sk-estimator {font-family: monospace;background-color: #f0f8ff;border: 1px dotted black;border-radius: 0.25em;box-sizing: border-box;margin-bottom: 0.5em;}#sk-container-id-3 div.sk-estimator:hover {background-color: #d4ebff;}#sk-container-id-3 div.sk-parallel-item::after {content: \"\";width: 100%;border-bottom: 1px solid gray;flex-grow: 1;}#sk-container-id-3 div.sk-label:hover label.sk-toggleable__label {background-color: #d4ebff;}#sk-container-id-3 div.sk-serial::before {content: \"\";position: absolute;border-left: 1px solid gray;box-sizing: border-box;top: 0;bottom: 0;left: 50%;z-index: 0;}#sk-container-id-3 div.sk-serial {display: flex;flex-direction: column;align-items: center;background-color: white;padding-right: 0.2em;padding-left: 0.2em;position: relative;}#sk-container-id-3 div.sk-item {position: relative;z-index: 1;}#sk-container-id-3 div.sk-parallel {display: flex;align-items: stretch;justify-content: center;background-color: white;position: relative;}#sk-container-id-3 div.sk-item::before, #sk-container-id-3 div.sk-parallel-item::before {content: \"\";position: absolute;border-left: 1px solid gray;box-sizing: border-box;top: 0;bottom: 0;left: 50%;z-index: -1;}#sk-container-id-3 div.sk-parallel-item {display: flex;flex-direction: column;z-index: 1;position: relative;background-color: white;}#sk-container-id-3 div.sk-parallel-item:first-child::after {align-self: flex-end;width: 50%;}#sk-container-id-3 div.sk-parallel-item:last-child::after {align-self: flex-start;width: 50%;}#sk-container-id-3 div.sk-parallel-item:only-child::after {width: 0;}#sk-container-id-3 div.sk-dashed-wrapped {border: 1px dashed gray;margin: 0 0.4em 0.5em 0.4em;box-sizing: border-box;padding-bottom: 0.4em;background-color: white;}#sk-container-id-3 div.sk-label label {font-family: monospace;font-weight: bold;display: inline-block;line-height: 1.2em;}#sk-container-id-3 div.sk-label-container {text-align: center;}#sk-container-id-3 div.sk-container {/* jupyter's `normalize.less` sets `[hidden] { display: none; }` but bootstrap.min.css set `[hidden] { display: none !important; }` so we also need the `!important` here to be able to override the default hidden behavior on the sphinx rendered scikit-learn.org. See: https://github.com/scikit-learn/scikit-learn/issues/21755 */display: inline-block !important;position: relative;}#sk-container-id-3 div.sk-text-repr-fallback {display: none;}</style><div id=\"sk-container-id-3\" class=\"sk-top-container\"><div class=\"sk-text-repr-fallback\"><pre>DecisionTreeClassifier()</pre><b>In a Jupyter environment, please rerun this cell to show the HTML representation or trust the notebook. <br />On GitHub, the HTML representation is unable to render, please try loading this page with nbviewer.org.</b></div><div class=\"sk-container\" hidden><div class=\"sk-item\"><div class=\"sk-estimator sk-toggleable\"><input class=\"sk-toggleable__control sk-hidden--visually\" id=\"sk-estimator-id-3\" type=\"checkbox\" checked><label for=\"sk-estimator-id-3\" class=\"sk-toggleable__label sk-toggleable__label-arrow\">DecisionTreeClassifier</label><div class=\"sk-toggleable__content\"><pre>DecisionTreeClassifier()</pre></div></div></div></div></div>"
            ]
          },
          "metadata": {},
          "execution_count": 39
        }
      ]
    },
    {
      "cell_type": "code",
      "source": [
        "decTree.score(X_test_scaled, y_test)"
      ],
      "metadata": {
        "colab": {
          "base_uri": "https://localhost:8080/"
        },
        "id": "0Sm4ZeCbYATu",
        "outputId": "001b5897-8db5-4df1-d68b-b3ca9276633d"
      },
      "execution_count": null,
      "outputs": [
        {
          "output_type": "execute_result",
          "data": {
            "text/plain": [
              "0.7728544776119403"
            ]
          },
          "metadata": {},
          "execution_count": 40
        }
      ]
    },
    {
      "cell_type": "code",
      "source": [
        "y_pred_tree = decTree.predict(X_test_scaled)\n",
        "print(classification_report(y_test, y_pred_tree))"
      ],
      "metadata": {
        "colab": {
          "base_uri": "https://localhost:8080/"
        },
        "id": "-7fZZR2qYlqR",
        "outputId": "e2cabaaa-1065-4186-bd82-ce8c679f154a"
      },
      "execution_count": null,
      "outputs": [
        {
          "output_type": "stream",
          "name": "stdout",
          "text": [
            "              precision    recall  f1-score   support\n",
            "\n",
            "           0       0.77      0.74      0.76      1014\n",
            "           1       0.78      0.80      0.79      1130\n",
            "\n",
            "    accuracy                           0.77      2144\n",
            "   macro avg       0.77      0.77      0.77      2144\n",
            "weighted avg       0.77      0.77      0.77      2144\n",
            "\n"
          ]
        }
      ]
    },
    {
      "cell_type": "code",
      "source": [
        "cm = confusion_matrix(y_test, y_pred_tree)\n",
        "sns.heatmap(cm, annot=True, cmap='Blues', fmt='g')\n",
        "plt.xlabel('Predicted')\n",
        "plt.ylabel('True')\n",
        "plt.title('Confusion Matrix')\n",
        "plt.show()"
      ],
      "metadata": {
        "colab": {
          "base_uri": "https://localhost:8080/",
          "height": 472
        },
        "id": "nWVrr5o0YvZj",
        "outputId": "cd947b1a-fce6-466c-ac29-16db2ccec367"
      },
      "execution_count": null,
      "outputs": [
        {
          "output_type": "display_data",
          "data": {
            "text/plain": [
              "<Figure size 640x480 with 2 Axes>"
            ],
            "image/png": "[encoded data removed]"
          },
          "metadata": {}
        }
      ]
    },
    {
      "cell_type": "markdown",
      "source": [
        "## Random Forest"
      ],
      "metadata": {
        "id": "is-dxSpwZZTD"
      }
    },
    {
      "cell_type": "code",
      "source": [
        "rf = RandomForestClassifier(n_estimators = 100, oob_score=True)\n",
        "rf.fit(X_train_scaled, y_train)"
      ],
      "metadata": {
        "colab": {
          "base_uri": "https://localhost:8080/",
          "height": 74
        },
        "id": "GHszjJcbY2_S",
        "outputId": "139132c3-6b57-430c-c209-221d9101e2c1"
      },
      "execution_count": null,
      "outputs": [
        {
          "output_type": "execute_result",
          "data": {
            "text/plain": [
              "RandomForestClassifier(oob_score=True)"
            ],
            "text/html": [
              "<style>#sk-container-id-4 {color: black;background-color: white;}#sk-container-id-4 pre{padding: 0;}#sk-container-id-4 div.sk-toggleable {background-color: white;}#sk-container-id-4 label.sk-toggleable__label {cursor: pointer;display: block;width: 100%;margin-bottom: 0;padding: 0.3em;box-sizing: border-box;text-align: center;}#sk-container-id-4 label.sk-toggleable__label-arrow:before {content: \"▸\";float: left;margin-right: 0.25em;color: #696969;}#sk-container-id-4 label.sk-toggleable__label-arrow:hover:before {color: black;}#sk-container-id-4 div.sk-estimator:hover label.sk-toggleable__label-arrow:before {color: black;}#sk-container-id-4 div.sk-toggleable__content {max-height: 0;max-width: 0;overflow: hidden;text-align: left;background-color: #f0f8ff;}#sk-container-id-4 div.sk-toggleable__content pre {margin: 0.2em;color: black;border-radius: 0.25em;background-color: #f0f8ff;}#sk-container-id-4 input.sk-toggleable__control:checked~div.sk-toggleable__content {max-height: 200px;max-width: 100%;overflow: auto;}#sk-container-id-4 input.sk-toggleable__control:checked~label.sk-toggleable__label-arrow:before {content: \"▾\";}#sk-container-id-4 div.sk-estimator input.sk-toggleable__control:checked~label.sk-toggleable__label {background-color: #d4ebff;}#sk-container-id-4 div.sk-label input.sk-toggleable__control:checked~label.sk-toggleable__label {background-color: #d4ebff;}#sk-container-id-4 input.sk-hidden--visually {border: 0;clip: rect(1px 1px 1px 1px);clip: rect(1px, 1px, 1px, 1px);height: 1px;margin: -1px;overflow: hidden;padding: 0;position: absolute;width: 1px;}#sk-container-id-4 div.sk-estimator {font-family: monospace;background-color: #f0f8ff;border: 1px dotted black;border-radius: 0.25em;box-sizing: border-box;margin-bottom: 0.5em;}#sk-container-id-4 div.sk-estimator:hover {background-color: #d4ebff;}#sk-container-id-4 div.sk-parallel-item::after {content: \"\";width: 100%;border-bottom: 1px solid gray;flex-grow: 1;}#sk-container-id-4 div.sk-label:hover label.sk-toggleable__label {background-color: #d4ebff;}#sk-container-id-4 div.sk-serial::before {content: \"\";position: absolute;border-left: 1px solid gray;box-sizing: border-box;top: 0;bottom: 0;left: 50%;z-index: 0;}#sk-container-id-4 div.sk-serial {display: flex;flex-direction: column;align-items: center;background-color: white;padding-right: 0.2em;padding-left: 0.2em;position: relative;}#sk-container-id-4 div.sk-item {position: relative;z-index: 1;}#sk-container-id-4 div.sk-parallel {display: flex;align-items: stretch;justify-content: center;background-color: white;position: relative;}#sk-container-id-4 div.sk-item::before, #sk-container-id-4 div.sk-parallel-item::before {content: \"\";position: absolute;border-left: 1px solid gray;box-sizing: border-box;top: 0;bottom: 0;left: 50%;z-index: -1;}#sk-container-id-4 div.sk-parallel-item {display: flex;flex-direction: column;z-index: 1;position: relative;background-color: white;}#sk-container-id-4 div.sk-parallel-item:first-child::after {align-self: flex-end;width: 50%;}#sk-container-id-4 div.sk-parallel-item:last-child::after {align-self: flex-start;width: 50%;}#sk-container-id-4 div.sk-parallel-item:only-child::after {width: 0;}#sk-container-id-4 div.sk-dashed-wrapped {border: 1px dashed gray;margin: 0 0.4em 0.5em 0.4em;box-sizing: border-box;padding-bottom: 0.4em;background-color: white;}#sk-container-id-4 div.sk-label label {font-family: monospace;font-weight: bold;display: inline-block;line-height: 1.2em;}#sk-container-id-4 div.sk-label-container {text-align: center;}#sk-container-id-4 div.sk-container {/* jupyter's `normalize.less` sets `[hidden] { display: none; }` but bootstrap.min.css set `[hidden] { display: none !important; }` so we also need the `!important` here to be able to override the default hidden behavior on the sphinx rendered scikit-learn.org. See: https://github.com/scikit-learn/scikit-learn/issues/21755 */display: inline-block !important;position: relative;}#sk-container-id-4 div.sk-text-repr-fallback {display: none;}</style><div id=\"sk-container-id-4\" class=\"sk-top-container\"><div class=\"sk-text-repr-fallback\"><pre>RandomForestClassifier(oob_score=True)</pre><b>In a Jupyter environment, please rerun this cell to show the HTML representation or trust the notebook. <br />On GitHub, the HTML representation is unable to render, please try loading this page with nbviewer.org.</b></div><div class=\"sk-container\" hidden><div class=\"sk-item\"><div class=\"sk-estimator sk-toggleable\"><input class=\"sk-toggleable__control sk-hidden--visually\" id=\"sk-estimator-id-4\" type=\"checkbox\" checked><label for=\"sk-estimator-id-4\" class=\"sk-toggleable__label sk-toggleable__label-arrow\">RandomForestClassifier</label><div class=\"sk-toggleable__content\"><pre>RandomForestClassifier(oob_score=True)</pre></div></div></div></div></div>"
            ]
          },
          "metadata": {},
          "execution_count": 43
        }
      ]
    },
    {
      "cell_type": "code",
      "source": [
        "rf.oob_score_"
      ],
      "metadata": {
        "colab": {
          "base_uri": "https://localhost:8080/"
        },
        "id": "ntrhZSnErVYm",
        "outputId": "1f5c5481-175d-4074-b023-4317b583b36b"
      },
      "execution_count": null,
      "outputs": [
        {
          "output_type": "execute_result",
          "data": {
            "text/plain": [
              "0.8362491252624212"
            ]
          },
          "metadata": {},
          "execution_count": 44
        }
      ]
    },
    {
      "cell_type": "code",
      "source": [
        "rf.score(X_test_scaled, y_test)"
      ],
      "metadata": {
        "colab": {
          "base_uri": "https://localhost:8080/"
        },
        "id": "UywJY0UvZjX9",
        "outputId": "134cfafc-6f7b-47d1-cfe5-3fa1335cb02e"
      },
      "execution_count": null,
      "outputs": [
        {
          "output_type": "execute_result",
          "data": {
            "text/plain": [
              "0.8339552238805971"
            ]
          },
          "metadata": {},
          "execution_count": 45
        }
      ]
    },
    {
      "cell_type": "code",
      "source": [
        "rf.feature_importances_"
      ],
      "metadata": {
        "colab": {
          "base_uri": "https://localhost:8080/"
        },
        "id": "6U9rhhPZsaXe",
        "outputId": "7d0fdf2c-31ac-41ad-b107-11d72261223d"
      },
      "execution_count": null,
      "outputs": [
        {
          "output_type": "execute_result",
          "data": {
            "text/plain": [
              "array([0.0113474 , 0.01166113, 0.01491758, 0.07204482, 0.08936252,\n",
              "       0.22332491, 0.01952636, 0.03562895, 0.01187473, 0.00958489,\n",
              "       0.0364246 , 0.01601987, 0.04606469, 0.0202701 , 0.00563776,\n",
              "       0.05339063, 0.00902083, 0.03973571, 0.04894339, 0.06293942,\n",
              "       0.02167153, 0.1406082 ])"
            ]
          },
          "metadata": {},
          "execution_count": 46
        }
      ]
    },
    {
      "cell_type": "code",
      "source": [
        "y_pred_forest = rf.predict(X_test_scaled)\n",
        "print(classification_report(y_test, y_pred_forest))"
      ],
      "metadata": {
        "colab": {
          "base_uri": "https://localhost:8080/"
        },
        "id": "hDE5e5NEZ9_5",
        "outputId": "4acbed2d-feca-48fa-c921-226bb89b7463"
      },
      "execution_count": null,
      "outputs": [
        {
          "output_type": "stream",
          "name": "stdout",
          "text": [
            "              precision    recall  f1-score   support\n",
            "\n",
            "           0       0.82      0.83      0.83      1014\n",
            "           1       0.85      0.84      0.84      1130\n",
            "\n",
            "    accuracy                           0.83      2144\n",
            "   macro avg       0.83      0.83      0.83      2144\n",
            "weighted avg       0.83      0.83      0.83      2144\n",
            "\n"
          ]
        }
      ]
    },
    {
      "cell_type": "code",
      "source": [
        "cm = confusion_matrix(y_test, y_pred_forest)\n",
        "sns.heatmap(cm, annot=True, cmap='Blues', fmt='g')\n",
        "plt.xlabel('Predicted')\n",
        "plt.ylabel('True')\n",
        "plt.title('Confusion Matrix')\n",
        "plt.show()"
      ],
      "metadata": {
        "colab": {
          "base_uri": "https://localhost:8080/",
          "height": 472
        },
        "id": "pTQpbOOEbaoW",
        "outputId": "4e609dd9-fd0c-4b84-dba0-8f0e9b7c19f4"
      },
      "execution_count": null,
      "outputs": [
        {
          "output_type": "display_data",
          "data": {
            "text/plain": [
              "<Figure size 640x480 with 2 Axes>"
            ],
            "image/png": "[encoded data removed]"
          },
          "metadata": {}
        }
      ]
    },
    {
      "cell_type": "markdown",
      "source": [
        "## XGBoost"
      ],
      "metadata": {
        "id": "ziQaOmY2bmdy"
      }
    },
    {
      "cell_type": "code",
      "source": [
        "gb = GradientBoostingClassifier()\n",
        "gb.fit(X_train_scaled, y_train)"
      ],
      "metadata": {
        "colab": {
          "base_uri": "https://localhost:8080/",
          "height": 74
        },
        "id": "_84f9TAYbdf0",
        "outputId": "3a23eeb1-b2c0-4148-f4d0-eca84e2c5640"
      },
      "execution_count": null,
      "outputs": [
        {
          "output_type": "execute_result",
          "data": {
            "text/plain": [
              "GradientBoostingClassifier()"
            ],
            "text/html": [
              "<style>#sk-container-id-5 {color: black;background-color: white;}#sk-container-id-5 pre{padding: 0;}#sk-container-id-5 div.sk-toggleable {background-color: white;}#sk-container-id-5 label.sk-toggleable__label {cursor: pointer;display: block;width: 100%;margin-bottom: 0;padding: 0.3em;box-sizing: border-box;text-align: center;}#sk-container-id-5 label.sk-toggleable__label-arrow:before {content: \"▸\";float: left;margin-right: 0.25em;color: #696969;}#sk-container-id-5 label.sk-toggleable__label-arrow:hover:before {color: black;}#sk-container-id-5 div.sk-estimator:hover label.sk-toggleable__label-arrow:before {color: black;}#sk-container-id-5 div.sk-toggleable__content {max-height: 0;max-width: 0;overflow: hidden;text-align: left;background-color: #f0f8ff;}#sk-container-id-5 div.sk-toggleable__content pre {margin: 0.2em;color: black;border-radius: 0.25em;background-color: #f0f8ff;}#sk-container-id-5 input.sk-toggleable__control:checked~div.sk-toggleable__content {max-height: 200px;max-width: 100%;overflow: auto;}#sk-container-id-5 input.sk-toggleable__control:checked~label.sk-toggleable__label-arrow:before {content: \"▾\";}#sk-container-id-5 div.sk-estimator input.sk-toggleable__control:checked~label.sk-toggleable__label {background-color: #d4ebff;}#sk-container-id-5 div.sk-label input.sk-toggleable__control:checked~label.sk-toggleable__label {background-color: #d4ebff;}#sk-container-id-5 input.sk-hidden--visually {border: 0;clip: rect(1px 1px 1px 1px);clip: rect(1px, 1px, 1px, 1px);height: 1px;margin: -1px;overflow: hidden;padding: 0;position: absolute;width: 1px;}#sk-container-id-5 div.sk-estimator {font-family: monospace;background-color: #f0f8ff;border: 1px dotted black;border-radius: 0.25em;box-sizing: border-box;margin-bottom: 0.5em;}#sk-container-id-5 div.sk-estimator:hover {background-color: #d4ebff;}#sk-container-id-5 div.sk-parallel-item::after {content: \"\";width: 100%;border-bottom: 1px solid gray;flex-grow: 1;}#sk-container-id-5 div.sk-label:hover label.sk-toggleable__label {background-color: #d4ebff;}#sk-container-id-5 div.sk-serial::before {content: \"\";position: absolute;border-left: 1px solid gray;box-sizing: border-box;top: 0;bottom: 0;left: 50%;z-index: 0;}#sk-container-id-5 div.sk-serial {display: flex;flex-direction: column;align-items: center;background-color: white;padding-right: 0.2em;padding-left: 0.2em;position: relative;}#sk-container-id-5 div.sk-item {position: relative;z-index: 1;}#sk-container-id-5 div.sk-parallel {display: flex;align-items: stretch;justify-content: center;background-color: white;position: relative;}#sk-container-id-5 div.sk-item::before, #sk-container-id-5 div.sk-parallel-item::before {content: \"\";position: absolute;border-left: 1px solid gray;box-sizing: border-box;top: 0;bottom: 0;left: 50%;z-index: -1;}#sk-container-id-5 div.sk-parallel-item {display: flex;flex-direction: column;z-index: 1;position: relative;background-color: white;}#sk-container-id-5 div.sk-parallel-item:first-child::after {align-self: flex-end;width: 50%;}#sk-container-id-5 div.sk-parallel-item:last-child::after {align-self: flex-start;width: 50%;}#sk-container-id-5 div.sk-parallel-item:only-child::after {width: 0;}#sk-container-id-5 div.sk-dashed-wrapped {border: 1px dashed gray;margin: 0 0.4em 0.5em 0.4em;box-sizing: border-box;padding-bottom: 0.4em;background-color: white;}#sk-container-id-5 div.sk-label label {font-family: monospace;font-weight: bold;display: inline-block;line-height: 1.2em;}#sk-container-id-5 div.sk-label-container {text-align: center;}#sk-container-id-5 div.sk-container {/* jupyter's `normalize.less` sets `[hidden] { display: none; }` but bootstrap.min.css set `[hidden] { display: none !important; }` so we also need the `!important` here to be able to override the default hidden behavior on the sphinx rendered scikit-learn.org. See: https://github.com/scikit-learn/scikit-learn/issues/21755 */display: inline-block !important;position: relative;}#sk-container-id-5 div.sk-text-repr-fallback {display: none;}</style><div id=\"sk-container-id-5\" class=\"sk-top-container\"><div class=\"sk-text-repr-fallback\"><pre>GradientBoostingClassifier()</pre><b>In a Jupyter environment, please rerun this cell to show the HTML representation or trust the notebook. <br />On GitHub, the HTML representation is unable to render, please try loading this page with nbviewer.org.</b></div><div class=\"sk-container\" hidden><div class=\"sk-item\"><div class=\"sk-estimator sk-toggleable\"><input class=\"sk-toggleable__control sk-hidden--visually\" id=\"sk-estimator-id-5\" type=\"checkbox\" checked><label for=\"sk-estimator-id-5\" class=\"sk-toggleable__label sk-toggleable__label-arrow\">GradientBoostingClassifier</label><div class=\"sk-toggleable__content\"><pre>GradientBoostingClassifier()</pre></div></div></div></div></div>"
            ]
          },
          "metadata": {},
          "execution_count": 49
        }
      ]
    },
    {
      "cell_type": "code",
      "source": [
        "gb.score(X_test_scaled, y_test)"
      ],
      "metadata": {
        "colab": {
          "base_uri": "https://localhost:8080/"
        },
        "id": "tfGsQfUAbvwy",
        "outputId": "00e37289-76b4-4c14-cefe-fa1be3e5a882"
      },
      "execution_count": null,
      "outputs": [
        {
          "output_type": "execute_result",
          "data": {
            "text/plain": [
              "0.8097014925373134"
            ]
          },
          "metadata": {},
          "execution_count": 50
        }
      ]
    },
    {
      "cell_type": "code",
      "source": [
        "y_pred_boost = gb.predict(X_test_scaled)\n",
        "print(classification_report(y_test, y_pred_boost))"
      ],
      "metadata": {
        "colab": {
          "base_uri": "https://localhost:8080/"
        },
        "id": "VW7yRj3bcKQL",
        "outputId": "8f46661d-0835-480e-e05a-27b02ad709a9"
      },
      "execution_count": null,
      "outputs": [
        {
          "output_type": "stream",
          "name": "stdout",
          "text": [
            "              precision    recall  f1-score   support\n",
            "\n",
            "           0       0.79      0.81      0.80      1014\n",
            "           1       0.83      0.81      0.82      1130\n",
            "\n",
            "    accuracy                           0.81      2144\n",
            "   macro avg       0.81      0.81      0.81      2144\n",
            "weighted avg       0.81      0.81      0.81      2144\n",
            "\n"
          ]
        }
      ]
    },
    {
      "cell_type": "code",
      "source": [
        "cm = confusion_matrix(y_test, y_pred_boost)\n",
        "sns.heatmap(cm, annot=True, cmap='Blues', fmt='g')\n",
        "plt.xlabel('Predicted')\n",
        "plt.ylabel('True')\n",
        "plt.title('Confusion Matrix')\n",
        "plt.show()"
      ],
      "metadata": {
        "colab": {
          "base_uri": "https://localhost:8080/",
          "height": 472
        },
        "id": "fQHfbHG3eR3o",
        "outputId": "53f0239f-ff8b-4c92-91ad-75590911c2db"
      },
      "execution_count": null,
      "outputs": [
        {
          "output_type": "display_data",
          "data": {
            "text/plain": [
              "<Figure size 640x480 with 2 Axes>"
            ],
            "image/png": "[encoded data removed]"
          },
          "metadata": {}
        }
      ]
    },
    {
      "cell_type": "code",
      "source": [
        "data['arr_delay_category'].value_counts().unique()"
      ],
      "metadata": {
        "colab": {
          "base_uri": "https://localhost:8080/"
        },
        "id": "P4ZTah4Dp_u9",
        "outputId": "96268103-e3ad-462f-f032-8a509be3172e"
      },
      "execution_count": null,
      "outputs": [
        {
          "output_type": "execute_result",
          "data": {
            "text/plain": [
              "array([5789, 4929])"
            ]
          },
          "metadata": {},
          "execution_count": 55
        }
      ]
    },
    {
      "cell_type": "markdown",
      "source": [
        "## ANN"
      ],
      "metadata": {
        "id": "kr3hNsq33Hs8"
      }
    },
    {
      "cell_type": "code",
      "source": [
        "from sklearn.neural_network import MLPClassifier\n",
        "\n",
        "ann = MLPClassifier(hidden_layer_sizes=(30, 40 ,50), max_iter=1000, alpha=0.0001, solver=\"adam\", verbose=False, random_state=42)"
      ],
      "metadata": {
        "id": "1bTpdxSV3KIN"
      },
      "execution_count": null,
      "outputs": []
    },
    {
      "cell_type": "code",
      "source": [
        "ann.fit(X_train_scaled, y_train)"
      ],
      "metadata": {
        "colab": {
          "base_uri": "https://localhost:8080/",
          "height": 74
        },
        "id": "r9uXrBWS34CN",
        "outputId": "dc7818d1-21cc-48b6-a91e-a0cdda29463a"
      },
      "execution_count": null,
      "outputs": [
        {
          "output_type": "execute_result",
          "data": {
            "text/plain": [
              "MLPClassifier(hidden_layer_sizes=(30, 40, 50), max_iter=1000, random_state=42)"
            ],
            "text/html": [
              "<style>#sk-container-id-7 {color: black;background-color: white;}#sk-container-id-7 pre{padding: 0;}#sk-container-id-7 div.sk-toggleable {background-color: white;}#sk-container-id-7 label.sk-toggleable__label {cursor: pointer;display: block;width: 100%;margin-bottom: 0;padding: 0.3em;box-sizing: border-box;text-align: center;}#sk-container-id-7 label.sk-toggleable__label-arrow:before {content: \"▸\";float: left;margin-right: 0.25em;color: #696969;}#sk-container-id-7 label.sk-toggleable__label-arrow:hover:before {color: black;}#sk-container-id-7 div.sk-estimator:hover label.sk-toggleable__label-arrow:before {color: black;}#sk-container-id-7 div.sk-toggleable__content {max-height: 0;max-width: 0;overflow: hidden;text-align: left;background-color: #f0f8ff;}#sk-container-id-7 div.sk-toggleable__content pre {margin: 0.2em;color: black;border-radius: 0.25em;background-color: #f0f8ff;}#sk-container-id-7 input.sk-toggleable__control:checked~div.sk-toggleable__content {max-height: 200px;max-width: 100%;overflow: auto;}#sk-container-id-7 input.sk-toggleable__control:checked~label.sk-toggleable__label-arrow:before {content: \"▾\";}#sk-container-id-7 div.sk-estimator input.sk-toggleable__control:checked~label.sk-toggleable__label {background-color: #d4ebff;}#sk-container-id-7 div.sk-label input.sk-toggleable__control:checked~label.sk-toggleable__label {background-color: #d4ebff;}#sk-container-id-7 input.sk-hidden--visually {border: 0;clip: rect(1px 1px 1px 1px);clip: rect(1px, 1px, 1px, 1px);height: 1px;margin: -1px;overflow: hidden;padding: 0;position: absolute;width: 1px;}#sk-container-id-7 div.sk-estimator {font-family: monospace;background-color: #f0f8ff;border: 1px dotted black;border-radius: 0.25em;box-sizing: border-box;margin-bottom: 0.5em;}#sk-container-id-7 div.sk-estimator:hover {background-color: #d4ebff;}#sk-container-id-7 div.sk-parallel-item::after {content: \"\";width: 100%;border-bottom: 1px solid gray;flex-grow: 1;}#sk-container-id-7 div.sk-label:hover label.sk-toggleable__label {background-color: #d4ebff;}#sk-container-id-7 div.sk-serial::before {content: \"\";position: absolute;border-left: 1px solid gray;box-sizing: border-box;top: 0;bottom: 0;left: 50%;z-index: 0;}#sk-container-id-7 div.sk-serial {display: flex;flex-direction: column;align-items: center;background-color: white;padding-right: 0.2em;padding-left: 0.2em;position: relative;}#sk-container-id-7 div.sk-item {position: relative;z-index: 1;}#sk-container-id-7 div.sk-parallel {display: flex;align-items: stretch;justify-content: center;background-color: white;position: relative;}#sk-container-id-7 div.sk-item::before, #sk-container-id-7 div.sk-parallel-item::before {content: \"\";position: absolute;border-left: 1px solid gray;box-sizing: border-box;top: 0;bottom: 0;left: 50%;z-index: -1;}#sk-container-id-7 div.sk-parallel-item {display: flex;flex-direction: column;z-index: 1;position: relative;background-color: white;}#sk-container-id-7 div.sk-parallel-item:first-child::after {align-self: flex-end;width: 50%;}#sk-container-id-7 div.sk-parallel-item:last-child::after {align-self: flex-start;width: 50%;}#sk-container-id-7 div.sk-parallel-item:only-child::after {width: 0;}#sk-container-id-7 div.sk-dashed-wrapped {border: 1px dashed gray;margin: 0 0.4em 0.5em 0.4em;box-sizing: border-box;padding-bottom: 0.4em;background-color: white;}#sk-container-id-7 div.sk-label label {font-family: monospace;font-weight: bold;display: inline-block;line-height: 1.2em;}#sk-container-id-7 div.sk-label-container {text-align: center;}#sk-container-id-7 div.sk-container {/* jupyter's `normalize.less` sets `[hidden] { display: none; }` but bootstrap.min.css set `[hidden] { display: none !important; }` so we also need the `!important` here to be able to override the default hidden behavior on the sphinx rendered scikit-learn.org. See: https://github.com/scikit-learn/scikit-learn/issues/21755 */display: inline-block !important;position: relative;}#sk-container-id-7 div.sk-text-repr-fallback {display: none;}</style><div id=\"sk-container-id-7\" class=\"sk-top-container\"><div class=\"sk-text-repr-fallback\"><pre>MLPClassifier(hidden_layer_sizes=(30, 40, 50), max_iter=1000, random_state=42)</pre><b>In a Jupyter environment, please rerun this cell to show the HTML representation or trust the notebook. <br />On GitHub, the HTML representation is unable to render, please try loading this page with nbviewer.org.</b></div><div class=\"sk-container\" hidden><div class=\"sk-item\"><div class=\"sk-estimator sk-toggleable\"><input class=\"sk-toggleable__control sk-hidden--visually\" id=\"sk-estimator-id-7\" type=\"checkbox\" checked><label for=\"sk-estimator-id-7\" class=\"sk-toggleable__label sk-toggleable__label-arrow\">MLPClassifier</label><div class=\"sk-toggleable__content\"><pre>MLPClassifier(hidden_layer_sizes=(30, 40, 50), max_iter=1000, random_state=42)</pre></div></div></div></div></div>"
            ]
          },
          "metadata": {},
          "execution_count": 64
        }
      ]
    },
    {
      "cell_type": "code",
      "source": [
        "ann.score(X_test_scaled, y_test)"
      ],
      "metadata": {
        "colab": {
          "base_uri": "https://localhost:8080/"
        },
        "id": "NXRVhUQr4McM",
        "outputId": "9bfc40c7-3fd6-4fb9-9f64-7af8ad73094d"
      },
      "execution_count": null,
      "outputs": [
        {
          "output_type": "execute_result",
          "data": {
            "text/plain": [
              "0.7574626865671642"
            ]
          },
          "metadata": {},
          "execution_count": 65
        }
      ]
    },
    {
      "cell_type": "markdown",
      "source": [
        "## ROC and AUC"
      ],
      "metadata": {
        "id": "lanCZ-VTcu66"
      }
    },
    {
      "cell_type": "code",
      "source": [
        "from sklearn.metrics import roc_curve, auc\n",
        "\n",
        "logistic_fpr, logistic_tpr, threshold = roc_curve(y_test, y_pred_log)\n",
        "auc_logistic = auc(logistic_fpr, logistic_tpr)\n",
        "\n",
        "svm_fpr, svm_tpr, threshold = roc_curve(y_test, y_pred_svm)\n",
        "auc_svm = auc(svm_fpr, svm_tpr)\n",
        "\n",
        "tree_fpr, tree_tpr, threshold = roc_curve(y_test, y_pred_tree)\n",
        "auc_tree = auc(tree_fpr, tree_tpr)\n",
        "\n",
        "forest_fpr, forest_tpr, threshold = roc_curve(y_test, y_pred_forest)\n",
        "auc_forest = auc(forest_fpr, forest_tpr)\n",
        "\n",
        "plt.figure(figsize=(6,6), dpi=100)\n",
        "plt.plot(svm_fpr, svm_tpr, linestyle='solid', label='SVM (auc = %0.3f)' % auc_svm)\n",
        "plt.plot(logistic_fpr, logistic_tpr, linestyle='dashed', label='Logistic (auc = %0.3f)' % auc_logistic)\n",
        "plt.plot(tree_fpr, tree_tpr, linestyle='dashdot', label='Decision Tree (auc = %0.3f)' % auc_tree)\n",
        "plt.plot(forest_fpr, forest_tpr, linestyle='dotted', label='Random Forest (auc = %0.3f)' % auc_forest)\n",
        "plt.plot([0,1], [0,1], color='black', linestyle='solid')\n",
        "\n",
        "plt.xlabel('False Positive Rate -->')\n",
        "plt.ylabel('True Positive Rate -->')\n",
        "\n",
        "plt.legend(prop={\"size\":10}, loc=\"lower right\")\n",
        "\n",
        "plt.show()"
      ],
      "metadata": {
        "id": "OOx2O43qcxLx"
      },
      "execution_count": null,
      "outputs": []
    },
    {
      "cell_type": "markdown",
      "source": [
        "## Regression"
      ],
      "metadata": {
        "id": "cwruH1pfwbm9"
      }
    },
    {
      "cell_type": "code",
      "source": [
        "# Classifiers from scikit-learn\n",
        "from sklearn.linear_model import LinearRegression\n",
        "from sklearn.tree import DecisionTreeRegressor\n",
        "from sklearn.ensemble import RandomForestRegressor\n",
        "from sklearn.ensemble import GradientBoostingRegressor\n",
        "\n",
        "# Performance metrics\n",
        "from sklearn.metrics import mean_squared_error\n",
        "from sklearn.metrics import mean_absolute_error\n",
        "from sklearn.metrics import r2_score"
      ],
      "metadata": {
        "id": "ayPgw2dZw05g"
      },
      "execution_count": null,
      "outputs": []
    },
    {
      "cell_type": "code",
      "source": [
        "reglabels = data['Arrival Delay']"
      ],
      "metadata": {
        "id": "bZeKOa_iqB4X"
      },
      "execution_count": null,
      "outputs": []
    },
    {
      "cell_type": "code",
      "source": [
        "print(f\"\\nDataset shape: {data.shape}\")\n",
        "features_train, features_test, labels_train, labels_test = train_test_split(features, reglabels, test_size=0.20, random_state=42)\n",
        "print(f\"features_train shape: {features_train.shape} | features_test shape: {features_test.shape}\")\n",
        "print(f\"labels_train shape: {labels_train.shape} | labels_test shape: {labels_test.shape}\")"
      ],
      "metadata": {
        "colab": {
          "base_uri": "https://localhost:8080/"
        },
        "id": "adk4CdqdwHFj",
        "outputId": "2c947f89-da81-440c-9014-4445de52fdb4"
      },
      "execution_count": null,
      "outputs": [
        {
          "output_type": "stream",
          "name": "stdout",
          "text": [
            "\n",
            "Dataset shape: (10718, 27)\n",
            "features_train shape: (8574, 22) | features_test shape: (2144, 22)\n",
            "labels_train shape: (8574,) | labels_test shape: (2144,)\n"
          ]
        }
      ]
    },
    {
      "cell_type": "code",
      "source": [
        "reglabels"
      ],
      "metadata": {
        "colab": {
          "base_uri": "https://localhost:8080/"
        },
        "id": "X2mox-AXwme_",
        "outputId": "303050da-e546-4c95-a1d1-c37fcfb75c45"
      },
      "execution_count": null,
      "outputs": [
        {
          "output_type": "execute_result",
          "data": {
            "text/plain": [
              "0          1\n",
              "1         -5\n",
              "2        -13\n",
              "3        -13\n",
              "4          4\n",
              "        ... \n",
              "10713      6\n",
              "10714      5\n",
              "10715     11\n",
              "10716    147\n",
              "10717      5\n",
              "Name: Arrival Delay, Length: 10718, dtype: int64"
            ]
          },
          "metadata": {},
          "execution_count": 57
        }
      ]
    },
    {
      "cell_type": "code",
      "source": [
        "perf_df = pd.DataFrame(columns=[\"Regressors\", \"MSE\", \"RMSE\", \"MAE\", \"R2\"])\n",
        "def print_metrics(labels_test, model_pred, regressor_name, perf_df):\n",
        "    \n",
        "    mse = mean_squared_error(labels_test, model_pred)\n",
        "    rmse = np.sqrt(mse)\n",
        "    mae = mean_absolute_error(labels_test, model_pred)\n",
        "    r2 = r2_score(labels_test, model_pred)\n",
        "    \n",
        "    print(f\"MSE      : {mse}\", end=\"\\n\\n\")\n",
        "    print(f\"RMSE     : {rmse}\", end=\"\\n\\n\")\n",
        "    print(f\"MAE      : {mae}\", end=\"\\n\\n\")\n",
        "    print(f\"R2 Score : {r2}\", end=\"\\n\\n\")\n",
        "    \n",
        "    perf_df = perf_df.append({\"Regressors\": regressor_name,\n",
        "                                        \"MSE\": mse, \n",
        "                                        \"RMSE\": rmse,\n",
        "                                        \"MAE\": mae,\n",
        "                                        \"R2\": r2}, ignore_index=True)\n",
        "    return perf_df"
      ],
      "metadata": {
        "id": "gyw59lZMwsD5"
      },
      "execution_count": null,
      "outputs": []
    },
    {
      "cell_type": "markdown",
      "source": [
        "## Linear Regression"
      ],
      "metadata": {
        "id": "MQsOe16DyQYy"
      }
    },
    {
      "cell_type": "code",
      "source": [
        "linearRegr = LinearRegression()\n",
        "linearRegr.fit(features_train, labels_train)"
      ],
      "metadata": {
        "colab": {
          "base_uri": "https://localhost:8080/",
          "height": 74
        },
        "id": "n_GX5rhAw8-1",
        "outputId": "05bbdc70-68f6-4582-b340-ebf5fd2502bc"
      },
      "execution_count": null,
      "outputs": [
        {
          "output_type": "execute_result",
          "data": {
            "text/plain": [
              "LinearRegression()"
            ],
            "text/html": [
              "<style>#sk-container-id-6 {color: black;background-color: white;}#sk-container-id-6 pre{padding: 0;}#sk-container-id-6 div.sk-toggleable {background-color: white;}#sk-container-id-6 label.sk-toggleable__label {cursor: pointer;display: block;width: 100%;margin-bottom: 0;padding: 0.3em;box-sizing: border-box;text-align: center;}#sk-container-id-6 label.sk-toggleable__label-arrow:before {content: \"▸\";float: left;margin-right: 0.25em;color: #696969;}#sk-container-id-6 label.sk-toggleable__label-arrow:hover:before {color: black;}#sk-container-id-6 div.sk-estimator:hover label.sk-toggleable__label-arrow:before {color: black;}#sk-container-id-6 div.sk-toggleable__content {max-height: 0;max-width: 0;overflow: hidden;text-align: left;background-color: #f0f8ff;}#sk-container-id-6 div.sk-toggleable__content pre {margin: 0.2em;color: black;border-radius: 0.25em;background-color: #f0f8ff;}#sk-container-id-6 input.sk-toggleable__control:checked~div.sk-toggleable__content {max-height: 200px;max-width: 100%;overflow: auto;}#sk-container-id-6 input.sk-toggleable__control:checked~label.sk-toggleable__label-arrow:before {content: \"▾\";}#sk-container-id-6 div.sk-estimator input.sk-toggleable__control:checked~label.sk-toggleable__label {background-color: #d4ebff;}#sk-container-id-6 div.sk-label input.sk-toggleable__control:checked~label.sk-toggleable__label {background-color: #d4ebff;}#sk-container-id-6 input.sk-hidden--visually {border: 0;clip: rect(1px 1px 1px 1px);clip: rect(1px, 1px, 1px, 1px);height: 1px;margin: -1px;overflow: hidden;padding: 0;position: absolute;width: 1px;}#sk-container-id-6 div.sk-estimator {font-family: monospace;background-color: #f0f8ff;border: 1px dotted black;border-radius: 0.25em;box-sizing: border-box;margin-bottom: 0.5em;}#sk-container-id-6 div.sk-estimator:hover {background-color: #d4ebff;}#sk-container-id-6 div.sk-parallel-item::after {content: \"\";width: 100%;border-bottom: 1px solid gray;flex-grow: 1;}#sk-container-id-6 div.sk-label:hover label.sk-toggleable__label {background-color: #d4ebff;}#sk-container-id-6 div.sk-serial::before {content: \"\";position: absolute;border-left: 1px solid gray;box-sizing: border-box;top: 0;bottom: 0;left: 50%;z-index: 0;}#sk-container-id-6 div.sk-serial {display: flex;flex-direction: column;align-items: center;background-color: white;padding-right: 0.2em;padding-left: 0.2em;position: relative;}#sk-container-id-6 div.sk-item {position: relative;z-index: 1;}#sk-container-id-6 div.sk-parallel {display: flex;align-items: stretch;justify-content: center;background-color: white;position: relative;}#sk-container-id-6 div.sk-item::before, #sk-container-id-6 div.sk-parallel-item::before {content: \"\";position: absolute;border-left: 1px solid gray;box-sizing: border-box;top: 0;bottom: 0;left: 50%;z-index: -1;}#sk-container-id-6 div.sk-parallel-item {display: flex;flex-direction: column;z-index: 1;position: relative;background-color: white;}#sk-container-id-6 div.sk-parallel-item:first-child::after {align-self: flex-end;width: 50%;}#sk-container-id-6 div.sk-parallel-item:last-child::after {align-self: flex-start;width: 50%;}#sk-container-id-6 div.sk-parallel-item:only-child::after {width: 0;}#sk-container-id-6 div.sk-dashed-wrapped {border: 1px dashed gray;margin: 0 0.4em 0.5em 0.4em;box-sizing: border-box;padding-bottom: 0.4em;background-color: white;}#sk-container-id-6 div.sk-label label {font-family: monospace;font-weight: bold;display: inline-block;line-height: 1.2em;}#sk-container-id-6 div.sk-label-container {text-align: center;}#sk-container-id-6 div.sk-container {/* jupyter's `normalize.less` sets `[hidden] { display: none; }` but bootstrap.min.css set `[hidden] { display: none !important; }` so we also need the `!important` here to be able to override the default hidden behavior on the sphinx rendered scikit-learn.org. See: https://github.com/scikit-learn/scikit-learn/issues/21755 */display: inline-block !important;position: relative;}#sk-container-id-6 div.sk-text-repr-fallback {display: none;}</style><div id=\"sk-container-id-6\" class=\"sk-top-container\"><div class=\"sk-text-repr-fallback\"><pre>LinearRegression()</pre><b>In a Jupyter environment, please rerun this cell to show the HTML representation or trust the notebook. <br />On GitHub, the HTML representation is unable to render, please try loading this page with nbviewer.org.</b></div><div class=\"sk-container\" hidden><div class=\"sk-item\"><div class=\"sk-estimator sk-toggleable\"><input class=\"sk-toggleable__control sk-hidden--visually\" id=\"sk-estimator-id-6\" type=\"checkbox\" checked><label for=\"sk-estimator-id-6\" class=\"sk-toggleable__label sk-toggleable__label-arrow\">LinearRegression</label><div class=\"sk-toggleable__content\"><pre>LinearRegression()</pre></div></div></div></div></div>"
            ]
          },
          "metadata": {},
          "execution_count": 59
        }
      ]
    },
    {
      "cell_type": "code",
      "source": [
        "linearRegr.score(features_test, labels_test)"
      ],
      "metadata": {
        "colab": {
          "base_uri": "https://localhost:8080/"
        },
        "id": "ySgbrYSDxtM7",
        "outputId": "0461a1a9-b134-4d73-827e-d5773b569762"
      },
      "execution_count": null,
      "outputs": [
        {
          "output_type": "execute_result",
          "data": {
            "text/plain": [
              "0.8418697177901076"
            ]
          },
          "metadata": {},
          "execution_count": 60
        }
      ]
    },
    {
      "cell_type": "code",
      "source": [
        "y_pred = linearRegr.predict(features_test)\n",
        "perf_df = print_metrics(labels_test, y_pred, \"LinearRegression\", perf_df)"
      ],
      "metadata": {
        "colab": {
          "base_uri": "https://localhost:8080/"
        },
        "id": "zlM_zA1sxyaL",
        "outputId": "23c467fe-0000-4ef3-92e5-b076c8340315"
      },
      "execution_count": null,
      "outputs": [
        {
          "output_type": "stream",
          "name": "stdout",
          "text": [
            "MSE      : 2135.5693837084063\n",
            "\n",
            "RMSE     : 46.21222115099432\n",
            "\n",
            "MAE      : 13.330370558606768\n",
            "\n",
            "R2 Score : 0.8418697177901076\n",
            "\n"
          ]
        },
        {
          "output_type": "stream",
          "name": "stderr",
          "text": [
            "<ipython-input-58-bddba039b782>:14: FutureWarning: The frame.append method is deprecated and will be removed from pandas in a future version. Use pandas.concat instead.\n",
            "  perf_df = perf_df.append({\"Regressors\": regressor_name,\n"
          ]
        }
      ]
    },
    {
      "cell_type": "markdown",
      "source": [
        "## Decision Tree"
      ],
      "metadata": {
        "id": "nsACVGqlyLGA"
      }
    },
    {
      "cell_type": "code",
      "source": [
        "decRegr = DecisionTreeRegressor()\n",
        "decRegr.fit(features_train, labels_train)"
      ],
      "metadata": {
        "colab": {
          "base_uri": "https://localhost:8080/",
          "height": 74
        },
        "id": "14VeTTtJyMuf",
        "outputId": "2bdd47d7-bb95-4dce-96e9-b15195ba3f60"
      },
      "execution_count": null,
      "outputs": [
        {
          "output_type": "execute_result",
          "data": {
            "text/plain": [
              "DecisionTreeRegressor()"
            ],
            "text/html": [
              "<style>#sk-container-id-7 {color: black;background-color: white;}#sk-container-id-7 pre{padding: 0;}#sk-container-id-7 div.sk-toggleable {background-color: white;}#sk-container-id-7 label.sk-toggleable__label {cursor: pointer;display: block;width: 100%;margin-bottom: 0;padding: 0.3em;box-sizing: border-box;text-align: center;}#sk-container-id-7 label.sk-toggleable__label-arrow:before {content: \"▸\";float: left;margin-right: 0.25em;color: #696969;}#sk-container-id-7 label.sk-toggleable__label-arrow:hover:before {color: black;}#sk-container-id-7 div.sk-estimator:hover label.sk-toggleable__label-arrow:before {color: black;}#sk-container-id-7 div.sk-toggleable__content {max-height: 0;max-width: 0;overflow: hidden;text-align: left;background-color: #f0f8ff;}#sk-container-id-7 div.sk-toggleable__content pre {margin: 0.2em;color: black;border-radius: 0.25em;background-color: #f0f8ff;}#sk-container-id-7 input.sk-toggleable__control:checked~div.sk-toggleable__content {max-height: 200px;max-width: 100%;overflow: auto;}#sk-container-id-7 input.sk-toggleable__control:checked~label.sk-toggleable__label-arrow:before {content: \"▾\";}#sk-container-id-7 div.sk-estimator input.sk-toggleable__control:checked~label.sk-toggleable__label {background-color: #d4ebff;}#sk-container-id-7 div.sk-label input.sk-toggleable__control:checked~label.sk-toggleable__label {background-color: #d4ebff;}#sk-container-id-7 input.sk-hidden--visually {border: 0;clip: rect(1px 1px 1px 1px);clip: rect(1px, 1px, 1px, 1px);height: 1px;margin: -1px;overflow: hidden;padding: 0;position: absolute;width: 1px;}#sk-container-id-7 div.sk-estimator {font-family: monospace;background-color: #f0f8ff;border: 1px dotted black;border-radius: 0.25em;box-sizing: border-box;margin-bottom: 0.5em;}#sk-container-id-7 div.sk-estimator:hover {background-color: #d4ebff;}#sk-container-id-7 div.sk-parallel-item::after {content: \"\";width: 100%;border-bottom: 1px solid gray;flex-grow: 1;}#sk-container-id-7 div.sk-label:hover label.sk-toggleable__label {background-color: #d4ebff;}#sk-container-id-7 div.sk-serial::before {content: \"\";position: absolute;border-left: 1px solid gray;box-sizing: border-box;top: 0;bottom: 0;left: 50%;z-index: 0;}#sk-container-id-7 div.sk-serial {display: flex;flex-direction: column;align-items: center;background-color: white;padding-right: 0.2em;padding-left: 0.2em;position: relative;}#sk-container-id-7 div.sk-item {position: relative;z-index: 1;}#sk-container-id-7 div.sk-parallel {display: flex;align-items: stretch;justify-content: center;background-color: white;position: relative;}#sk-container-id-7 div.sk-item::before, #sk-container-id-7 div.sk-parallel-item::before {content: \"\";position: absolute;border-left: 1px solid gray;box-sizing: border-box;top: 0;bottom: 0;left: 50%;z-index: -1;}#sk-container-id-7 div.sk-parallel-item {display: flex;flex-direction: column;z-index: 1;position: relative;background-color: white;}#sk-container-id-7 div.sk-parallel-item:first-child::after {align-self: flex-end;width: 50%;}#sk-container-id-7 div.sk-parallel-item:last-child::after {align-self: flex-start;width: 50%;}#sk-container-id-7 div.sk-parallel-item:only-child::after {width: 0;}#sk-container-id-7 div.sk-dashed-wrapped {border: 1px dashed gray;margin: 0 0.4em 0.5em 0.4em;box-sizing: border-box;padding-bottom: 0.4em;background-color: white;}#sk-container-id-7 div.sk-label label {font-family: monospace;font-weight: bold;display: inline-block;line-height: 1.2em;}#sk-container-id-7 div.sk-label-container {text-align: center;}#sk-container-id-7 div.sk-container {/* jupyter's `normalize.less` sets `[hidden] { display: none; }` but bootstrap.min.css set `[hidden] { display: none !important; }` so we also need the `!important` here to be able to override the default hidden behavior on the sphinx rendered scikit-learn.org. See: https://github.com/scikit-learn/scikit-learn/issues/21755 */display: inline-block !important;position: relative;}#sk-container-id-7 div.sk-text-repr-fallback {display: none;}</style><div id=\"sk-container-id-7\" class=\"sk-top-container\"><div class=\"sk-text-repr-fallback\"><pre>DecisionTreeRegressor()</pre><b>In a Jupyter environment, please rerun this cell to show the HTML representation or trust the notebook. <br />On GitHub, the HTML representation is unable to render, please try loading this page with nbviewer.org.</b></div><div class=\"sk-container\" hidden><div class=\"sk-item\"><div class=\"sk-estimator sk-toggleable\"><input class=\"sk-toggleable__control sk-hidden--visually\" id=\"sk-estimator-id-7\" type=\"checkbox\" checked><label for=\"sk-estimator-id-7\" class=\"sk-toggleable__label sk-toggleable__label-arrow\">DecisionTreeRegressor</label><div class=\"sk-toggleable__content\"><pre>DecisionTreeRegressor()</pre></div></div></div></div></div>"
            ]
          },
          "metadata": {},
          "execution_count": 62
        }
      ]
    },
    {
      "cell_type": "code",
      "source": [
        "decRegr.score(features_test, labels_test)"
      ],
      "metadata": {
        "colab": {
          "base_uri": "https://localhost:8080/"
        },
        "id": "lFA2UAS4yiUR",
        "outputId": "3d765a3c-d992-4a7f-f85a-1c44507861b4"
      },
      "execution_count": null,
      "outputs": [
        {
          "output_type": "execute_result",
          "data": {
            "text/plain": [
              "0.8031454689895507"
            ]
          },
          "metadata": {},
          "execution_count": 63
        }
      ]
    },
    {
      "cell_type": "code",
      "source": [
        "y_pred = decRegr.predict(features_test)\n",
        "perf_df = print_metrics(labels_test, y_pred, \"DecisionRegression\", perf_df)"
      ],
      "metadata": {
        "colab": {
          "base_uri": "https://localhost:8080/"
        },
        "id": "aDbex8rRymZy",
        "outputId": "eb357479-f440-4a8f-843a-bd230b7de42d"
      },
      "execution_count": null,
      "outputs": [
        {
          "output_type": "stream",
          "name": "stdout",
          "text": [
            "MSE      : 2658.5452425373132\n",
            "\n",
            "RMSE     : 51.56108263542682\n",
            "\n",
            "MAE      : 15.193563432835822\n",
            "\n",
            "R2 Score : 0.8031454689895507\n",
            "\n"
          ]
        },
        {
          "output_type": "stream",
          "name": "stderr",
          "text": [
            "<ipython-input-58-bddba039b782>:14: FutureWarning: The frame.append method is deprecated and will be removed from pandas in a future version. Use pandas.concat instead.\n",
            "  perf_df = perf_df.append({\"Regressors\": regressor_name,\n"
          ]
        }
      ]
    },
    {
      "cell_type": "markdown",
      "source": [
        "## Random Forest"
      ],
      "metadata": {
        "id": "RKExoG3hy8Ln"
      }
    },
    {
      "cell_type": "code",
      "source": [
        "rfRegr = RandomForestRegressor()\n",
        "rfRegr.fit(features_train, labels_train)"
      ],
      "metadata": {
        "colab": {
          "base_uri": "https://localhost:8080/",
          "height": 74
        },
        "id": "fk1xAZFSyspy",
        "outputId": "a436bbc9-a068-475a-8f19-627677594d84"
      },
      "execution_count": null,
      "outputs": [
        {
          "output_type": "execute_result",
          "data": {
            "text/plain": [
              "RandomForestRegressor()"
            ],
            "text/html": [
              "<style>#sk-container-id-8 {color: black;background-color: white;}#sk-container-id-8 pre{padding: 0;}#sk-container-id-8 div.sk-toggleable {background-color: white;}#sk-container-id-8 label.sk-toggleable__label {cursor: pointer;display: block;width: 100%;margin-bottom: 0;padding: 0.3em;box-sizing: border-box;text-align: center;}#sk-container-id-8 label.sk-toggleable__label-arrow:before {content: \"▸\";float: left;margin-right: 0.25em;color: #696969;}#sk-container-id-8 label.sk-toggleable__label-arrow:hover:before {color: black;}#sk-container-id-8 div.sk-estimator:hover label.sk-toggleable__label-arrow:before {color: black;}#sk-container-id-8 div.sk-toggleable__content {max-height: 0;max-width: 0;overflow: hidden;text-align: left;background-color: #f0f8ff;}#sk-container-id-8 div.sk-toggleable__content pre {margin: 0.2em;color: black;border-radius: 0.25em;background-color: #f0f8ff;}#sk-container-id-8 input.sk-toggleable__control:checked~div.sk-toggleable__content {max-height: 200px;max-width: 100%;overflow: auto;}#sk-container-id-8 input.sk-toggleable__control:checked~label.sk-toggleable__label-arrow:before {content: \"▾\";}#sk-container-id-8 div.sk-estimator input.sk-toggleable__control:checked~label.sk-toggleable__label {background-color: #d4ebff;}#sk-container-id-8 div.sk-label input.sk-toggleable__control:checked~label.sk-toggleable__label {background-color: #d4ebff;}#sk-container-id-8 input.sk-hidden--visually {border: 0;clip: rect(1px 1px 1px 1px);clip: rect(1px, 1px, 1px, 1px);height: 1px;margin: -1px;overflow: hidden;padding: 0;position: absolute;width: 1px;}#sk-container-id-8 div.sk-estimator {font-family: monospace;background-color: #f0f8ff;border: 1px dotted black;border-radius: 0.25em;box-sizing: border-box;margin-bottom: 0.5em;}#sk-container-id-8 div.sk-estimator:hover {background-color: #d4ebff;}#sk-container-id-8 div.sk-parallel-item::after {content: \"\";width: 100%;border-bottom: 1px solid gray;flex-grow: 1;}#sk-container-id-8 div.sk-label:hover label.sk-toggleable__label {background-color: #d4ebff;}#sk-container-id-8 div.sk-serial::before {content: \"\";position: absolute;border-left: 1px solid gray;box-sizing: border-box;top: 0;bottom: 0;left: 50%;z-index: 0;}#sk-container-id-8 div.sk-serial {display: flex;flex-direction: column;align-items: center;background-color: white;padding-right: 0.2em;padding-left: 0.2em;position: relative;}#sk-container-id-8 div.sk-item {position: relative;z-index: 1;}#sk-container-id-8 div.sk-parallel {display: flex;align-items: stretch;justify-content: center;background-color: white;position: relative;}#sk-container-id-8 div.sk-item::before, #sk-container-id-8 div.sk-parallel-item::before {content: \"\";position: absolute;border-left: 1px solid gray;box-sizing: border-box;top: 0;bottom: 0;left: 50%;z-index: -1;}#sk-container-id-8 div.sk-parallel-item {display: flex;flex-direction: column;z-index: 1;position: relative;background-color: white;}#sk-container-id-8 div.sk-parallel-item:first-child::after {align-self: flex-end;width: 50%;}#sk-container-id-8 div.sk-parallel-item:last-child::after {align-self: flex-start;width: 50%;}#sk-container-id-8 div.sk-parallel-item:only-child::after {width: 0;}#sk-container-id-8 div.sk-dashed-wrapped {border: 1px dashed gray;margin: 0 0.4em 0.5em 0.4em;box-sizing: border-box;padding-bottom: 0.4em;background-color: white;}#sk-container-id-8 div.sk-label label {font-family: monospace;font-weight: bold;display: inline-block;line-height: 1.2em;}#sk-container-id-8 div.sk-label-container {text-align: center;}#sk-container-id-8 div.sk-container {/* jupyter's `normalize.less` sets `[hidden] { display: none; }` but bootstrap.min.css set `[hidden] { display: none !important; }` so we also need the `!important` here to be able to override the default hidden behavior on the sphinx rendered scikit-learn.org. See: https://github.com/scikit-learn/scikit-learn/issues/21755 */display: inline-block !important;position: relative;}#sk-container-id-8 div.sk-text-repr-fallback {display: none;}</style><div id=\"sk-container-id-8\" class=\"sk-top-container\"><div class=\"sk-text-repr-fallback\"><pre>RandomForestRegressor()</pre><b>In a Jupyter environment, please rerun this cell to show the HTML representation or trust the notebook. <br />On GitHub, the HTML representation is unable to render, please try loading this page with nbviewer.org.</b></div><div class=\"sk-container\" hidden><div class=\"sk-item\"><div class=\"sk-estimator sk-toggleable\"><input class=\"sk-toggleable__control sk-hidden--visually\" id=\"sk-estimator-id-8\" type=\"checkbox\" checked><label for=\"sk-estimator-id-8\" class=\"sk-toggleable__label sk-toggleable__label-arrow\">RandomForestRegressor</label><div class=\"sk-toggleable__content\"><pre>RandomForestRegressor()</pre></div></div></div></div></div>"
            ]
          },
          "metadata": {},
          "execution_count": 65
        }
      ]
    },
    {
      "cell_type": "code",
      "source": [
        "rfRegr.score(features_test, labels_test)"
      ],
      "metadata": {
        "colab": {
          "base_uri": "https://localhost:8080/"
        },
        "id": "sImwLwLBzGUk",
        "outputId": "f0f2adde-19ee-4369-f734-1306bd28587f"
      },
      "execution_count": null,
      "outputs": [
        {
          "output_type": "execute_result",
          "data": {
            "text/plain": [
              "0.8918028569054879"
            ]
          },
          "metadata": {},
          "execution_count": 66
        }
      ]
    },
    {
      "cell_type": "code",
      "source": [
        "y_pred = rfRegr.predict(features_test)\n",
        "perf_df = print_metrics(labels_test, y_pred, \"Random Forest Regression\", perf_df)"
      ],
      "metadata": {
        "colab": {
          "base_uri": "https://localhost:8080/"
        },
        "id": "5Hpy9WU4zPnP",
        "outputId": "d711216e-89e1-4823-c17e-ac693f73f6f0"
      },
      "execution_count": null,
      "outputs": [
        {
          "output_type": "stream",
          "name": "stdout",
          "text": [
            "MSE      : 1461.2160489959747\n",
            "\n",
            "RMSE     : 38.22585576538444\n",
            "\n",
            "MAE      : 11.507815642768302\n",
            "\n",
            "R2 Score : 0.8918028569054879\n",
            "\n"
          ]
        },
        {
          "output_type": "stream",
          "name": "stderr",
          "text": [
            "<ipython-input-58-bddba039b782>:14: FutureWarning: The frame.append method is deprecated and will be removed from pandas in a future version. Use pandas.concat instead.\n",
            "  perf_df = perf_df.append({\"Regressors\": regressor_name,\n"
          ]
        }
      ]
    },
    {
      "cell_type": "markdown",
      "source": [
        "## XGBoost Regression"
      ],
      "metadata": {
        "id": "Ue9iy7Bg01xF"
      }
    },
    {
      "cell_type": "code",
      "source": [
        "xgRegr = GradientBoostingRegressor()\n",
        "xgRegr.fit(features_train, labels_train)"
      ],
      "metadata": {
        "colab": {
          "base_uri": "https://localhost:8080/",
          "height": 74
        },
        "id": "WNYVReEH07M0",
        "outputId": "e6696bbf-5faf-42ba-ed8c-4fc4e69567ea"
      },
      "execution_count": null,
      "outputs": [
        {
          "output_type": "execute_result",
          "data": {
            "text/plain": [
              "GradientBoostingRegressor()"
            ],
            "text/html": [
              "<style>#sk-container-id-9 {color: black;background-color: white;}#sk-container-id-9 pre{padding: 0;}#sk-container-id-9 div.sk-toggleable {background-color: white;}#sk-container-id-9 label.sk-toggleable__label {cursor: pointer;display: block;width: 100%;margin-bottom: 0;padding: 0.3em;box-sizing: border-box;text-align: center;}#sk-container-id-9 label.sk-toggleable__label-arrow:before {content: \"▸\";float: left;margin-right: 0.25em;color: #696969;}#sk-container-id-9 label.sk-toggleable__label-arrow:hover:before {color: black;}#sk-container-id-9 div.sk-estimator:hover label.sk-toggleable__label-arrow:before {color: black;}#sk-container-id-9 div.sk-toggleable__content {max-height: 0;max-width: 0;overflow: hidden;text-align: left;background-color: #f0f8ff;}#sk-container-id-9 div.sk-toggleable__content pre {margin: 0.2em;color: black;border-radius: 0.25em;background-color: #f0f8ff;}#sk-container-id-9 input.sk-toggleable__control:checked~div.sk-toggleable__content {max-height: 200px;max-width: 100%;overflow: auto;}#sk-container-id-9 input.sk-toggleable__control:checked~label.sk-toggleable__label-arrow:before {content: \"▾\";}#sk-container-id-9 div.sk-estimator input.sk-toggleable__control:checked~label.sk-toggleable__label {background-color: #d4ebff;}#sk-container-id-9 div.sk-label input.sk-toggleable__control:checked~label.sk-toggleable__label {background-color: #d4ebff;}#sk-container-id-9 input.sk-hidden--visually {border: 0;clip: rect(1px 1px 1px 1px);clip: rect(1px, 1px, 1px, 1px);height: 1px;margin: -1px;overflow: hidden;padding: 0;position: absolute;width: 1px;}#sk-container-id-9 div.sk-estimator {font-family: monospace;background-color: #f0f8ff;border: 1px dotted black;border-radius: 0.25em;box-sizing: border-box;margin-bottom: 0.5em;}#sk-container-id-9 div.sk-estimator:hover {background-color: #d4ebff;}#sk-container-id-9 div.sk-parallel-item::after {content: \"\";width: 100%;border-bottom: 1px solid gray;flex-grow: 1;}#sk-container-id-9 div.sk-label:hover label.sk-toggleable__label {background-color: #d4ebff;}#sk-container-id-9 div.sk-serial::before {content: \"\";position: absolute;border-left: 1px solid gray;box-sizing: border-box;top: 0;bottom: 0;left: 50%;z-index: 0;}#sk-container-id-9 div.sk-serial {display: flex;flex-direction: column;align-items: center;background-color: white;padding-right: 0.2em;padding-left: 0.2em;position: relative;}#sk-container-id-9 div.sk-item {position: relative;z-index: 1;}#sk-container-id-9 div.sk-parallel {display: flex;align-items: stretch;justify-content: center;background-color: white;position: relative;}#sk-container-id-9 div.sk-item::before, #sk-container-id-9 div.sk-parallel-item::before {content: \"\";position: absolute;border-left: 1px solid gray;box-sizing: border-box;top: 0;bottom: 0;left: 50%;z-index: -1;}#sk-container-id-9 div.sk-parallel-item {display: flex;flex-direction: column;z-index: 1;position: relative;background-color: white;}#sk-container-id-9 div.sk-parallel-item:first-child::after {align-self: flex-end;width: 50%;}#sk-container-id-9 div.sk-parallel-item:last-child::after {align-self: flex-start;width: 50%;}#sk-container-id-9 div.sk-parallel-item:only-child::after {width: 0;}#sk-container-id-9 div.sk-dashed-wrapped {border: 1px dashed gray;margin: 0 0.4em 0.5em 0.4em;box-sizing: border-box;padding-bottom: 0.4em;background-color: white;}#sk-container-id-9 div.sk-label label {font-family: monospace;font-weight: bold;display: inline-block;line-height: 1.2em;}#sk-container-id-9 div.sk-label-container {text-align: center;}#sk-container-id-9 div.sk-container {/* jupyter's `normalize.less` sets `[hidden] { display: none; }` but bootstrap.min.css set `[hidden] { display: none !important; }` so we also need the `!important` here to be able to override the default hidden behavior on the sphinx rendered scikit-learn.org. See: https://github.com/scikit-learn/scikit-learn/issues/21755 */display: inline-block !important;position: relative;}#sk-container-id-9 div.sk-text-repr-fallback {display: none;}</style><div id=\"sk-container-id-9\" class=\"sk-top-container\"><div class=\"sk-text-repr-fallback\"><pre>GradientBoostingRegressor()</pre><b>In a Jupyter environment, please rerun this cell to show the HTML representation or trust the notebook. <br />On GitHub, the HTML representation is unable to render, please try loading this page with nbviewer.org.</b></div><div class=\"sk-container\" hidden><div class=\"sk-item\"><div class=\"sk-estimator sk-toggleable\"><input class=\"sk-toggleable__control sk-hidden--visually\" id=\"sk-estimator-id-9\" type=\"checkbox\" checked><label for=\"sk-estimator-id-9\" class=\"sk-toggleable__label sk-toggleable__label-arrow\">GradientBoostingRegressor</label><div class=\"sk-toggleable__content\"><pre>GradientBoostingRegressor()</pre></div></div></div></div></div>"
            ]
          },
          "metadata": {},
          "execution_count": 68
        }
      ]
    },
    {
      "cell_type": "code",
      "source": [
        "y_pred = xgRegr.predict(features_test)\n",
        "perf_df = print_metrics(labels_test, y_pred, \"GradientBoostingRegressor\", perf_df)"
      ],
      "metadata": {
        "colab": {
          "base_uri": "https://localhost:8080/"
        },
        "id": "Lpdho2Ha1MAG",
        "outputId": "6790a0d4-b72b-47ac-bf82-e1b4f4519720"
      },
      "execution_count": null,
      "outputs": [
        {
          "output_type": "stream",
          "name": "stdout",
          "text": [
            "MSE      : 1518.6547164758701\n",
            "\n",
            "RMSE     : 38.96992066294041\n",
            "\n",
            "MAE      : 12.39357944743555\n",
            "\n",
            "R2 Score : 0.8875497557102535\n",
            "\n"
          ]
        },
        {
          "output_type": "stream",
          "name": "stderr",
          "text": [
            "<ipython-input-58-bddba039b782>:14: FutureWarning: The frame.append method is deprecated and will be removed from pandas in a future version. Use pandas.concat instead.\n",
            "  perf_df = perf_df.append({\"Regressors\": regressor_name,\n"
          ]
        }
      ]
    },
    {
      "cell_type": "code",
      "source": [
        "perf_df.set_index(\"Regressors\", inplace=True)\n",
        "perf_df"
      ],
      "metadata": {
        "colab": {
          "base_uri": "https://localhost:8080/",
          "height": 206
        },
        "id": "PsT-mpUOzX5n",
        "outputId": "aa7ca4c6-d74b-43a0-dcb6-ba7f15d6fd14"
      },
      "execution_count": null,
      "outputs": [
        {
          "output_type": "execute_result",
          "data": {
            "text/plain": [
              "                                   MSE       RMSE        MAE        R2\n",
              "Regressors                                                            \n",
              "LinearRegression           2135.569384  46.212221  13.330371  0.841870\n",
              "DecisionRegression         2658.545243  51.561083  15.193563  0.803145\n",
              "Random Forest Regression   1461.216049  38.225856  11.507816  0.891803\n",
              "GradientBoostingRegressor  1518.654716  38.969921  12.393579  0.887550"
            ],
            "text/html": [
              "\n",
              "  <div id=\"df-7a995911-69af-4ee3-9565-422125691f75\">\n",
              "    <div class=\"colab-df-container\">\n",
              "      <div>\n",
              "<style scoped>\n",
              "    .dataframe tbody tr th:only-of-type {\n",
              "        vertical-align: middle;\n",
              "    }\n",
              "\n",
              "    .dataframe tbody tr th {\n",
              "        vertical-align: top;\n",
              "    }\n",
              "\n",
              "    .dataframe thead th {\n",
              "        text-align: right;\n",
              "    }\n",
              "</style>\n",
              "<table border=\"1\" class=\"dataframe\">\n",
              "  <thead>\n",
              "    <tr style=\"text-align: right;\">\n",
              "      <th></th>\n",
              "      <th>MSE</th>\n",
              "      <th>RMSE</th>\n",
              "      <th>MAE</th>\n",
              "      <th>R2</th>\n",
              "    </tr>\n",
              "    <tr>\n",
              "      <th>Regressors</th>\n",
              "      <th></th>\n",
              "      <th></th>\n",
              "      <th></th>\n",
              "      <th></th>\n",
              "    </tr>\n",
              "  </thead>\n",
              "  <tbody>\n",
              "    <tr>\n",
              "      <th>LinearRegression</th>\n",
              "      <td>2135.569384</td>\n",
              "      <td>46.212221</td>\n",
              "      <td>13.330371</td>\n",
              "      <td>0.841870</td>\n",
              "    </tr>\n",
              "    <tr>\n",
              "      <th>DecisionRegression</th>\n",
              "      <td>2658.545243</td>\n",
              "      <td>51.561083</td>\n",
              "      <td>15.193563</td>\n",
              "      <td>0.803145</td>\n",
              "    </tr>\n",
              "    <tr>\n",
              "      <th>Random Forest Regression</th>\n",
              "      <td>1461.216049</td>\n",
              "      <td>38.225856</td>\n",
              "      <td>11.507816</td>\n",
              "      <td>0.891803</td>\n",
              "    </tr>\n",
              "    <tr>\n",
              "      <th>GradientBoostingRegressor</th>\n",
              "      <td>1518.654716</td>\n",
              "      <td>38.969921</td>\n",
              "      <td>12.393579</td>\n",
              "      <td>0.887550</td>\n",
              "    </tr>\n",
              "  </tbody>\n",
              "</table>\n",
              "</div>\n",
              "      <button class=\"colab-df-convert\" onclick=\"convertToInteractive('df-7a995911-69af-4ee3-9565-422125691f75')\"\n",
              "              title=\"Convert this dataframe to an interactive table.\"\n",
              "              style=\"display:none;\">\n",
              "        \n",
              "  <svg xmlns=\"http://www.w3.org/2000/svg\" height=\"24px\"viewBox=\"0 0 24 24\"\n",
              "       width=\"24px\">\n",
              "    <path d=\"M0 0h24v24H0V0z\" fill=\"none\"/>\n",
              "    <path d=\"M18.56 5.44l.94 2.06.94-2.06 2.06-.94-2.06-.94-.94-2.06-.94 2.06-2.06.94zm-11 1L8.5 8.5l.94-2.06 2.06-.94-2.06-.94L8.5 2.5l-.94 2.06-2.06.94zm10 10l.94 2.06.94-2.06 2.06-.94-2.06-.94-.94-2.06-.94 2.06-2.06.94z\"/><path d=\"M17.41 7.96l-1.37-1.37c-.4-.4-.92-.59-1.43-.59-.52 0-1.04.2-1.43.59L10.3 9.45l-7.72 7.72c-.78.78-.78 2.05 0 2.83L4 21.41c.39.39.9.59 1.41.59.51 0 1.02-.2 1.41-.59l7.78-7.78 2.81-2.81c.8-.78.8-2.07 0-2.86zM5.41 20L4 18.59l7.72-7.72 1.47 1.35L5.41 20z\"/>\n",
              "  </svg>\n",
              "      </button>\n",
              "      \n",
              "  <style>\n",
              "    .colab-df-container {\n",
              "      display:flex;\n",
              "      flex-wrap:wrap;\n",
              "      gap: 12px;\n",
              "    }\n",
              "\n",
              "    .colab-df-convert {\n",
              "      background-color: #E8F0FE;\n",
              "      border: none;\n",
              "      border-radius: 50%;\n",
              "      cursor: pointer;\n",
              "      display: none;\n",
              "      fill: #1967D2;\n",
              "      height: 32px;\n",
              "      padding: 0 0 0 0;\n",
              "      width: 32px;\n",
              "    }\n",
              "\n",
              "    .colab-df-convert:hover {\n",
              "      background-color: #E2EBFA;\n",
              "      box-shadow: 0px 1px 2px rgba(60, 64, 67, 0.3), 0px 1px 3px 1px rgba(60, 64, 67, 0.15);\n",
              "      fill: #174EA6;\n",
              "    }\n",
              "\n",
              "    [theme=dark] .colab-df-convert {\n",
              "      background-color: #3B4455;\n",
              "      fill: #D2E3FC;\n",
              "    }\n",
              "\n",
              "    [theme=dark] .colab-df-convert:hover {\n",
              "      background-color: #434B5C;\n",
              "      box-shadow: 0px 1px 3px 1px rgba(0, 0, 0, 0.15);\n",
              "      filter: drop-shadow(0px 1px 2px rgba(0, 0, 0, 0.3));\n",
              "      fill: #FFFFFF;\n",
              "    }\n",
              "  </style>\n",
              "\n",
              "      <script>\n",
              "        const buttonEl =\n",
              "          document.querySelector('#df-7a995911-69af-4ee3-9565-422125691f75 button.colab-df-convert');\n",
              "        buttonEl.style.display =\n",
              "          google.colab.kernel.accessAllowed ? 'block' : 'none';\n",
              "\n",
              "        async function convertToInteractive(key) {\n",
              "          const element = document.querySelector('#df-7a995911-69af-4ee3-9565-422125691f75');\n",
              "          const dataTable =\n",
              "            await google.colab.kernel.invokeFunction('convertToInteractive',\n",
              "                                                     [key], {});\n",
              "          if (!dataTable) return;\n",
              "\n",
              "          const docLinkHtml = 'Like what you see? Visit the ' +\n",
              "            '<a target=\"_blank\" href=https://colab.research.google.com/notebooks/data_table.ipynb>data table notebook</a>'\n",
              "            + ' to learn more about interactive tables.';\n",
              "          element.innerHTML = '';\n",
              "          dataTable['output_type'] = 'display_data';\n",
              "          await google.colab.output.renderOutput(dataTable, element);\n",
              "          const docLink = document.createElement('div');\n",
              "          docLink.innerHTML = docLinkHtml;\n",
              "          element.appendChild(docLink);\n",
              "        }\n",
              "      </script>\n",
              "    </div>\n",
              "  </div>\n",
              "  "
            ]
          },
          "metadata": {},
          "execution_count": 70
        }
      ]
    },
    {
      "cell_type": "code",
      "source": [],
      "metadata": {
        "id": "gk5lKDepnZeb"
      },
      "execution_count": null,
      "outputs": []
    }
  ]
}